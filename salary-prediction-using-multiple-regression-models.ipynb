{
 "cells": [
  {
   "cell_type": "markdown",
   "id": "c779f3c7",
   "metadata": {
    "id": "c779f3c7",
    "papermill": {
     "duration": 0.005926,
     "end_time": "2025-06-29T18:57:47.402596",
     "exception": false,
     "start_time": "2025-06-29T18:57:47.396670",
     "status": "completed"
    },
    "tags": []
   },
   "source": [
    "---\n",
    "\n",
    "##  Dataset Summary: `salaries.csv`\n",
    "\n",
    "https://www.kaggle.com/code/muhammedaliyilmazz/salary-prediction-using-multiple-regression-models\n",
    "\n",
    "This dataset contains **133,349 rows** and **11 columns**, each representing various attributes related to tech or data job roles and their corresponding salaries. The target variable is `salary_in_usd`, which represents the normalized annual salary of each employee in USD.\n",
    "\n",
    "The dataset provides a comprehensive view of salaries based on multiple demographic, job-related, and company-related factors.\n",
    "\n",
    "---\n",
    "\n",
    "##  Feature Descriptions\n",
    "\n",
    "| Column Name                                       | Data Type   | Description                                                                                                                                                   |\n",
    "| ------------------------------------------------- | ----------- | ------------------------------------------------------------------------------------------------------------------------------------------------------------- |\n",
    "| **`work_year`**                                   | Integer     | The year in which the salary data was reported (e.g., 2023, 2024, 2025). Useful for time-based salary trends.                                                 |\n",
    "| **`experience_level`**                            | Categorical | The level of experience the employee has:                                                                                                                     |\n",
    "| → `EN`: Entry-level                               |             |                                                                                                                                                               |\n",
    "| → `MI`: Mid-level                                 |             |                                                                                                                                                               |\n",
    "| → `SE`: Senior-level                              |             |                                                                                                                                                               |\n",
    "| → `EX`: Executive-level                           |             |                                                                                                                                                               |\n",
    "| **`employment_type`**                             | Categorical | Type of employment contract:                                                                                                                                  |\n",
    "| → `FT`: Full-time                                 |             |                                                                                                                                                               |\n",
    "| → `PT`: Part-time                                 |             |                                                                                                                                                               |\n",
    "| → `CT`: Contract-based                            |             |                                                                                                                                                               |\n",
    "| → `FL`: Freelance                                 |             |                                                                                                                                                               |\n",
    "| **`job_title`**                                   | Text        | The employee’s job role, such as `Data Scientist`, `ML Engineer`, `Data Analyst`, `Software Engineer`, etc. Useful for analyzing role-specific salary trends. |\n",
    "| **`salary`**                                      | Numeric     | The employee's gross salary in the original currency before conversion. Not standardized, so less useful for comparison.                                      |\n",
    "| **`salary_currency`**                             | Text        | The original currency code in which the salary was paid (e.g., USD, EUR, INR).                                                                                |\n",
    "| **`salary_in_usd`**                               | Numeric     | 🔥 **Target variable** — The employee’s annual salary converted into USD. This is what we aim to predict.                                                     |\n",
    "| **`employee_residence`**                          | Text        | The country where the employee resides, regardless of the company's location. Used to detect geographic salary disparities.                                   |\n",
    "| **`remote_ratio`**                                | Integer     | Percentage of remote work:                                                                                                                                    |\n",
    "| → `0`: On-site                                    |             |                                                                                                                                                               |\n",
    "| → `50`: Hybrid                                    |             |                                                                                                                                                               |\n",
    "| → `100`: Fully remote                             |             |                                                                                                                                                               |\n",
    "| Affects salary depending on remote work policies. |             |                                                                                                                                                               |\n",
    "| **`company_location`**                            | Text        | Country where the company is headquartered. Used for regional company-level salary comparisons.                                                               |\n",
    "| **`company_size`**                                | Categorical | Company scale:                                                                                                                                                |\n",
    "| → `S`: Small (1–50 employees)                     |             |                                                                                                                                                               |\n",
    "| → `M`: Medium (51–250 employees)                  |             |                                                                                                                                                               |\n",
    "| → `L`: Large (251+ employees)                     |             |                                                                                                                                                               |\n",
    "| Often correlates with salary range.               |             |                                                                                                                                                               |\n",
    "\n",
    "---"
   ]
  },
  {
   "cell_type": "markdown",
   "id": "b1cb76bf",
   "metadata": {
    "id": "b1cb76bf",
    "papermill": {
     "duration": 0.004687,
     "end_time": "2025-06-29T18:57:47.412475",
     "exception": false,
     "start_time": "2025-06-29T18:57:47.407788",
     "status": "completed"
    },
    "tags": []
   },
   "source": [
    "# STEP 1: Import Required Libraries"
   ]
  },
  {
   "cell_type": "code",
   "execution_count": 1,
   "id": "924ace79",
   "metadata": {
    "_cell_guid": "b1076dfc-b9ad-4769-8c92-a6c4dae69d19",
    "_uuid": "8f2839f25d086af736a60e9eeb907d3b93b6e0e5",
    "colab": {
     "base_uri": "https://localhost:8080/",
     "height": 54
    },
    "execution": {
     "iopub.execute_input": "2025-06-29T18:57:47.423323Z",
     "iopub.status.busy": "2025-06-29T18:57:47.423018Z",
     "iopub.status.idle": "2025-06-29T18:57:52.728230Z",
     "shell.execute_reply": "2025-06-29T18:57:52.727294Z"
    },
    "executionInfo": {
     "elapsed": 4509,
     "status": "ok",
     "timestamp": 1752092944451,
     "user": {
      "displayName": "Aitor Donado",
      "userId": "08246046509718212083"
     },
     "user_tz": -120
    },
    "id": "924ace79",
    "outputId": "4cae629e-41f1-43fb-b5b5-166278a79a12",
    "papermill": {
     "duration": 5.312434,
     "end_time": "2025-06-29T18:57:52.729655",
     "exception": false,
     "start_time": "2025-06-29T18:57:47.417221",
     "status": "completed"
    },
    "tags": []
   },
   "outputs": [
    {
     "data": {
      "application/vnd.google.colaboratory.intrinsic+json": {
       "type": "string"
      },
      "text/plain": [
       "\"\\nfor dirname, _, filenames in os.walk('/kaggle/input'):\\n    for filename in filenames:\\n        print(os.path.join(dirname, filename))\\n\""
      ]
     },
     "execution_count": 1,
     "metadata": {},
     "output_type": "execute_result"
    }
   ],
   "source": [
    "# This Python 3 environment comes with many helpful analytics libraries installed\n",
    "# It is defined by the kaggle/python Docker image: https://github.com/kaggle/docker-python\n",
    "# For example, here's several helpful packages to load\n",
    "\n",
    "import numpy as np # linear algebra\n",
    "import pandas as pd # data processing, CSV file I/O (e.g. pd.read_csv)\n",
    "import matplotlib.pyplot as plt\n",
    "import seaborn as sns\n",
    "from sklearn.model_selection import train_test_split\n",
    "from sklearn.preprocessing import LabelEncoder, StandardScaler\n",
    "from sklearn.linear_model import LinearRegression, Ridge, Lasso\n",
    "from sklearn.ensemble import RandomForestRegressor, GradientBoostingRegressor, AdaBoostRegressor, ExtraTreesRegressor\n",
    "from sklearn.svm import SVR\n",
    "from sklearn.neighbors import KNeighborsRegressor\n",
    "from sklearn.metrics import mean_squared_error, r2_score\n",
    "# Input data files are available in the read-only \"../input/\" directory\n",
    "# For example, running this (by clicking run or pressing Shift+Enter) will list all files under the input directory\n",
    "import warnings\n",
    "warnings.filterwarnings(\"ignore\")\n",
    "import os\n",
    "\"\"\"\n",
    "for dirname, _, filenames in os.walk('/kaggle/input'):\n",
    "    for filename in filenames:\n",
    "        print(os.path.join(dirname, filename))\n",
    "\"\"\"\n",
    "\n",
    "# You can write up to 20GB to the current directory (/kaggle/working/) that gets preserved as output when you create a version using \"Save & Run All\"\n",
    "# You can also write temporary files to /kaggle/temp/, but they won't be saved outside of the current session"
   ]
  },
  {
   "cell_type": "markdown",
   "id": "280e3ead",
   "metadata": {
    "id": "280e3ead",
    "papermill": {
     "duration": 0.005678,
     "end_time": "2025-06-29T18:57:52.740726",
     "exception": false,
     "start_time": "2025-06-29T18:57:52.735048",
     "status": "completed"
    },
    "tags": []
   },
   "source": [
    "# STEP 2: Load Data"
   ]
  },
  {
   "cell_type": "code",
   "execution_count": 2,
   "id": "AUCrPVu83-qs",
   "metadata": {
    "colab": {
     "base_uri": "https://localhost:8080/"
    },
    "executionInfo": {
     "elapsed": 4647,
     "status": "ok",
     "timestamp": 1752092952118,
     "user": {
      "displayName": "Aitor Donado",
      "userId": "08246046509718212083"
     },
     "user_tz": -120
    },
    "id": "AUCrPVu83-qs",
    "outputId": "55dc9bb7-a2bb-40df-d5ad-5303359d1afe"
   },
   "outputs": [
    {
     "name": "stdout",
     "output_type": "stream",
     "text": [
      "Path to dataset files: /kaggle/input/salaries-for-data-science-jobs\n"
     ]
    }
   ],
   "source": [
    "import kagglehub\n",
    "\n",
    "# Download latest version\n",
    "path = kagglehub.dataset_download(\"adilshamim8/salaries-for-data-science-jobs\")\n",
    "\n",
    "print(\"Path to dataset files:\", path)"
   ]
  },
  {
   "cell_type": "code",
   "execution_count": 3,
   "id": "00389dbb",
   "metadata": {
    "execution": {
     "iopub.execute_input": "2025-06-29T18:57:52.751831Z",
     "iopub.status.busy": "2025-06-29T18:57:52.751398Z",
     "iopub.status.idle": "2025-06-29T18:57:53.033817Z",
     "shell.execute_reply": "2025-06-29T18:57:53.033121Z"
    },
    "executionInfo": {
     "elapsed": 307,
     "status": "ok",
     "timestamp": 1752092957033,
     "user": {
      "displayName": "Aitor Donado",
      "userId": "08246046509718212083"
     },
     "user_tz": -120
    },
    "id": "00389dbb",
    "papermill": {
     "duration": 0.289659,
     "end_time": "2025-06-29T18:57:53.035362",
     "exception": false,
     "start_time": "2025-06-29T18:57:52.745703",
     "status": "completed"
    },
    "tags": []
   },
   "outputs": [],
   "source": [
    "df=pd.read_csv(os.path.join(path, \"salaries.csv\"))"
   ]
  },
  {
   "cell_type": "code",
   "execution_count": 4,
   "id": "d36d1534",
   "metadata": {
    "colab": {
     "base_uri": "https://localhost:8080/",
     "height": 365
    },
    "execution": {
     "iopub.execute_input": "2025-06-29T18:57:53.046755Z",
     "iopub.status.busy": "2025-06-29T18:57:53.046460Z",
     "iopub.status.idle": "2025-06-29T18:57:53.072077Z",
     "shell.execute_reply": "2025-06-29T18:57:53.070955Z"
    },
    "executionInfo": {
     "elapsed": 20,
     "status": "ok",
     "timestamp": 1752092958864,
     "user": {
      "displayName": "Aitor Donado",
      "userId": "08246046509718212083"
     },
     "user_tz": -120
    },
    "id": "d36d1534",
    "outputId": "497cd422-f882-46dc-8461-a7e2c5424a28",
    "papermill": {
     "duration": 0.033016,
     "end_time": "2025-06-29T18:57:53.073566",
     "exception": false,
     "start_time": "2025-06-29T18:57:53.040550",
     "status": "completed"
    },
    "tags": []
   },
   "outputs": [
    {
     "data": {
      "application/vnd.google.colaboratory.intrinsic+json": {
       "type": "dataframe",
       "variable_name": "df"
      },
      "text/html": [
       "\n",
       "  <div id=\"df-0978408e-bf03-4498-8a73-8b85c9e81704\" class=\"colab-df-container\">\n",
       "    <div>\n",
       "<style scoped>\n",
       "    .dataframe tbody tr th:only-of-type {\n",
       "        vertical-align: middle;\n",
       "    }\n",
       "\n",
       "    .dataframe tbody tr th {\n",
       "        vertical-align: top;\n",
       "    }\n",
       "\n",
       "    .dataframe thead th {\n",
       "        text-align: right;\n",
       "    }\n",
       "</style>\n",
       "<table border=\"1\" class=\"dataframe\">\n",
       "  <thead>\n",
       "    <tr style=\"text-align: right;\">\n",
       "      <th></th>\n",
       "      <th>work_year</th>\n",
       "      <th>experience_level</th>\n",
       "      <th>employment_type</th>\n",
       "      <th>job_title</th>\n",
       "      <th>salary</th>\n",
       "      <th>salary_currency</th>\n",
       "      <th>salary_in_usd</th>\n",
       "      <th>employee_residence</th>\n",
       "      <th>remote_ratio</th>\n",
       "      <th>company_location</th>\n",
       "      <th>company_size</th>\n",
       "    </tr>\n",
       "  </thead>\n",
       "  <tbody>\n",
       "    <tr>\n",
       "      <th>0</th>\n",
       "      <td>2025</td>\n",
       "      <td>MI</td>\n",
       "      <td>FT</td>\n",
       "      <td>Data Scientist</td>\n",
       "      <td>132600</td>\n",
       "      <td>USD</td>\n",
       "      <td>132600</td>\n",
       "      <td>US</td>\n",
       "      <td>100</td>\n",
       "      <td>US</td>\n",
       "      <td>M</td>\n",
       "    </tr>\n",
       "    <tr>\n",
       "      <th>1</th>\n",
       "      <td>2025</td>\n",
       "      <td>MI</td>\n",
       "      <td>FT</td>\n",
       "      <td>Data Scientist</td>\n",
       "      <td>102000</td>\n",
       "      <td>USD</td>\n",
       "      <td>102000</td>\n",
       "      <td>US</td>\n",
       "      <td>100</td>\n",
       "      <td>US</td>\n",
       "      <td>M</td>\n",
       "    </tr>\n",
       "    <tr>\n",
       "      <th>2</th>\n",
       "      <td>2025</td>\n",
       "      <td>SE</td>\n",
       "      <td>FT</td>\n",
       "      <td>Data Product Manager</td>\n",
       "      <td>260520</td>\n",
       "      <td>USD</td>\n",
       "      <td>260520</td>\n",
       "      <td>US</td>\n",
       "      <td>0</td>\n",
       "      <td>US</td>\n",
       "      <td>M</td>\n",
       "    </tr>\n",
       "    <tr>\n",
       "      <th>3</th>\n",
       "      <td>2025</td>\n",
       "      <td>SE</td>\n",
       "      <td>FT</td>\n",
       "      <td>Data Product Manager</td>\n",
       "      <td>140280</td>\n",
       "      <td>USD</td>\n",
       "      <td>140280</td>\n",
       "      <td>US</td>\n",
       "      <td>0</td>\n",
       "      <td>US</td>\n",
       "      <td>M</td>\n",
       "    </tr>\n",
       "    <tr>\n",
       "      <th>4</th>\n",
       "      <td>2025</td>\n",
       "      <td>SE</td>\n",
       "      <td>FT</td>\n",
       "      <td>Machine Learning Engineer</td>\n",
       "      <td>215000</td>\n",
       "      <td>USD</td>\n",
       "      <td>215000</td>\n",
       "      <td>US</td>\n",
       "      <td>0</td>\n",
       "      <td>US</td>\n",
       "      <td>M</td>\n",
       "    </tr>\n",
       "  </tbody>\n",
       "</table>\n",
       "</div>\n",
       "    <div class=\"colab-df-buttons\">\n",
       "\n",
       "  <div class=\"colab-df-container\">\n",
       "    <button class=\"colab-df-convert\" onclick=\"convertToInteractive('df-0978408e-bf03-4498-8a73-8b85c9e81704')\"\n",
       "            title=\"Convert this dataframe to an interactive table.\"\n",
       "            style=\"display:none;\">\n",
       "\n",
       "  <svg xmlns=\"http://www.w3.org/2000/svg\" height=\"24px\" viewBox=\"0 -960 960 960\">\n",
       "    <path d=\"M120-120v-720h720v720H120Zm60-500h600v-160H180v160Zm220 220h160v-160H400v160Zm0 220h160v-160H400v160ZM180-400h160v-160H180v160Zm440 0h160v-160H620v160ZM180-180h160v-160H180v160Zm440 0h160v-160H620v160Z\"/>\n",
       "  </svg>\n",
       "    </button>\n",
       "\n",
       "  <style>\n",
       "    .colab-df-container {\n",
       "      display:flex;\n",
       "      gap: 12px;\n",
       "    }\n",
       "\n",
       "    .colab-df-convert {\n",
       "      background-color: #E8F0FE;\n",
       "      border: none;\n",
       "      border-radius: 50%;\n",
       "      cursor: pointer;\n",
       "      display: none;\n",
       "      fill: #1967D2;\n",
       "      height: 32px;\n",
       "      padding: 0 0 0 0;\n",
       "      width: 32px;\n",
       "    }\n",
       "\n",
       "    .colab-df-convert:hover {\n",
       "      background-color: #E2EBFA;\n",
       "      box-shadow: 0px 1px 2px rgba(60, 64, 67, 0.3), 0px 1px 3px 1px rgba(60, 64, 67, 0.15);\n",
       "      fill: #174EA6;\n",
       "    }\n",
       "\n",
       "    .colab-df-buttons div {\n",
       "      margin-bottom: 4px;\n",
       "    }\n",
       "\n",
       "    [theme=dark] .colab-df-convert {\n",
       "      background-color: #3B4455;\n",
       "      fill: #D2E3FC;\n",
       "    }\n",
       "\n",
       "    [theme=dark] .colab-df-convert:hover {\n",
       "      background-color: #434B5C;\n",
       "      box-shadow: 0px 1px 3px 1px rgba(0, 0, 0, 0.15);\n",
       "      filter: drop-shadow(0px 1px 2px rgba(0, 0, 0, 0.3));\n",
       "      fill: #FFFFFF;\n",
       "    }\n",
       "  </style>\n",
       "\n",
       "    <script>\n",
       "      const buttonEl =\n",
       "        document.querySelector('#df-0978408e-bf03-4498-8a73-8b85c9e81704 button.colab-df-convert');\n",
       "      buttonEl.style.display =\n",
       "        google.colab.kernel.accessAllowed ? 'block' : 'none';\n",
       "\n",
       "      async function convertToInteractive(key) {\n",
       "        const element = document.querySelector('#df-0978408e-bf03-4498-8a73-8b85c9e81704');\n",
       "        const dataTable =\n",
       "          await google.colab.kernel.invokeFunction('convertToInteractive',\n",
       "                                                    [key], {});\n",
       "        if (!dataTable) return;\n",
       "\n",
       "        const docLinkHtml = 'Like what you see? Visit the ' +\n",
       "          '<a target=\"_blank\" href=https://colab.research.google.com/notebooks/data_table.ipynb>data table notebook</a>'\n",
       "          + ' to learn more about interactive tables.';\n",
       "        element.innerHTML = '';\n",
       "        dataTable['output_type'] = 'display_data';\n",
       "        await google.colab.output.renderOutput(dataTable, element);\n",
       "        const docLink = document.createElement('div');\n",
       "        docLink.innerHTML = docLinkHtml;\n",
       "        element.appendChild(docLink);\n",
       "      }\n",
       "    </script>\n",
       "  </div>\n",
       "\n",
       "\n",
       "    <div id=\"df-8ae0c6c2-ee9a-4e41-a894-2bcf58313f99\">\n",
       "      <button class=\"colab-df-quickchart\" onclick=\"quickchart('df-8ae0c6c2-ee9a-4e41-a894-2bcf58313f99')\"\n",
       "                title=\"Suggest charts\"\n",
       "                style=\"display:none;\">\n",
       "\n",
       "<svg xmlns=\"http://www.w3.org/2000/svg\" height=\"24px\"viewBox=\"0 0 24 24\"\n",
       "     width=\"24px\">\n",
       "    <g>\n",
       "        <path d=\"M19 3H5c-1.1 0-2 .9-2 2v14c0 1.1.9 2 2 2h14c1.1 0 2-.9 2-2V5c0-1.1-.9-2-2-2zM9 17H7v-7h2v7zm4 0h-2V7h2v10zm4 0h-2v-4h2v4z\"/>\n",
       "    </g>\n",
       "</svg>\n",
       "      </button>\n",
       "\n",
       "<style>\n",
       "  .colab-df-quickchart {\n",
       "      --bg-color: #E8F0FE;\n",
       "      --fill-color: #1967D2;\n",
       "      --hover-bg-color: #E2EBFA;\n",
       "      --hover-fill-color: #174EA6;\n",
       "      --disabled-fill-color: #AAA;\n",
       "      --disabled-bg-color: #DDD;\n",
       "  }\n",
       "\n",
       "  [theme=dark] .colab-df-quickchart {\n",
       "      --bg-color: #3B4455;\n",
       "      --fill-color: #D2E3FC;\n",
       "      --hover-bg-color: #434B5C;\n",
       "      --hover-fill-color: #FFFFFF;\n",
       "      --disabled-bg-color: #3B4455;\n",
       "      --disabled-fill-color: #666;\n",
       "  }\n",
       "\n",
       "  .colab-df-quickchart {\n",
       "    background-color: var(--bg-color);\n",
       "    border: none;\n",
       "    border-radius: 50%;\n",
       "    cursor: pointer;\n",
       "    display: none;\n",
       "    fill: var(--fill-color);\n",
       "    height: 32px;\n",
       "    padding: 0;\n",
       "    width: 32px;\n",
       "  }\n",
       "\n",
       "  .colab-df-quickchart:hover {\n",
       "    background-color: var(--hover-bg-color);\n",
       "    box-shadow: 0 1px 2px rgba(60, 64, 67, 0.3), 0 1px 3px 1px rgba(60, 64, 67, 0.15);\n",
       "    fill: var(--button-hover-fill-color);\n",
       "  }\n",
       "\n",
       "  .colab-df-quickchart-complete:disabled,\n",
       "  .colab-df-quickchart-complete:disabled:hover {\n",
       "    background-color: var(--disabled-bg-color);\n",
       "    fill: var(--disabled-fill-color);\n",
       "    box-shadow: none;\n",
       "  }\n",
       "\n",
       "  .colab-df-spinner {\n",
       "    border: 2px solid var(--fill-color);\n",
       "    border-color: transparent;\n",
       "    border-bottom-color: var(--fill-color);\n",
       "    animation:\n",
       "      spin 1s steps(1) infinite;\n",
       "  }\n",
       "\n",
       "  @keyframes spin {\n",
       "    0% {\n",
       "      border-color: transparent;\n",
       "      border-bottom-color: var(--fill-color);\n",
       "      border-left-color: var(--fill-color);\n",
       "    }\n",
       "    20% {\n",
       "      border-color: transparent;\n",
       "      border-left-color: var(--fill-color);\n",
       "      border-top-color: var(--fill-color);\n",
       "    }\n",
       "    30% {\n",
       "      border-color: transparent;\n",
       "      border-left-color: var(--fill-color);\n",
       "      border-top-color: var(--fill-color);\n",
       "      border-right-color: var(--fill-color);\n",
       "    }\n",
       "    40% {\n",
       "      border-color: transparent;\n",
       "      border-right-color: var(--fill-color);\n",
       "      border-top-color: var(--fill-color);\n",
       "    }\n",
       "    60% {\n",
       "      border-color: transparent;\n",
       "      border-right-color: var(--fill-color);\n",
       "    }\n",
       "    80% {\n",
       "      border-color: transparent;\n",
       "      border-right-color: var(--fill-color);\n",
       "      border-bottom-color: var(--fill-color);\n",
       "    }\n",
       "    90% {\n",
       "      border-color: transparent;\n",
       "      border-bottom-color: var(--fill-color);\n",
       "    }\n",
       "  }\n",
       "</style>\n",
       "\n",
       "      <script>\n",
       "        async function quickchart(key) {\n",
       "          const quickchartButtonEl =\n",
       "            document.querySelector('#' + key + ' button');\n",
       "          quickchartButtonEl.disabled = true;  // To prevent multiple clicks.\n",
       "          quickchartButtonEl.classList.add('colab-df-spinner');\n",
       "          try {\n",
       "            const charts = await google.colab.kernel.invokeFunction(\n",
       "                'suggestCharts', [key], {});\n",
       "          } catch (error) {\n",
       "            console.error('Error during call to suggestCharts:', error);\n",
       "          }\n",
       "          quickchartButtonEl.classList.remove('colab-df-spinner');\n",
       "          quickchartButtonEl.classList.add('colab-df-quickchart-complete');\n",
       "        }\n",
       "        (() => {\n",
       "          let quickchartButtonEl =\n",
       "            document.querySelector('#df-8ae0c6c2-ee9a-4e41-a894-2bcf58313f99 button');\n",
       "          quickchartButtonEl.style.display =\n",
       "            google.colab.kernel.accessAllowed ? 'block' : 'none';\n",
       "        })();\n",
       "      </script>\n",
       "    </div>\n",
       "\n",
       "    </div>\n",
       "  </div>\n"
      ],
      "text/plain": [
       "   work_year experience_level employment_type                  job_title  \\\n",
       "0       2025               MI              FT             Data Scientist   \n",
       "1       2025               MI              FT             Data Scientist   \n",
       "2       2025               SE              FT       Data Product Manager   \n",
       "3       2025               SE              FT       Data Product Manager   \n",
       "4       2025               SE              FT  Machine Learning Engineer   \n",
       "\n",
       "   salary salary_currency  salary_in_usd employee_residence  remote_ratio  \\\n",
       "0  132600             USD         132600                 US           100   \n",
       "1  102000             USD         102000                 US           100   \n",
       "2  260520             USD         260520                 US             0   \n",
       "3  140280             USD         140280                 US             0   \n",
       "4  215000             USD         215000                 US             0   \n",
       "\n",
       "  company_location company_size  \n",
       "0               US            M  \n",
       "1               US            M  \n",
       "2               US            M  \n",
       "3               US            M  \n",
       "4               US            M  "
      ]
     },
     "execution_count": 4,
     "metadata": {},
     "output_type": "execute_result"
    }
   ],
   "source": [
    "df.head()"
   ]
  },
  {
   "cell_type": "code",
   "execution_count": 5,
   "id": "a66a6e3f",
   "metadata": {
    "colab": {
     "base_uri": "https://localhost:8080/",
     "height": 347
    },
    "execution": {
     "iopub.execute_input": "2025-06-29T18:57:53.088409Z",
     "iopub.status.busy": "2025-06-29T18:57:53.087716Z",
     "iopub.status.idle": "2025-06-29T18:57:53.099902Z",
     "shell.execute_reply": "2025-06-29T18:57:53.099017Z"
    },
    "executionInfo": {
     "elapsed": 15,
     "status": "ok",
     "timestamp": 1752092964517,
     "user": {
      "displayName": "Aitor Donado",
      "userId": "08246046509718212083"
     },
     "user_tz": -120
    },
    "id": "a66a6e3f",
    "outputId": "e7c58661-58c9-4798-bdd9-5e9a816e75cc",
    "papermill": {
     "duration": 0.022277,
     "end_time": "2025-06-29T18:57:53.101306",
     "exception": false,
     "start_time": "2025-06-29T18:57:53.079029",
     "status": "completed"
    },
    "tags": []
   },
   "outputs": [
    {
     "data": {
      "application/vnd.google.colaboratory.intrinsic+json": {
       "summary": "{\n  \"name\": \"df\",\n  \"rows\": 5,\n  \"fields\": [\n    {\n      \"column\": \"work_year\",\n      \"properties\": {\n        \"dtype\": \"number\",\n        \"std\": 0,\n        \"min\": 2020,\n        \"max\": 2021,\n        \"num_unique_values\": 2,\n        \"samples\": [\n          2021,\n          2020\n        ],\n        \"semantic_type\": \"\",\n        \"description\": \"\"\n      }\n    },\n    {\n      \"column\": \"experience_level\",\n      \"properties\": {\n        \"dtype\": \"string\",\n        \"num_unique_values\": 3,\n        \"samples\": [\n          \"SE\",\n          \"MI\"\n        ],\n        \"semantic_type\": \"\",\n        \"description\": \"\"\n      }\n    },\n    {\n      \"column\": \"employment_type\",\n      \"properties\": {\n        \"dtype\": \"category\",\n        \"num_unique_values\": 2,\n        \"samples\": [\n          \"CT\",\n          \"FT\"\n        ],\n        \"semantic_type\": \"\",\n        \"description\": \"\"\n      }\n    },\n    {\n      \"column\": \"job_title\",\n      \"properties\": {\n        \"dtype\": \"string\",\n        \"num_unique_values\": 3,\n        \"samples\": [\n          \"Data Scientist\",\n          \"Principal Data Scientist\"\n        ],\n        \"semantic_type\": \"\",\n        \"description\": \"\"\n      }\n    },\n    {\n      \"column\": \"salary\",\n      \"properties\": {\n        \"dtype\": \"number\",\n        \"std\": 3047343,\n        \"min\": 100000,\n        \"max\": 7000000,\n        \"num_unique_values\": 5,\n        \"samples\": [\n          151000,\n          7000000\n        ],\n        \"semantic_type\": \"\",\n        \"description\": \"\"\n      }\n    },\n    {\n      \"column\": \"salary_currency\",\n      \"properties\": {\n        \"dtype\": \"category\",\n        \"num_unique_values\": 2,\n        \"samples\": [\n          \"INR\",\n          \"USD\"\n        ],\n        \"semantic_type\": \"\",\n        \"description\": \"\"\n      }\n    },\n    {\n      \"column\": \"salary_in_usd\",\n      \"properties\": {\n        \"dtype\": \"number\",\n        \"std\": 135732,\n        \"min\": 94665,\n        \"max\": 412000,\n        \"num_unique_values\": 5,\n        \"samples\": [\n          151000,\n          94665\n        ],\n        \"semantic_type\": \"\",\n        \"description\": \"\"\n      }\n    },\n    {\n      \"column\": \"employee_residence\",\n      \"properties\": {\n        \"dtype\": \"category\",\n        \"num_unique_values\": 2,\n        \"samples\": [\n          \"IN\",\n          \"US\"\n        ],\n        \"semantic_type\": \"\",\n        \"description\": \"\"\n      }\n    },\n    {\n      \"column\": \"remote_ratio\",\n      \"properties\": {\n        \"dtype\": \"number\",\n        \"std\": 22,\n        \"min\": 50,\n        \"max\": 100,\n        \"num_unique_values\": 2,\n        \"samples\": [\n          50,\n          100\n        ],\n        \"semantic_type\": \"\",\n        \"description\": \"\"\n      }\n    },\n    {\n      \"column\": \"company_location\",\n      \"properties\": {\n        \"dtype\": \"category\",\n        \"num_unique_values\": 2,\n        \"samples\": [\n          \"IN\",\n          \"US\"\n        ],\n        \"semantic_type\": \"\",\n        \"description\": \"\"\n      }\n    },\n    {\n      \"column\": \"company_size\",\n      \"properties\": {\n        \"dtype\": \"category\",\n        \"num_unique_values\": 2,\n        \"samples\": [\n          \"S\",\n          \"L\"\n        ],\n        \"semantic_type\": \"\",\n        \"description\": \"\"\n      }\n    }\n  ]\n}",
       "type": "dataframe"
      },
      "text/html": [
       "\n",
       "  <div id=\"df-e915f8b1-298b-4a5e-8cb8-40c24049e410\" class=\"colab-df-container\">\n",
       "    <div>\n",
       "<style scoped>\n",
       "    .dataframe tbody tr th:only-of-type {\n",
       "        vertical-align: middle;\n",
       "    }\n",
       "\n",
       "    .dataframe tbody tr th {\n",
       "        vertical-align: top;\n",
       "    }\n",
       "\n",
       "    .dataframe thead th {\n",
       "        text-align: right;\n",
       "    }\n",
       "</style>\n",
       "<table border=\"1\" class=\"dataframe\">\n",
       "  <thead>\n",
       "    <tr style=\"text-align: right;\">\n",
       "      <th></th>\n",
       "      <th>work_year</th>\n",
       "      <th>experience_level</th>\n",
       "      <th>employment_type</th>\n",
       "      <th>job_title</th>\n",
       "      <th>salary</th>\n",
       "      <th>salary_currency</th>\n",
       "      <th>salary_in_usd</th>\n",
       "      <th>employee_residence</th>\n",
       "      <th>remote_ratio</th>\n",
       "      <th>company_location</th>\n",
       "      <th>company_size</th>\n",
       "    </tr>\n",
       "  </thead>\n",
       "  <tbody>\n",
       "    <tr>\n",
       "      <th>136752</th>\n",
       "      <td>2020</td>\n",
       "      <td>SE</td>\n",
       "      <td>FT</td>\n",
       "      <td>Data Scientist</td>\n",
       "      <td>412000</td>\n",
       "      <td>USD</td>\n",
       "      <td>412000</td>\n",
       "      <td>US</td>\n",
       "      <td>100</td>\n",
       "      <td>US</td>\n",
       "      <td>L</td>\n",
       "    </tr>\n",
       "    <tr>\n",
       "      <th>136753</th>\n",
       "      <td>2021</td>\n",
       "      <td>MI</td>\n",
       "      <td>FT</td>\n",
       "      <td>Principal Data Scientist</td>\n",
       "      <td>151000</td>\n",
       "      <td>USD</td>\n",
       "      <td>151000</td>\n",
       "      <td>US</td>\n",
       "      <td>100</td>\n",
       "      <td>US</td>\n",
       "      <td>L</td>\n",
       "    </tr>\n",
       "    <tr>\n",
       "      <th>136754</th>\n",
       "      <td>2020</td>\n",
       "      <td>EN</td>\n",
       "      <td>FT</td>\n",
       "      <td>Data Scientist</td>\n",
       "      <td>105000</td>\n",
       "      <td>USD</td>\n",
       "      <td>105000</td>\n",
       "      <td>US</td>\n",
       "      <td>100</td>\n",
       "      <td>US</td>\n",
       "      <td>S</td>\n",
       "    </tr>\n",
       "    <tr>\n",
       "      <th>136755</th>\n",
       "      <td>2020</td>\n",
       "      <td>EN</td>\n",
       "      <td>CT</td>\n",
       "      <td>Business Data Analyst</td>\n",
       "      <td>100000</td>\n",
       "      <td>USD</td>\n",
       "      <td>100000</td>\n",
       "      <td>US</td>\n",
       "      <td>100</td>\n",
       "      <td>US</td>\n",
       "      <td>L</td>\n",
       "    </tr>\n",
       "    <tr>\n",
       "      <th>136756</th>\n",
       "      <td>2021</td>\n",
       "      <td>SE</td>\n",
       "      <td>FT</td>\n",
       "      <td>Data Scientist</td>\n",
       "      <td>7000000</td>\n",
       "      <td>INR</td>\n",
       "      <td>94665</td>\n",
       "      <td>IN</td>\n",
       "      <td>50</td>\n",
       "      <td>IN</td>\n",
       "      <td>L</td>\n",
       "    </tr>\n",
       "  </tbody>\n",
       "</table>\n",
       "</div>\n",
       "    <div class=\"colab-df-buttons\">\n",
       "\n",
       "  <div class=\"colab-df-container\">\n",
       "    <button class=\"colab-df-convert\" onclick=\"convertToInteractive('df-e915f8b1-298b-4a5e-8cb8-40c24049e410')\"\n",
       "            title=\"Convert this dataframe to an interactive table.\"\n",
       "            style=\"display:none;\">\n",
       "\n",
       "  <svg xmlns=\"http://www.w3.org/2000/svg\" height=\"24px\" viewBox=\"0 -960 960 960\">\n",
       "    <path d=\"M120-120v-720h720v720H120Zm60-500h600v-160H180v160Zm220 220h160v-160H400v160Zm0 220h160v-160H400v160ZM180-400h160v-160H180v160Zm440 0h160v-160H620v160ZM180-180h160v-160H180v160Zm440 0h160v-160H620v160Z\"/>\n",
       "  </svg>\n",
       "    </button>\n",
       "\n",
       "  <style>\n",
       "    .colab-df-container {\n",
       "      display:flex;\n",
       "      gap: 12px;\n",
       "    }\n",
       "\n",
       "    .colab-df-convert {\n",
       "      background-color: #E8F0FE;\n",
       "      border: none;\n",
       "      border-radius: 50%;\n",
       "      cursor: pointer;\n",
       "      display: none;\n",
       "      fill: #1967D2;\n",
       "      height: 32px;\n",
       "      padding: 0 0 0 0;\n",
       "      width: 32px;\n",
       "    }\n",
       "\n",
       "    .colab-df-convert:hover {\n",
       "      background-color: #E2EBFA;\n",
       "      box-shadow: 0px 1px 2px rgba(60, 64, 67, 0.3), 0px 1px 3px 1px rgba(60, 64, 67, 0.15);\n",
       "      fill: #174EA6;\n",
       "    }\n",
       "\n",
       "    .colab-df-buttons div {\n",
       "      margin-bottom: 4px;\n",
       "    }\n",
       "\n",
       "    [theme=dark] .colab-df-convert {\n",
       "      background-color: #3B4455;\n",
       "      fill: #D2E3FC;\n",
       "    }\n",
       "\n",
       "    [theme=dark] .colab-df-convert:hover {\n",
       "      background-color: #434B5C;\n",
       "      box-shadow: 0px 1px 3px 1px rgba(0, 0, 0, 0.15);\n",
       "      filter: drop-shadow(0px 1px 2px rgba(0, 0, 0, 0.3));\n",
       "      fill: #FFFFFF;\n",
       "    }\n",
       "  </style>\n",
       "\n",
       "    <script>\n",
       "      const buttonEl =\n",
       "        document.querySelector('#df-e915f8b1-298b-4a5e-8cb8-40c24049e410 button.colab-df-convert');\n",
       "      buttonEl.style.display =\n",
       "        google.colab.kernel.accessAllowed ? 'block' : 'none';\n",
       "\n",
       "      async function convertToInteractive(key) {\n",
       "        const element = document.querySelector('#df-e915f8b1-298b-4a5e-8cb8-40c24049e410');\n",
       "        const dataTable =\n",
       "          await google.colab.kernel.invokeFunction('convertToInteractive',\n",
       "                                                    [key], {});\n",
       "        if (!dataTable) return;\n",
       "\n",
       "        const docLinkHtml = 'Like what you see? Visit the ' +\n",
       "          '<a target=\"_blank\" href=https://colab.research.google.com/notebooks/data_table.ipynb>data table notebook</a>'\n",
       "          + ' to learn more about interactive tables.';\n",
       "        element.innerHTML = '';\n",
       "        dataTable['output_type'] = 'display_data';\n",
       "        await google.colab.output.renderOutput(dataTable, element);\n",
       "        const docLink = document.createElement('div');\n",
       "        docLink.innerHTML = docLinkHtml;\n",
       "        element.appendChild(docLink);\n",
       "      }\n",
       "    </script>\n",
       "  </div>\n",
       "\n",
       "\n",
       "    <div id=\"df-ffad89bc-b6a1-4a9e-9e27-2100cbc39fc1\">\n",
       "      <button class=\"colab-df-quickchart\" onclick=\"quickchart('df-ffad89bc-b6a1-4a9e-9e27-2100cbc39fc1')\"\n",
       "                title=\"Suggest charts\"\n",
       "                style=\"display:none;\">\n",
       "\n",
       "<svg xmlns=\"http://www.w3.org/2000/svg\" height=\"24px\"viewBox=\"0 0 24 24\"\n",
       "     width=\"24px\">\n",
       "    <g>\n",
       "        <path d=\"M19 3H5c-1.1 0-2 .9-2 2v14c0 1.1.9 2 2 2h14c1.1 0 2-.9 2-2V5c0-1.1-.9-2-2-2zM9 17H7v-7h2v7zm4 0h-2V7h2v10zm4 0h-2v-4h2v4z\"/>\n",
       "    </g>\n",
       "</svg>\n",
       "      </button>\n",
       "\n",
       "<style>\n",
       "  .colab-df-quickchart {\n",
       "      --bg-color: #E8F0FE;\n",
       "      --fill-color: #1967D2;\n",
       "      --hover-bg-color: #E2EBFA;\n",
       "      --hover-fill-color: #174EA6;\n",
       "      --disabled-fill-color: #AAA;\n",
       "      --disabled-bg-color: #DDD;\n",
       "  }\n",
       "\n",
       "  [theme=dark] .colab-df-quickchart {\n",
       "      --bg-color: #3B4455;\n",
       "      --fill-color: #D2E3FC;\n",
       "      --hover-bg-color: #434B5C;\n",
       "      --hover-fill-color: #FFFFFF;\n",
       "      --disabled-bg-color: #3B4455;\n",
       "      --disabled-fill-color: #666;\n",
       "  }\n",
       "\n",
       "  .colab-df-quickchart {\n",
       "    background-color: var(--bg-color);\n",
       "    border: none;\n",
       "    border-radius: 50%;\n",
       "    cursor: pointer;\n",
       "    display: none;\n",
       "    fill: var(--fill-color);\n",
       "    height: 32px;\n",
       "    padding: 0;\n",
       "    width: 32px;\n",
       "  }\n",
       "\n",
       "  .colab-df-quickchart:hover {\n",
       "    background-color: var(--hover-bg-color);\n",
       "    box-shadow: 0 1px 2px rgba(60, 64, 67, 0.3), 0 1px 3px 1px rgba(60, 64, 67, 0.15);\n",
       "    fill: var(--button-hover-fill-color);\n",
       "  }\n",
       "\n",
       "  .colab-df-quickchart-complete:disabled,\n",
       "  .colab-df-quickchart-complete:disabled:hover {\n",
       "    background-color: var(--disabled-bg-color);\n",
       "    fill: var(--disabled-fill-color);\n",
       "    box-shadow: none;\n",
       "  }\n",
       "\n",
       "  .colab-df-spinner {\n",
       "    border: 2px solid var(--fill-color);\n",
       "    border-color: transparent;\n",
       "    border-bottom-color: var(--fill-color);\n",
       "    animation:\n",
       "      spin 1s steps(1) infinite;\n",
       "  }\n",
       "\n",
       "  @keyframes spin {\n",
       "    0% {\n",
       "      border-color: transparent;\n",
       "      border-bottom-color: var(--fill-color);\n",
       "      border-left-color: var(--fill-color);\n",
       "    }\n",
       "    20% {\n",
       "      border-color: transparent;\n",
       "      border-left-color: var(--fill-color);\n",
       "      border-top-color: var(--fill-color);\n",
       "    }\n",
       "    30% {\n",
       "      border-color: transparent;\n",
       "      border-left-color: var(--fill-color);\n",
       "      border-top-color: var(--fill-color);\n",
       "      border-right-color: var(--fill-color);\n",
       "    }\n",
       "    40% {\n",
       "      border-color: transparent;\n",
       "      border-right-color: var(--fill-color);\n",
       "      border-top-color: var(--fill-color);\n",
       "    }\n",
       "    60% {\n",
       "      border-color: transparent;\n",
       "      border-right-color: var(--fill-color);\n",
       "    }\n",
       "    80% {\n",
       "      border-color: transparent;\n",
       "      border-right-color: var(--fill-color);\n",
       "      border-bottom-color: var(--fill-color);\n",
       "    }\n",
       "    90% {\n",
       "      border-color: transparent;\n",
       "      border-bottom-color: var(--fill-color);\n",
       "    }\n",
       "  }\n",
       "</style>\n",
       "\n",
       "      <script>\n",
       "        async function quickchart(key) {\n",
       "          const quickchartButtonEl =\n",
       "            document.querySelector('#' + key + ' button');\n",
       "          quickchartButtonEl.disabled = true;  // To prevent multiple clicks.\n",
       "          quickchartButtonEl.classList.add('colab-df-spinner');\n",
       "          try {\n",
       "            const charts = await google.colab.kernel.invokeFunction(\n",
       "                'suggestCharts', [key], {});\n",
       "          } catch (error) {\n",
       "            console.error('Error during call to suggestCharts:', error);\n",
       "          }\n",
       "          quickchartButtonEl.classList.remove('colab-df-spinner');\n",
       "          quickchartButtonEl.classList.add('colab-df-quickchart-complete');\n",
       "        }\n",
       "        (() => {\n",
       "          let quickchartButtonEl =\n",
       "            document.querySelector('#df-ffad89bc-b6a1-4a9e-9e27-2100cbc39fc1 button');\n",
       "          quickchartButtonEl.style.display =\n",
       "            google.colab.kernel.accessAllowed ? 'block' : 'none';\n",
       "        })();\n",
       "      </script>\n",
       "    </div>\n",
       "\n",
       "    </div>\n",
       "  </div>\n"
      ],
      "text/plain": [
       "        work_year experience_level employment_type                 job_title  \\\n",
       "136752       2020               SE              FT            Data Scientist   \n",
       "136753       2021               MI              FT  Principal Data Scientist   \n",
       "136754       2020               EN              FT            Data Scientist   \n",
       "136755       2020               EN              CT     Business Data Analyst   \n",
       "136756       2021               SE              FT            Data Scientist   \n",
       "\n",
       "         salary salary_currency  salary_in_usd employee_residence  \\\n",
       "136752   412000             USD         412000                 US   \n",
       "136753   151000             USD         151000                 US   \n",
       "136754   105000             USD         105000                 US   \n",
       "136755   100000             USD         100000                 US   \n",
       "136756  7000000             INR          94665                 IN   \n",
       "\n",
       "        remote_ratio company_location company_size  \n",
       "136752           100               US            L  \n",
       "136753           100               US            L  \n",
       "136754           100               US            S  \n",
       "136755           100               US            L  \n",
       "136756            50               IN            L  "
      ]
     },
     "execution_count": 5,
     "metadata": {},
     "output_type": "execute_result"
    }
   ],
   "source": [
    "df.tail()"
   ]
  },
  {
   "cell_type": "code",
   "execution_count": 6,
   "id": "af1fa2fd",
   "metadata": {
    "colab": {
     "base_uri": "https://localhost:8080/"
    },
    "execution": {
     "iopub.execute_input": "2025-06-29T18:57:53.113527Z",
     "iopub.status.busy": "2025-06-29T18:57:53.113219Z",
     "iopub.status.idle": "2025-06-29T18:57:53.203086Z",
     "shell.execute_reply": "2025-06-29T18:57:53.202042Z"
    },
    "executionInfo": {
     "elapsed": 4,
     "status": "ok",
     "timestamp": 1752092972800,
     "user": {
      "displayName": "Aitor Donado",
      "userId": "08246046509718212083"
     },
     "user_tz": -120
    },
    "id": "af1fa2fd",
    "outputId": "91c54734-20e4-4e8f-8fa2-f1b965c35171",
    "papermill": {
     "duration": 0.097701,
     "end_time": "2025-06-29T18:57:53.204589",
     "exception": false,
     "start_time": "2025-06-29T18:57:53.106888",
     "status": "completed"
    },
    "tags": []
   },
   "outputs": [
    {
     "name": "stdout",
     "output_type": "stream",
     "text": [
      "<class 'pandas.core.frame.DataFrame'>\n",
      "RangeIndex: 136757 entries, 0 to 136756\n",
      "Data columns (total 11 columns):\n",
      " #   Column              Non-Null Count   Dtype \n",
      "---  ------              --------------   ----- \n",
      " 0   work_year           136757 non-null  int64 \n",
      " 1   experience_level    136757 non-null  object\n",
      " 2   employment_type     136757 non-null  object\n",
      " 3   job_title           136757 non-null  object\n",
      " 4   salary              136757 non-null  int64 \n",
      " 5   salary_currency     136757 non-null  object\n",
      " 6   salary_in_usd       136757 non-null  int64 \n",
      " 7   employee_residence  136757 non-null  object\n",
      " 8   remote_ratio        136757 non-null  int64 \n",
      " 9   company_location    136757 non-null  object\n",
      " 10  company_size        136757 non-null  object\n",
      "dtypes: int64(4), object(7)\n",
      "memory usage: 11.5+ MB\n"
     ]
    }
   ],
   "source": [
    "df.info()"
   ]
  },
  {
   "cell_type": "code",
   "execution_count": 7,
   "id": "5e4f1ca4",
   "metadata": {
    "colab": {
     "base_uri": "https://localhost:8080/",
     "height": 429
    },
    "execution": {
     "iopub.execute_input": "2025-06-29T18:57:53.217050Z",
     "iopub.status.busy": "2025-06-29T18:57:53.216493Z",
     "iopub.status.idle": "2025-06-29T18:57:53.279733Z",
     "shell.execute_reply": "2025-06-29T18:57:53.279004Z"
    },
    "executionInfo": {
     "elapsed": 39,
     "status": "ok",
     "timestamp": 1752092972840,
     "user": {
      "displayName": "Aitor Donado",
      "userId": "08246046509718212083"
     },
     "user_tz": -120
    },
    "id": "5e4f1ca4",
    "outputId": "d6fb91c0-d0eb-4706-feca-af5bdb4ae9a0",
    "papermill": {
     "duration": 0.070915,
     "end_time": "2025-06-29T18:57:53.281162",
     "exception": false,
     "start_time": "2025-06-29T18:57:53.210247",
     "status": "completed"
    },
    "tags": []
   },
   "outputs": [
    {
     "data": {
      "text/html": [
       "<div>\n",
       "<style scoped>\n",
       "    .dataframe tbody tr th:only-of-type {\n",
       "        vertical-align: middle;\n",
       "    }\n",
       "\n",
       "    .dataframe tbody tr th {\n",
       "        vertical-align: top;\n",
       "    }\n",
       "\n",
       "    .dataframe thead th {\n",
       "        text-align: right;\n",
       "    }\n",
       "</style>\n",
       "<table border=\"1\" class=\"dataframe\">\n",
       "  <thead>\n",
       "    <tr style=\"text-align: right;\">\n",
       "      <th></th>\n",
       "      <th>0</th>\n",
       "    </tr>\n",
       "  </thead>\n",
       "  <tbody>\n",
       "    <tr>\n",
       "      <th>work_year</th>\n",
       "      <td>0</td>\n",
       "    </tr>\n",
       "    <tr>\n",
       "      <th>experience_level</th>\n",
       "      <td>0</td>\n",
       "    </tr>\n",
       "    <tr>\n",
       "      <th>employment_type</th>\n",
       "      <td>0</td>\n",
       "    </tr>\n",
       "    <tr>\n",
       "      <th>job_title</th>\n",
       "      <td>0</td>\n",
       "    </tr>\n",
       "    <tr>\n",
       "      <th>salary</th>\n",
       "      <td>0</td>\n",
       "    </tr>\n",
       "    <tr>\n",
       "      <th>salary_currency</th>\n",
       "      <td>0</td>\n",
       "    </tr>\n",
       "    <tr>\n",
       "      <th>salary_in_usd</th>\n",
       "      <td>0</td>\n",
       "    </tr>\n",
       "    <tr>\n",
       "      <th>employee_residence</th>\n",
       "      <td>0</td>\n",
       "    </tr>\n",
       "    <tr>\n",
       "      <th>remote_ratio</th>\n",
       "      <td>0</td>\n",
       "    </tr>\n",
       "    <tr>\n",
       "      <th>company_location</th>\n",
       "      <td>0</td>\n",
       "    </tr>\n",
       "    <tr>\n",
       "      <th>company_size</th>\n",
       "      <td>0</td>\n",
       "    </tr>\n",
       "  </tbody>\n",
       "</table>\n",
       "</div><br><label><b>dtype:</b> int64</label>"
      ],
      "text/plain": [
       "work_year             0\n",
       "experience_level      0\n",
       "employment_type       0\n",
       "job_title             0\n",
       "salary                0\n",
       "salary_currency       0\n",
       "salary_in_usd         0\n",
       "employee_residence    0\n",
       "remote_ratio          0\n",
       "company_location      0\n",
       "company_size          0\n",
       "dtype: int64"
      ]
     },
     "execution_count": 7,
     "metadata": {},
     "output_type": "execute_result"
    }
   ],
   "source": [
    "df.isnull().sum()"
   ]
  },
  {
   "cell_type": "code",
   "execution_count": 2,
   "id": "00dfd840",
   "metadata": {
    "colab": {
     "base_uri": "https://localhost:8080/",
     "height": 300
    },
    "execution": {
     "iopub.execute_input": "2025-06-29T18:57:53.294088Z",
     "iopub.status.busy": "2025-06-29T18:57:53.293746Z",
     "iopub.status.idle": "2025-06-29T18:57:53.331397Z",
     "shell.execute_reply": "2025-06-29T18:57:53.330642Z"
    },
    "executionInfo": {
     "elapsed": 67,
     "status": "ok",
     "timestamp": 1752092972895,
     "user": {
      "displayName": "Aitor Donado",
      "userId": "08246046509718212083"
     },
     "user_tz": -120
    },
    "id": "00dfd840",
    "outputId": "031e30a1-75ed-41a7-d751-85d51103f969",
    "papermill": {
     "duration": 0.045576,
     "end_time": "2025-06-29T18:57:53.332915",
     "exception": false,
     "start_time": "2025-06-29T18:57:53.287339",
     "status": "completed"
    },
    "tags": []
   },
   "outputs": [
    {
     "name": "stdout",
     "output_type": "stream",
     "text": [
      "⚠️  Variable 'df' no encontrada. Cargando datos...\n"
     ]
    },
    {
     "name": "stderr",
     "output_type": "stream",
     "text": [
      "c:\\Users\\Dell\\PyhtonIA\\DL Deep Learning\\.venv\\Lib\\site-packages\\tqdm\\auto.py:21: TqdmWarning: IProgress not found. Please update jupyter and ipywidgets. See https://ipywidgets.readthedocs.io/en/stable/user_install.html\n",
      "  from .autonotebook import tqdm as notebook_tqdm\n"
     ]
    },
    {
     "name": "stdout",
     "output_type": "stream",
     "text": [
      "✅ kagglehub disponible\n",
      "📍 Dataset descargado en: C:\\Users\\Dell\\.cache\\kagglehub\\datasets\\adilshamim8\\salaries-for-data-science-jobs\\versions\\5\n",
      "✅ Dataset cargado exitosamente\n",
      "\n",
      "📊 Descripción estadística del dataset:\n",
      "==================================================\n",
      "📏 Dimensiones: (136757, 11)\n",
      "📋 Columnas: ['work_year', 'experience_level', 'employment_type', 'job_title', 'salary', 'salary_currency', 'salary_in_usd', 'employee_residence', 'remote_ratio', 'company_location', 'company_size']\n",
      "\n",
      "📈 Estadísticas descriptivas:\n",
      "📍 Dataset descargado en: C:\\Users\\Dell\\.cache\\kagglehub\\datasets\\adilshamim8\\salaries-for-data-science-jobs\\versions\\5\n",
      "✅ Dataset cargado exitosamente\n",
      "\n",
      "📊 Descripción estadística del dataset:\n",
      "==================================================\n",
      "📏 Dimensiones: (136757, 11)\n",
      "📋 Columnas: ['work_year', 'experience_level', 'employment_type', 'job_title', 'salary', 'salary_currency', 'salary_in_usd', 'employee_residence', 'remote_ratio', 'company_location', 'company_size']\n",
      "\n",
      "📈 Estadísticas descriptivas:\n"
     ]
    }
   ],
   "source": [
    "# Verificar si df está definido, si no, cargar los datos\n",
    "if 'df' not in locals() and 'df' not in globals():\n",
    "    print(\"⚠️  Variable 'df' no encontrada. Cargando datos...\")\n",
    "    \n",
    "    # Importar librerías necesarias\n",
    "    import pandas as pd\n",
    "    import numpy as np\n",
    "    import os\n",
    "    \n",
    "    # Verificar si kagglehub está disponible\n",
    "    try:\n",
    "        import kagglehub\n",
    "        print(\"✅ kagglehub disponible\")\n",
    "        \n",
    "        # Descargar dataset si es necesario\n",
    "        path = kagglehub.dataset_download(\"adilshamim8/salaries-for-data-science-jobs\")\n",
    "        print(f\"📍 Dataset descargado en: {path}\")\n",
    "        \n",
    "        # Cargar datos\n",
    "        df = pd.read_csv(os.path.join(path, \"salaries.csv\"))\n",
    "        print(\"✅ Dataset cargado exitosamente\")\n",
    "        \n",
    "    except ImportError:\n",
    "        print(\"❌ kagglehub no está instalado.\")\n",
    "        print(\"💡 Por favor, ejecuta primero las celdas anteriores en orden:\")\n",
    "        print(\"   1. Celda de importación de librerías\")\n",
    "        print(\"   2. Celda de descarga de datos\")\n",
    "        print(\"   3. Celda de carga de datos\")\n",
    "        \n",
    "        # Intentar cargar desde archivo local si existe\n",
    "        local_files = [f for f in os.listdir('.') if f.endswith('.csv')]\n",
    "        if local_files:\n",
    "            print(f\"💡 Archivos CSV encontrados: {local_files}\")\n",
    "            # Intentar cargar el primer archivo CSV\n",
    "            try:\n",
    "                df = pd.read_csv(local_files[0])\n",
    "                print(f\"✅ Cargado desde archivo local: {local_files[0]}\")\n",
    "            except Exception as e:\n",
    "                print(f\"❌ Error al cargar archivo local: {e}\")\n",
    "        else:\n",
    "            print(\"❌ No se encontraron archivos CSV locales\")\n",
    "            \n",
    "    except Exception as e:\n",
    "        print(f\"❌ Error al cargar datos: {e}\")\n",
    "\n",
    "# Mostrar descripción estadística si df está disponible\n",
    "if 'df' in locals() or 'df' in globals():\n",
    "    print(\"\\n📊 Descripción estadística del dataset:\")\n",
    "    print(\"=\" * 50)\n",
    "    print(f\"📏 Dimensiones: {df.shape}\")\n",
    "    print(f\"📋 Columnas: {list(df.columns)}\")\n",
    "    print(\"\\n📈 Estadísticas descriptivas:\")\n",
    "    df.describe()\n",
    "else:\n",
    "    print(\"❌ No se pudo cargar el dataset. Por favor, ejecuta las celdas anteriores en orden.\")"
   ]
  },
  {
   "cell_type": "code",
   "execution_count": 9,
   "id": "bb3daceb",
   "metadata": {
    "colab": {
     "base_uri": "https://localhost:8080/",
     "height": 429
    },
    "execution": {
     "iopub.execute_input": "2025-06-29T18:57:53.345632Z",
     "iopub.status.busy": "2025-06-29T18:57:53.345371Z",
     "iopub.status.idle": "2025-06-29T18:57:53.400479Z",
     "shell.execute_reply": "2025-06-29T18:57:53.399556Z"
    },
    "executionInfo": {
     "elapsed": 48,
     "status": "ok",
     "timestamp": 1752092972944,
     "user": {
      "displayName": "Aitor Donado",
      "userId": "08246046509718212083"
     },
     "user_tz": -120
    },
    "id": "bb3daceb",
    "outputId": "6c7dd4d1-d2d0-40e4-9401-b8ab7d0ac24d",
    "papermill": {
     "duration": 0.063166,
     "end_time": "2025-06-29T18:57:53.401883",
     "exception": false,
     "start_time": "2025-06-29T18:57:53.338717",
     "status": "completed"
    },
    "tags": []
   },
   "outputs": [
    {
     "data": {
      "text/html": [
       "<div>\n",
       "<style scoped>\n",
       "    .dataframe tbody tr th:only-of-type {\n",
       "        vertical-align: middle;\n",
       "    }\n",
       "\n",
       "    .dataframe tbody tr th {\n",
       "        vertical-align: top;\n",
       "    }\n",
       "\n",
       "    .dataframe thead th {\n",
       "        text-align: right;\n",
       "    }\n",
       "</style>\n",
       "<table border=\"1\" class=\"dataframe\">\n",
       "  <thead>\n",
       "    <tr style=\"text-align: right;\">\n",
       "      <th></th>\n",
       "      <th>0</th>\n",
       "    </tr>\n",
       "  </thead>\n",
       "  <tbody>\n",
       "    <tr>\n",
       "      <th>work_year</th>\n",
       "      <td>6</td>\n",
       "    </tr>\n",
       "    <tr>\n",
       "      <th>experience_level</th>\n",
       "      <td>4</td>\n",
       "    </tr>\n",
       "    <tr>\n",
       "      <th>employment_type</th>\n",
       "      <td>4</td>\n",
       "    </tr>\n",
       "    <tr>\n",
       "      <th>job_title</th>\n",
       "      <td>398</td>\n",
       "    </tr>\n",
       "    <tr>\n",
       "      <th>salary</th>\n",
       "      <td>11444</td>\n",
       "    </tr>\n",
       "    <tr>\n",
       "      <th>salary_currency</th>\n",
       "      <td>26</td>\n",
       "    </tr>\n",
       "    <tr>\n",
       "      <th>salary_in_usd</th>\n",
       "      <td>12651</td>\n",
       "    </tr>\n",
       "    <tr>\n",
       "      <th>employee_residence</th>\n",
       "      <td>102</td>\n",
       "    </tr>\n",
       "    <tr>\n",
       "      <th>remote_ratio</th>\n",
       "      <td>3</td>\n",
       "    </tr>\n",
       "    <tr>\n",
       "      <th>company_location</th>\n",
       "      <td>95</td>\n",
       "    </tr>\n",
       "    <tr>\n",
       "      <th>company_size</th>\n",
       "      <td>3</td>\n",
       "    </tr>\n",
       "  </tbody>\n",
       "</table>\n",
       "</div><br><label><b>dtype:</b> int64</label>"
      ],
      "text/plain": [
       "work_year                 6\n",
       "experience_level          4\n",
       "employment_type           4\n",
       "job_title               398\n",
       "salary                11444\n",
       "salary_currency          26\n",
       "salary_in_usd         12651\n",
       "employee_residence      102\n",
       "remote_ratio              3\n",
       "company_location         95\n",
       "company_size              3\n",
       "dtype: int64"
      ]
     },
     "execution_count": 9,
     "metadata": {},
     "output_type": "execute_result"
    }
   ],
   "source": [
    "df.nunique()"
   ]
  },
  {
   "cell_type": "markdown",
   "id": "de6f4263",
   "metadata": {
    "id": "de6f4263",
    "papermill": {
     "duration": 0.005547,
     "end_time": "2025-06-29T18:57:53.413283",
     "exception": false,
     "start_time": "2025-06-29T18:57:53.407736",
     "status": "completed"
    },
    "tags": []
   },
   "source": [
    "# STEP 3: Data Cleaning"
   ]
  },
  {
   "cell_type": "code",
   "execution_count": 10,
   "id": "7c95ad5a",
   "metadata": {
    "execution": {
     "iopub.execute_input": "2025-06-29T18:57:53.425322Z",
     "iopub.status.busy": "2025-06-29T18:57:53.425040Z",
     "iopub.status.idle": "2025-06-29T18:57:53.543486Z",
     "shell.execute_reply": "2025-06-29T18:57:53.542590Z"
    },
    "executionInfo": {
     "elapsed": 131,
     "status": "ok",
     "timestamp": 1752092973064,
     "user": {
      "displayName": "Aitor Donado",
      "userId": "08246046509718212083"
     },
     "user_tz": -120
    },
    "id": "7c95ad5a",
    "papermill": {
     "duration": 0.126469,
     "end_time": "2025-06-29T18:57:53.545233",
     "exception": false,
     "start_time": "2025-06-29T18:57:53.418764",
     "status": "completed"
    },
    "tags": []
   },
   "outputs": [],
   "source": [
    "df.drop_duplicates(inplace=True)\n",
    "df.dropna(inplace=True)"
   ]
  },
  {
   "cell_type": "markdown",
   "id": "6812bb44",
   "metadata": {
    "id": "6812bb44",
    "papermill": {
     "duration": 0.005617,
     "end_time": "2025-06-29T18:57:53.556809",
     "exception": false,
     "start_time": "2025-06-29T18:57:53.551192",
     "status": "completed"
    },
    "tags": []
   },
   "source": [
    "# STEP 4: Exploratory Data Analysis (EDA)"
   ]
  },
  {
   "cell_type": "markdown",
   "id": "eb0e2df1",
   "metadata": {
    "id": "eb0e2df1",
    "papermill": {
     "duration": 0.005771,
     "end_time": "2025-06-29T18:57:53.568193",
     "exception": false,
     "start_time": "2025-06-29T18:57:53.562422",
     "status": "completed"
    },
    "tags": []
   },
   "source": [
    "## Salary Distribution Overview"
   ]
  },
  {
   "cell_type": "code",
   "execution_count": 11,
   "id": "4030e9fc",
   "metadata": {
    "colab": {
     "base_uri": "https://localhost:8080/",
     "height": 564
    },
    "execution": {
     "iopub.execute_input": "2025-06-29T18:57:53.580520Z",
     "iopub.status.busy": "2025-06-29T18:57:53.580241Z",
     "iopub.status.idle": "2025-06-29T18:57:54.369941Z",
     "shell.execute_reply": "2025-06-29T18:57:54.369079Z"
    },
    "executionInfo": {
     "elapsed": 717,
     "status": "ok",
     "timestamp": 1752092973791,
     "user": {
      "displayName": "Aitor Donado",
      "userId": "08246046509718212083"
     },
     "user_tz": -120
    },
    "id": "4030e9fc",
    "outputId": "7ac21bf2-7cbe-41d8-b762-a20e638bf247",
    "papermill": {
     "duration": 0.797661,
     "end_time": "2025-06-29T18:57:54.371431",
     "exception": false,
     "start_time": "2025-06-29T18:57:53.573770",
     "status": "completed"
    },
    "tags": []
   },
   "outputs": [
    {
     "data": {
      "image/png": "[encoded data removed]",
      "text/plain": [
       "<Figure size 1000x600 with 1 Axes>"
      ]
     },
     "metadata": {},
     "output_type": "display_data"
    }
   ],
   "source": [
    "plt.figure(figsize=(10, 6))\n",
    "sns.histplot(df[\"salary_in_usd\"], bins=50, kde=True)\n",
    "plt.title(\"Distribution of Salary in USD\")\n",
    "plt.xlabel(\"Salary in USD\")\n",
    "plt.ylabel(\"Frequency\")\n",
    "plt.show()"
   ]
  },
  {
   "cell_type": "markdown",
   "id": "7c4840b7",
   "metadata": {
    "id": "7c4840b7",
    "papermill": {
     "duration": 0.006333,
     "end_time": "2025-06-29T18:57:54.384771",
     "exception": false,
     "start_time": "2025-06-29T18:57:54.378438",
     "status": "completed"
    },
    "tags": []
   },
   "source": [
    "## Salaries by Experience Level"
   ]
  },
  {
   "cell_type": "code",
   "execution_count": 12,
   "id": "2883a73f",
   "metadata": {
    "colab": {
     "base_uri": "https://localhost:8080/",
     "height": 564
    },
    "execution": {
     "iopub.execute_input": "2025-06-29T18:57:54.399104Z",
     "iopub.status.busy": "2025-06-29T18:57:54.398757Z",
     "iopub.status.idle": "2025-06-29T18:57:54.627899Z",
     "shell.execute_reply": "2025-06-29T18:57:54.627227Z"
    },
    "executionInfo": {
     "elapsed": 342,
     "status": "ok",
     "timestamp": 1752092974131,
     "user": {
      "displayName": "Aitor Donado",
      "userId": "08246046509718212083"
     },
     "user_tz": -120
    },
    "id": "2883a73f",
    "outputId": "78075310-3586-4b58-c4c8-a5775fd4756f",
    "papermill": {
     "duration": 0.238542,
     "end_time": "2025-06-29T18:57:54.629814",
     "exception": false,
     "start_time": "2025-06-29T18:57:54.391272",
     "status": "completed"
    },
    "tags": []
   },
   "outputs": [
    {
     "data": {
      "image/png": "[encoded data removed]",
      "text/plain": [
       "<Figure size 1200x600 with 1 Axes>"
      ]
     },
     "metadata": {},
     "output_type": "display_data"
    }
   ],
   "source": [
    "plt.figure(figsize=(12, 6))\n",
    "sns.boxplot(x=\"experience_level\", y=\"salary_in_usd\", data=df)\n",
    "plt.title(\"Salary by Experience Level\")\n",
    "plt.show()"
   ]
  },
  {
   "cell_type": "markdown",
   "id": "be093924",
   "metadata": {
    "id": "be093924",
    "papermill": {
     "duration": 0.00742,
     "end_time": "2025-06-29T18:57:54.645096",
     "exception": false,
     "start_time": "2025-06-29T18:57:54.637676",
     "status": "completed"
    },
    "tags": []
   },
   "source": [
    "## Salaries by Employment Type"
   ]
  },
  {
   "cell_type": "code",
   "execution_count": 13,
   "id": "458492f9",
   "metadata": {
    "colab": {
     "base_uri": "https://localhost:8080/",
     "height": 564
    },
    "execution": {
     "iopub.execute_input": "2025-06-29T18:57:54.661991Z",
     "iopub.status.busy": "2025-06-29T18:57:54.661593Z",
     "iopub.status.idle": "2025-06-29T18:57:54.888778Z",
     "shell.execute_reply": "2025-06-29T18:57:54.887798Z"
    },
    "executionInfo": {
     "elapsed": 376,
     "status": "ok",
     "timestamp": 1752092974508,
     "user": {
      "displayName": "Aitor Donado",
      "userId": "08246046509718212083"
     },
     "user_tz": -120
    },
    "id": "458492f9",
    "outputId": "e6b16ff8-a322-4e39-f45d-6c62baf6e98f",
    "papermill": {
     "duration": 0.237483,
     "end_time": "2025-06-29T18:57:54.890206",
     "exception": false,
     "start_time": "2025-06-29T18:57:54.652723",
     "status": "completed"
    },
    "tags": []
   },
   "outputs": [
    {
     "data": {
      "image/png": "[encoded data removed]",
      "text/plain": [
       "<Figure size 1200x600 with 1 Axes>"
      ]
     },
     "metadata": {},
     "output_type": "display_data"
    }
   ],
   "source": [
    "plt.figure(figsize=(12, 6))\n",
    "sns.boxplot(x=\"employment_type\", y=\"salary_in_usd\", data=df)\n",
    "plt.title(\"Salary by Employment Type\")\n",
    "plt.show()"
   ]
  },
  {
   "cell_type": "markdown",
   "id": "ddf03ad5",
   "metadata": {
    "id": "ddf03ad5",
    "papermill": {
     "duration": 0.00829,
     "end_time": "2025-06-29T18:57:54.907347",
     "exception": false,
     "start_time": "2025-06-29T18:57:54.899057",
     "status": "completed"
    },
    "tags": []
   },
   "source": [
    "## Salaries by Company Size"
   ]
  },
  {
   "cell_type": "code",
   "execution_count": 14,
   "id": "a7ac9f7f",
   "metadata": {
    "colab": {
     "base_uri": "https://localhost:8080/",
     "height": 564
    },
    "execution": {
     "iopub.execute_input": "2025-06-29T18:57:54.925900Z",
     "iopub.status.busy": "2025-06-29T18:57:54.925562Z",
     "iopub.status.idle": "2025-06-29T18:57:55.140511Z",
     "shell.execute_reply": "2025-06-29T18:57:55.139378Z"
    },
    "executionInfo": {
     "elapsed": 304,
     "status": "ok",
     "timestamp": 1752092974813,
     "user": {
      "displayName": "Aitor Donado",
      "userId": "08246046509718212083"
     },
     "user_tz": -120
    },
    "id": "a7ac9f7f",
    "outputId": "b325babf-173f-4581-92e0-fd52ab38d191",
    "papermill": {
     "duration": 0.225837,
     "end_time": "2025-06-29T18:57:55.141893",
     "exception": false,
     "start_time": "2025-06-29T18:57:54.916056",
     "status": "completed"
    },
    "tags": []
   },
   "outputs": [
    {
     "data": {
      "image/png": "[encoded data removed]",
      "text/plain": [
       "<Figure size 1200x600 with 1 Axes>"
      ]
     },
     "metadata": {},
     "output_type": "display_data"
    }
   ],
   "source": [
    "plt.figure(figsize=(12, 6))\n",
    "sns.boxplot(x=\"company_size\", y=\"salary_in_usd\", data=df)\n",
    "plt.title(\"Salary by Company Size\")\n",
    "plt.show()"
   ]
  },
  {
   "cell_type": "markdown",
   "id": "2e8f35e6",
   "metadata": {
    "id": "2e8f35e6",
    "papermill": {
     "duration": 0.009457,
     "end_time": "2025-06-29T18:57:55.161471",
     "exception": false,
     "start_time": "2025-06-29T18:57:55.152014",
     "status": "completed"
    },
    "tags": []
   },
   "source": [
    "# STEP 5: Feature Engineering"
   ]
  },
  {
   "cell_type": "code",
   "execution_count": 15,
   "id": "8ce78bb6",
   "metadata": {
    "execution": {
     "iopub.execute_input": "2025-06-29T18:57:55.182971Z",
     "iopub.status.busy": "2025-06-29T18:57:55.181844Z",
     "iopub.status.idle": "2025-06-29T18:57:55.215641Z",
     "shell.execute_reply": "2025-06-29T18:57:55.214975Z"
    },
    "executionInfo": {
     "elapsed": 22,
     "status": "ok",
     "timestamp": 1752092974836,
     "user": {
      "displayName": "Aitor Donado",
      "userId": "08246046509718212083"
     },
     "user_tz": -120
    },
    "id": "8ce78bb6",
    "papermill": {
     "duration": 0.046043,
     "end_time": "2025-06-29T18:57:55.217175",
     "exception": false,
     "start_time": "2025-06-29T18:57:55.171132",
     "status": "completed"
    },
    "tags": []
   },
   "outputs": [],
   "source": [
    "df['job_title'] = df['job_title'].str.lower()\n",
    "top_jobs = df['job_title'].value_counts().head(15).index\n",
    "df = df[df['job_title'].isin(top_jobs)]"
   ]
  },
  {
   "cell_type": "markdown",
   "id": "87c1cdea",
   "metadata": {
    "id": "87c1cdea",
    "papermill": {
     "duration": 0.009559,
     "end_time": "2025-06-29T18:57:55.236860",
     "exception": false,
     "start_time": "2025-06-29T18:57:55.227301",
     "status": "completed"
    },
    "tags": []
   },
   "source": [
    "# STEP 6: Data Preprocessing"
   ]
  },
  {
   "cell_type": "code",
   "execution_count": 16,
   "id": "c6e7b30d",
   "metadata": {
    "execution": {
     "iopub.execute_input": "2025-06-29T18:57:55.257350Z",
     "iopub.status.busy": "2025-06-29T18:57:55.257044Z",
     "iopub.status.idle": "2025-06-29T18:57:55.375945Z",
     "shell.execute_reply": "2025-06-29T18:57:55.375042Z"
    },
    "executionInfo": {
     "elapsed": 83,
     "status": "ok",
     "timestamp": 1752092974922,
     "user": {
      "displayName": "Aitor Donado",
      "userId": "08246046509718212083"
     },
     "user_tz": -120
    },
    "id": "c6e7b30d",
    "papermill": {
     "duration": 0.131185,
     "end_time": "2025-06-29T18:57:55.377578",
     "exception": false,
     "start_time": "2025-06-29T18:57:55.246393",
     "status": "completed"
    },
    "tags": []
   },
   "outputs": [],
   "source": [
    "categorical_cols = ['experience_level', 'employment_type', 'job_title',\n",
    "                    'employee_residence', 'company_location', 'company_size']\n",
    "df_encoded = df.copy()\n",
    "le = LabelEncoder()\n",
    "for col in categorical_cols:\n",
    "    df_encoded[col] = le.fit_transform(df_encoded[col])\n",
    "\n",
    "X = df_encoded.drop(columns=[\"salary\", \"salary_currency\", \"salary_in_usd\"])\n",
    "y = df_encoded[\"salary_in_usd\"]\n",
    "\n",
    "scaler = StandardScaler()\n",
    "X_scaled = scaler.fit_transform(X)\n",
    "\n",
    "X_train, X_test, y_train, y_test = train_test_split(\n",
    "    X_scaled, y, test_size=0.2, random_state=537)"
   ]
  },
  {
   "cell_type": "markdown",
   "id": "1e611dad",
   "metadata": {
    "id": "1e611dad",
    "papermill": {
     "duration": 0.009441,
     "end_time": "2025-06-29T18:57:55.396883",
     "exception": false,
     "start_time": "2025-06-29T18:57:55.387442",
     "status": "completed"
    },
    "tags": []
   },
   "source": [
    "# STEP 7: Model Training"
   ]
  },
  {
   "cell_type": "code",
   "execution_count": 17,
   "id": "d0cb4b6e",
   "metadata": {
    "colab": {
     "base_uri": "https://localhost:8080/"
    },
    "execution": {
     "iopub.execute_input": "2025-06-29T18:57:55.417079Z",
     "iopub.status.busy": "2025-06-29T18:57:55.416693Z",
     "iopub.status.idle": "2025-06-29T18:59:21.364535Z",
     "shell.execute_reply": "2025-06-29T18:59:21.363380Z"
    },
    "executionInfo": {
     "elapsed": 108380,
     "status": "ok",
     "timestamp": 1752093083304,
     "user": {
      "displayName": "Aitor Donado",
      "userId": "08246046509718212083"
     },
     "user_tz": -120
    },
    "id": "d0cb4b6e",
    "outputId": "eeca4b26-8072-4368-f932-16497df4a7fb",
    "papermill": {
     "duration": 85.95969,
     "end_time": "2025-06-29T18:59:21.365997",
     "exception": false,
     "start_time": "2025-06-29T18:57:55.406307",
     "status": "completed"
    },
    "tags": []
   },
   "outputs": [
    {
     "name": "stdout",
     "output_type": "stream",
     "text": [
      "\n",
      "Linear Regression Results:\n",
      "Mean Squared Error: 5240804823.19\n",
      "R² Score: 0.15\n",
      "\n",
      "Ridge Regression Results:\n",
      "Mean Squared Error: 5240766271.31\n",
      "R² Score: 0.15\n",
      "\n",
      "Lasso Regression Results:\n",
      "Mean Squared Error: 5240743789.97\n",
      "R² Score: 0.15\n",
      "\n",
      "Random Forest Results:\n",
      "Mean Squared Error: 4585807409.62\n",
      "R² Score: 0.26\n",
      "\n",
      "Gradient Boosting Results:\n",
      "Mean Squared Error: 4634817117.13\n",
      "R² Score: 0.25\n",
      "\n",
      "AdaBoost Results:\n",
      "Mean Squared Error: 5337613920.29\n",
      "R² Score: 0.14\n",
      "\n",
      "Extra Trees Results:\n",
      "Mean Squared Error: 4614979308.03\n",
      "R² Score: 0.26\n",
      "\n",
      "Support Vector Regressor Results:\n",
      "Mean Squared Error: 6295954955.52\n",
      "R² Score: -0.02\n",
      "\n",
      "K-Nearest Neighbors Results:\n",
      "Mean Squared Error: 5533448406.41\n",
      "R² Score: 0.11\n"
     ]
    }
   ],
   "source": [
    "models = {\n",
    "    \"Linear Regression\": LinearRegression(),\n",
    "    \"Ridge Regression\": Ridge(),\n",
    "    \"Lasso Regression\": Lasso(),\n",
    "    \"Random Forest\": RandomForestRegressor(n_estimators=100, random_state=537),\n",
    "    \"Gradient Boosting\": GradientBoostingRegressor(n_estimators=100, random_state=537),\n",
    "    \"AdaBoost\": AdaBoostRegressor(n_estimators=100, random_state=537),\n",
    "    \"Extra Trees\": ExtraTreesRegressor(n_estimators=100, random_state=537),\n",
    "    \"Support Vector Regressor\": SVR(),\n",
    "    \"K-Nearest Neighbors\": KNeighborsRegressor(n_neighbors=5)\n",
    "}\n",
    "results = {}\n",
    "\n",
    "for name, model in models.items():\n",
    "    model.fit(X_train, y_train)\n",
    "    y_pred = model.predict(X_test)\n",
    "    mse = mean_squared_error(y_test, y_pred)\n",
    "    r2 = r2_score(y_test, y_pred)\n",
    "    results[name] = {\"MSE\": mse, \"R2\": r2}\n",
    "    print(f\"\\n{name} Results:\")\n",
    "    print(f\"Mean Squared Error: {mse:.2f}\")\n",
    "    print(f\"R² Score: {r2:.2f}\")"
   ]
  },
  {
   "cell_type": "markdown",
   "id": "d720bdec",
   "metadata": {
    "id": "d720bdec",
    "papermill": {
     "duration": 0.010087,
     "end_time": "2025-06-29T18:59:21.386237",
     "exception": false,
     "start_time": "2025-06-29T18:59:21.376150",
     "status": "completed"
    },
    "tags": []
   },
   "source": [
    "# STEP 8: Comparison Plot"
   ]
  },
  {
   "cell_type": "code",
   "execution_count": 6,
   "id": "5aae4840",
   "metadata": {
    "colab": {
     "base_uri": "https://localhost:8080/",
     "height": 608
    },
    "execution": {
     "iopub.execute_input": "2025-06-29T18:59:21.407966Z",
     "iopub.status.busy": "2025-06-29T18:59:21.407179Z",
     "iopub.status.idle": "2025-06-29T18:59:21.608820Z",
     "shell.execute_reply": "2025-06-29T18:59:21.607887Z"
    },
    "executionInfo": {
     "elapsed": 263,
     "status": "ok",
     "timestamp": 1752093083565,
     "user": {
      "displayName": "Aitor Donado",
      "userId": "08246046509718212083"
     },
     "user_tz": -120
    },
    "id": "5aae4840",
    "outputId": "5cdba07b-adc6-429e-8672-3ea957b2ed77",
    "papermill": {
     "duration": 0.214327,
     "end_time": "2025-06-29T18:59:21.610625",
     "exception": false,
     "start_time": "2025-06-29T18:59:21.396298",
     "status": "completed"
    },
    "tags": []
   },
   "outputs": [
    {
     "name": "stdout",
     "output_type": "stream",
     "text": [
      "🔍 Verificando variables necesarias para la comparación...\n",
      "⚠️  Variable 'results' no encontrada. Ejecutando entrenamiento de modelos...\n",
      "⚠️  Datos preprocesados no encontrados. Ejecutando preprocesamiento...\n",
      "🔄 Ejecutando preprocesamiento de datos...\n",
      "✅ Preprocesamiento completado\n",
      "🚀 Entrenando modelos...\n",
      "⏳ Entrenando Linear Regression...\n",
      "   ✅ MSE: 5240804823.19, R²: 0.15\n",
      "⏳ Entrenando Ridge Regression...\n",
      "   ✅ MSE: 5240766271.31, R²: 0.15\n",
      "⏳ Entrenando Lasso Regression...\n",
      "⚠️  Variable 'results' no encontrada. Ejecutando entrenamiento de modelos...\n",
      "⚠️  Datos preprocesados no encontrados. Ejecutando preprocesamiento...\n",
      "🔄 Ejecutando preprocesamiento de datos...\n",
      "✅ Preprocesamiento completado\n",
      "🚀 Entrenando modelos...\n",
      "⏳ Entrenando Linear Regression...\n",
      "   ✅ MSE: 5240804823.19, R²: 0.15\n",
      "⏳ Entrenando Ridge Regression...\n",
      "   ✅ MSE: 5240766271.31, R²: 0.15\n",
      "⏳ Entrenando Lasso Regression...\n",
      "   ✅ MSE: 5240743789.97, R²: 0.15\n",
      "⏳ Entrenando Random Forest...\n",
      "   ✅ MSE: 5240743789.97, R²: 0.15\n",
      "⏳ Entrenando Random Forest...\n",
      "   ✅ MSE: 4585807409.62, R²: 0.26\n",
      "⏳ Entrenando Gradient Boosting...\n",
      "   ✅ MSE: 4585807409.62, R²: 0.26\n",
      "⏳ Entrenando Gradient Boosting...\n",
      "   ✅ MSE: 4634817117.13, R²: 0.25\n",
      "⏳ Entrenando AdaBoost...\n",
      "   ✅ MSE: 4634817117.13, R²: 0.25\n",
      "⏳ Entrenando AdaBoost...\n",
      "   ✅ MSE: 5337613920.29, R²: 0.14\n",
      "⏳ Entrenando Extra Trees...\n",
      "   ✅ MSE: 5337613920.29, R²: 0.14\n",
      "⏳ Entrenando Extra Trees...\n",
      "   ✅ MSE: 4614979308.03, R²: 0.26\n",
      "⏳ Entrenando Support Vector Regressor...\n",
      "   ✅ MSE: 4614979308.03, R²: 0.26\n",
      "⏳ Entrenando Support Vector Regressor...\n",
      "   ✅ MSE: 6295954955.52, R²: -0.02\n",
      "⏳ Entrenando K-Nearest Neighbors...\n",
      "   ✅ MSE: 6295954955.52, R²: -0.02\n",
      "⏳ Entrenando K-Nearest Neighbors...\n",
      "   ✅ MSE: 5415352275.97, R²: 0.13\n",
      "✅ Entrenamiento de modelos completado\n",
      "\n",
      "📊 Creando gráfico de comparación...\n",
      "   ✅ MSE: 5415352275.97, R²: 0.13\n",
      "✅ Entrenamiento de modelos completado\n",
      "\n",
      "📊 Creando gráfico de comparación...\n"
     ]
    },
    {
     "data": {
      "image/png": "[encoded data removed]",
      "text/plain": [
       "<Figure size 1200x800 with 2 Axes>"
      ]
     },
     "metadata": {},
     "output_type": "display_data"
    },
    {
     "name": "stdout",
     "output_type": "stream",
     "text": [
      "\n",
      "📋 Tabla de Resultados:\n",
      "============================================================\n",
      "                                   MSE      R2\n",
      "Random Forest             4.585807e+09  0.2601\n",
      "Extra Trees               4.614979e+09  0.2554\n",
      "Gradient Boosting         4.634817e+09  0.2522\n",
      "Linear Regression         5.240805e+09  0.1544\n",
      "Lasso Regression          5.240744e+09  0.1544\n",
      "Ridge Regression          5.240766e+09  0.1544\n",
      "AdaBoost                  5.337614e+09  0.1388\n",
      "K-Nearest Neighbors       5.415352e+09  0.1262\n",
      "Support Vector Regressor  6.295955e+09 -0.0159\n",
      "\n",
      "🏆 Mejor modelo: Random Forest\n",
      "🎯 R² Score: 0.2601\n",
      "\n",
      "✅ Comparación de modelos completada!\n"
     ]
    }
   ],
   "source": [
    "print(\"🔍 Verificando variables necesarias para la comparación...\")\n",
    "\n",
    "# Importar todas las librerías necesarias al principio\n",
    "import pandas as pd\n",
    "import numpy as np\n",
    "import os\n",
    "import matplotlib.pyplot as plt\n",
    "import seaborn as sns\n",
    "from sklearn.model_selection import train_test_split\n",
    "from sklearn.preprocessing import LabelEncoder, StandardScaler\n",
    "from sklearn.linear_model import LinearRegression, Ridge, Lasso\n",
    "from sklearn.ensemble import RandomForestRegressor, GradientBoostingRegressor, AdaBoostRegressor, ExtraTreesRegressor\n",
    "from sklearn.svm import SVR\n",
    "from sklearn.neighbors import KNeighborsRegressor\n",
    "from sklearn.metrics import mean_squared_error, r2_score\n",
    "import warnings\n",
    "warnings.filterwarnings(\"ignore\")\n",
    "\n",
    "# Verificar si results existe\n",
    "if 'results' not in locals() and 'results' not in globals():\n",
    "    print(\"⚠️  Variable 'results' no encontrada. Ejecutando entrenamiento de modelos...\")\n",
    "    \n",
    "    # Verificar si tenemos los datos necesarios\n",
    "    if 'df' not in locals() and 'df' not in globals():\n",
    "        print(\"❌ Dataset no encontrado. Cargando datos...\")\n",
    "        \n",
    "        # Intentar cargar datos\n",
    "        try:\n",
    "            import kagglehub\n",
    "            path = kagglehub.dataset_download(\"adilshamim8/salaries-for-data-science-jobs\")\n",
    "            df = pd.read_csv(os.path.join(path, \"salaries.csv\"))\n",
    "            print(\"✅ Dataset cargado exitosamente\")\n",
    "        except Exception as e:\n",
    "            print(f\"❌ Error al cargar dataset: {e}\")\n",
    "            print(\"💡 Por favor, ejecuta primero las celdas anteriores en orden\")\n",
    "            \n",
    "            # Crear datos de muestra para demostración\n",
    "            print(\"📊 Creando datos de muestra para demostración...\")\n",
    "            np.random.seed(42)\n",
    "            n_samples = 1000\n",
    "            \n",
    "            df = pd.DataFrame({\n",
    "                'work_year': np.random.choice([2020, 2021, 2022, 2023, 2024], n_samples),\n",
    "                'experience_level': np.random.choice(['EN', 'MI', 'SE', 'EX'], n_samples),\n",
    "                'employment_type': np.random.choice(['FT', 'PT', 'CT', 'FL'], n_samples),\n",
    "                'job_title': np.random.choice(['data scientist', 'data analyst', 'ml engineer', 'software engineer'], n_samples),\n",
    "                'salary_in_usd': np.random.normal(100000, 30000, n_samples),\n",
    "                'employee_residence': np.random.choice(['US', 'UK', 'CA', 'DE'], n_samples),\n",
    "                'remote_ratio': np.random.choice([0, 50, 100], n_samples),\n",
    "                'company_location': np.random.choice(['US', 'UK', 'CA', 'DE'], n_samples),\n",
    "                'company_size': np.random.choice(['S', 'M', 'L'], n_samples),\n",
    "                'salary': np.random.normal(100000, 30000, n_samples),\n",
    "                'salary_currency': 'USD'\n",
    "            })\n",
    "            print(\"✅ Datos de muestra creados\")\n",
    "    \n",
    "    # Verificar si tenemos los datos preprocesados\n",
    "    if 'X_train' not in locals() or 'X_test' not in locals() or 'y_train' not in locals() or 'y_test' not in locals():\n",
    "        print(\"⚠️  Datos preprocesados no encontrados. Ejecutando preprocesamiento...\")\n",
    "        \n",
    "        # Preprocesamiento básico\n",
    "        print(\"🔄 Ejecutando preprocesamiento de datos...\")\n",
    "        \n",
    "        # Limpiar datos\n",
    "        df.drop_duplicates(inplace=True)\n",
    "        df.dropna(inplace=True)\n",
    "        \n",
    "        # Feature engineering básico\n",
    "        df['job_title'] = df['job_title'].str.lower()\n",
    "        top_jobs = df['job_title'].value_counts().head(15).index\n",
    "        df = df[df['job_title'].isin(top_jobs)]\n",
    "        \n",
    "        # Encoding\n",
    "        categorical_cols = ['experience_level', 'employment_type', 'job_title',\n",
    "                            'employee_residence', 'company_location', 'company_size']\n",
    "        df_encoded = df.copy()\n",
    "        le = LabelEncoder()\n",
    "        for col in categorical_cols:\n",
    "            df_encoded[col] = le.fit_transform(df_encoded[col])\n",
    "        \n",
    "        # Preparar features y target\n",
    "        X = df_encoded.drop(columns=[\"salary\", \"salary_currency\", \"salary_in_usd\"])\n",
    "        y = df_encoded[\"salary_in_usd\"]\n",
    "        \n",
    "        # Normalizar\n",
    "        scaler = StandardScaler()\n",
    "        X_scaled = scaler.fit_transform(X)\n",
    "        \n",
    "        # Split\n",
    "        X_train, X_test, y_train, y_test = train_test_split(\n",
    "            X_scaled, y, test_size=0.2, random_state=537)\n",
    "        \n",
    "        print(\"✅ Preprocesamiento completado\")\n",
    "    \n",
    "    # Entrenar modelos\n",
    "    print(\"🚀 Entrenando modelos...\")\n",
    "    \n",
    "    models = {\n",
    "        \"Linear Regression\": LinearRegression(),\n",
    "        \"Ridge Regression\": Ridge(),\n",
    "        \"Lasso Regression\": Lasso(),\n",
    "        \"Random Forest\": RandomForestRegressor(n_estimators=100, random_state=537),\n",
    "        \"Gradient Boosting\": GradientBoostingRegressor(n_estimators=100, random_state=537),\n",
    "        \"AdaBoost\": AdaBoostRegressor(n_estimators=100, random_state=537),\n",
    "        \"Extra Trees\": ExtraTreesRegressor(n_estimators=100, random_state=537),\n",
    "        \"Support Vector Regressor\": SVR(),\n",
    "        \"K-Nearest Neighbors\": KNeighborsRegressor(n_neighbors=5)\n",
    "    }\n",
    "    \n",
    "    results = {}\n",
    "    \n",
    "    for name, model in models.items():\n",
    "        try:\n",
    "            print(f\"⏳ Entrenando {name}...\")\n",
    "            model.fit(X_train, y_train)\n",
    "            y_pred = model.predict(X_test)\n",
    "            mse = mean_squared_error(y_test, y_pred)\n",
    "            r2 = r2_score(y_test, y_pred)\n",
    "            results[name] = {\"MSE\": mse, \"R2\": r2}\n",
    "            print(f\"   ✅ MSE: {mse:.2f}, R²: {r2:.2f}\")\n",
    "        except Exception as e:\n",
    "            print(f\"   ❌ Error en {name}: {e}\")\n",
    "            results[name] = {\"MSE\": 0, \"R2\": 0}\n",
    "    \n",
    "    print(\"✅ Entrenamiento de modelos completado\")\n",
    "\n",
    "# Crear gráfico de comparación\n",
    "if 'results' in locals() or 'results' in globals():\n",
    "    print(\"\\n📊 Creando gráfico de comparación...\")\n",
    "    \n",
    "    # Crear DataFrame con resultados\n",
    "    result_df = pd.DataFrame(results).T\n",
    "    \n",
    "    # Crear gráfico\n",
    "    plt.figure(figsize=(12, 8))\n",
    "    \n",
    "    # Gráfico principal\n",
    "    plt.subplot(2, 1, 1)\n",
    "    bars = plt.bar(result_df.index, result_df[\"R2\"], color='skyblue', alpha=0.8)\n",
    "    plt.title(\"Model Comparison by R² Score\", fontsize=16, fontweight='bold')\n",
    "    plt.ylabel(\"R² Score\", fontsize=12)\n",
    "    plt.xticks(rotation=45, ha='right')\n",
    "    plt.ylim(0, 1)\n",
    "    plt.grid(axis='y', alpha=0.3)\n",
    "    \n",
    "    # Agregar valores en las barras\n",
    "    for bar, r2 in zip(bars, result_df[\"R2\"]):\n",
    "        height = bar.get_height()\n",
    "        plt.text(bar.get_x() + bar.get_width()/2., height + 0.01,\n",
    "                f'{r2:.3f}', ha='center', va='bottom', fontweight='bold')\n",
    "    \n",
    "    # Gráfico de MSE\n",
    "    plt.subplot(2, 1, 2)\n",
    "    bars_mse = plt.bar(result_df.index, result_df[\"MSE\"], color='lightcoral', alpha=0.8)\n",
    "    plt.title(\"Model Comparison by Mean Squared Error\", fontsize=16, fontweight='bold')\n",
    "    plt.ylabel(\"MSE\", fontsize=12)\n",
    "    plt.xticks(rotation=45, ha='right')\n",
    "    plt.grid(axis='y', alpha=0.3)\n",
    "    \n",
    "    # Agregar valores en las barras MSE\n",
    "    for bar, mse in zip(bars_mse, result_df[\"MSE\"]):\n",
    "        height = bar.get_height()\n",
    "        plt.text(bar.get_x() + bar.get_width()/2., height + max(result_df[\"MSE\"])*0.01,\n",
    "                f'{mse:.0f}', ha='center', va='bottom', fontweight='bold')\n",
    "    \n",
    "    plt.tight_layout()\n",
    "    plt.show()\n",
    "    \n",
    "    # Mostrar tabla de resultados\n",
    "    print(\"\\n📋 Tabla de Resultados:\")\n",
    "    print(\"=\" * 60)\n",
    "    result_df_display = result_df.copy()\n",
    "    result_df_display['MSE'] = result_df_display['MSE'].round(2)\n",
    "    result_df_display['R2'] = result_df_display['R2'].round(4)\n",
    "    result_df_display = result_df_display.sort_values('R2', ascending=False)\n",
    "    \n",
    "    print(result_df_display.to_string())\n",
    "    \n",
    "    # Identificar mejor modelo\n",
    "    best_model = result_df_display.index[0]\n",
    "    best_r2 = result_df_display.iloc[0]['R2']\n",
    "    \n",
    "    print(f\"\\n🏆 Mejor modelo: {best_model}\")\n",
    "    print(f\"🎯 R² Score: {best_r2:.4f}\")\n",
    "    \n",
    "else:\n",
    "    print(\"❌ No se pudieron entrenar los modelos. Por favor, ejecuta las celdas anteriores en orden.\")\n",
    "\n",
    "print(\"\\n✅ Comparación de modelos completada!\")"
   ]
  },
  {
   "cell_type": "markdown",
   "id": "f0c72254",
   "metadata": {
    "id": "f0c72254",
    "papermill": {
     "duration": 0.01101,
     "end_time": "2025-06-29T18:59:21.633174",
     "exception": false,
     "start_time": "2025-06-29T18:59:21.622164",
     "status": "completed"
    },
    "tags": []
   },
   "source": [
    "---\n",
    "\n",
    "## Project Summary\n",
    "\n",
    "**Title:** *Salary Prediction Using Multiple Regression Models*\n",
    "\n",
    "---\n",
    "\n",
    "###  Step 1–3: Data Preparation\n",
    "\n",
    "* **Loaded data** and performed `df.info()` and `df.head()` to understand the structure.\n",
    "* **Removed duplicates** and ensured there were no missing values.\n",
    "* Normalized text data (e.g., made `job_title` lowercase).\n",
    "* Filtered for the **top 15 most frequent job titles** to simplify modeling.\n",
    "\n",
    "---\n",
    "\n",
    "###  Step 4: Exploratory Data Analysis (EDA)\n",
    "\n",
    "Performed multiple **visualizations** using Seaborn and Matplotlib:\n",
    "\n",
    "1. **Salary Distribution:**\n",
    "\n",
    "   * Right-skewed distribution\n",
    "   * Salaries mostly under \\$200k, with some outliers\n",
    "\n",
    "2. **Salary by Experience Level:**\n",
    "\n",
    "   * Clear salary increase with experience\n",
    "   * Executive-level roles earn significantly more\n",
    "\n",
    "3. **Salary by Employment Type:**\n",
    "\n",
    "   * Full-time jobs (FT) pay significantly more\n",
    "   * Freelance and part-time have wider salary ranges\n",
    "\n",
    "4. **Salary by Company Size:**\n",
    "\n",
    "   * Larger companies (L) tend to pay better on average\n",
    "   * More variability in medium-sized companies\n",
    "\n",
    "---\n",
    "\n",
    "###  Step 5–6: Feature Engineering & Preprocessing\n",
    "\n",
    "* Applied **Label Encoding** to categorical columns:\n",
    "\n",
    "  * `experience_level`, `employment_type`, `job_title`, `company_location`, etc.\n",
    "* Used **StandardScaler** to normalize numeric features.\n",
    "* Defined:\n",
    "\n",
    "  ```python\n",
    "  X = features (excluding salary & currency)  \n",
    "  y = salary_in_usd  \n",
    "  ```\n",
    "* **Train-Test Split**: 80% train / 20% test with `random_state=42`\n",
    "\n",
    "---\n",
    "\n",
    "###  Step 7: Model Training\n",
    "\n",
    "Trained and compared **9 regression models**:\n",
    "\n",
    "| Model Type               | Description                              |\n",
    "| ------------------------ | ---------------------------------------- |\n",
    "| Linear Regression        | Basic linear relationship                |\n",
    "| Ridge Regression         | L2 regularization to reduce overfitting  |\n",
    "| Lasso Regression         | L1 regularization for feature selection  |\n",
    "| Random Forest            | Ensemble of decision trees (bagging)     |\n",
    "| Gradient Boosting        | Boosting with residual fitting           |\n",
    "| AdaBoost                 | Adaptive boosting on weak learners       |\n",
    "| Extra Trees              | Similar to RF but with extra randomness  |\n",
    "| Support Vector Regressor | Non-linear boundary fitting with kernels |\n",
    "| K-Nearest Neighbors      | Lazy algorithm based on proximity        |\n",
    "\n",
    "Each model was evaluated with:\n",
    "\n",
    "* **Mean Squared Error (MSE)**\n",
    "* **R² Score**\n",
    "\n",
    "All results were stored in a dictionary and printed per model.\n",
    "\n",
    "---\n",
    "\n",
    "###  Step 8: Model Comparison Plot\n",
    "\n",
    "Used `sns.barplot()` to visualize the **R² scores of all models**.\n",
    "\n",
    "* **Best performers:**\n",
    "\n",
    "  *  Random Forest\n",
    "  *  Gradient Boosting\n",
    "  *  Extra Trees\n",
    "\n",
    "* **Linear/Ridge/Lasso:** Baseline models with moderate performance\n",
    "\n",
    "* **SVR / KNN / AdaBoost:** Less accurate on large, high-variance data\n",
    "\n",
    "---\n",
    "\n",
    "# Thank you for taking the time to review my work. I would be very happy if you could upvote! 😊\n",
    "\n",
    "---\n",
    "\n"
   ]
  },
  {
   "cell_type": "code",
   "execution_count": 18,
   "id": "b9e254c1",
   "metadata": {
    "executionInfo": {
     "elapsed": 4,
     "status": "ok",
     "timestamp": 1752093083570,
     "user": {
      "displayName": "Aitor Donado",
      "userId": "08246046509718212083"
     },
     "user_tz": -120
    },
    "id": "b9e254c1",
    "papermill": {
     "duration": 0.010875,
     "end_time": "2025-06-29T18:59:21.655100",
     "exception": false,
     "start_time": "2025-06-29T18:59:21.644225",
     "status": "completed"
    },
    "tags": []
   },
   "outputs": [],
   "source": []
  }
 ],
 "metadata": {
  "colab": {
   "provenance": []
  },
  "kaggle": {
   "accelerator": "none",
   "dataSources": [
    {
     "datasetId": 7714230,
     "sourceId": 12279051,
     "sourceType": "datasetVersion"
    }
   ],
   "dockerImageVersionId": 31040,
   "isGpuEnabled": false,
   "isInternetEnabled": true,
   "language": "python",
   "sourceType": "notebook"
  },
  "kernelspec": {
   "display_name": ".venv",
   "language": "python",
   "name": "python3"
  },
  "language_info": {
   "codemirror_mode": {
    "name": "ipython",
    "version": 3
   },
   "file_extension": ".py",
   "mimetype": "text/x-python",
   "name": "python",
   "nbconvert_exporter": "python",
   "pygments_lexer": "ipython3",
   "version": "3.12.10"
  },
  "papermill": {
   "default_parameters": {},
   "duration": 100.399267,
   "end_time": "2025-06-29T18:59:22.386565",
   "environment_variables": {},
   "exception": null,
   "input_path": "__notebook__.ipynb",
   "output_path": "__notebook__.ipynb",
   "parameters": {},
   "start_time": "2025-06-29T18:57:41.987298",
   "version": "2.6.0"
  }
 },
 "nbformat": 4,
 "nbformat_minor": 5
}

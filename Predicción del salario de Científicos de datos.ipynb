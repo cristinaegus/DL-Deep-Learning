{
 "cells": [
  {
   "cell_type": "markdown",
   "id": "c779f3c7",
   "metadata": {
    "id": "c779f3c7"
   },
   "source": [
    "---\n",
    "\n",
    "##  Dataset Summary: `salaries.csv`\n",
    "\n",
    "https://www.kaggle.com/code/muhammedaliyilmazz/salary-prediction-using-multiple-regression-models\n",
    "\n",
    "This dataset contains **133,349 rows** and **11 columns**, each representing various attributes related to tech or data job roles and their corresponding salaries. The target variable is `salary_in_usd`, which represents the normalized annual salary of each employee in USD.\n",
    "\n",
    "The dataset provides a comprehensive view of salaries based on multiple demographic, job-related, and company-related factors.\n",
    "\n",
    "---\n",
    "\n",
    "##  Feature Descriptions\n",
    "\n",
    "| Column Name                                       | Data Type   | Description                                                                                                                                                   |\n",
    "| ------------------------------------------------- | ----------- | ------------------------------------------------------------------------------------------------------------------------------------------------------------- |\n",
    "| **`work_year`**                                   | Integer     | The year in which the salary data was reported (e.g., 2023, 2024, 2025). Useful for time-based salary trends.                                                 |\n",
    "| **`experience_level`**                            | Categorical | The level of experience the employee has:                                                                                                                     |\n",
    "| → `EN`: Entry-level                               |             |                                                                                                                                                               |\n",
    "| → `MI`: Mid-level                                 |             |                                                                                                                                                               |\n",
    "| → `SE`: Senior-level                              |             |                                                                                                                                                               |\n",
    "| → `EX`: Executive-level                           |             |                                                                                                                                                               |\n",
    "| **`employment_type`**                             | Categorical | Type of employment contract:                                                                                                                                  |\n",
    "| → `FT`: Full-time                                 |             |                                                                                                                                                               |\n",
    "| → `PT`: Part-time                                 |             |                                                                                                                                                               |\n",
    "| → `CT`: Contract-based                            |             |                                                                                                                                                               |\n",
    "| → `FL`: Freelance                                 |             |                                                                                                                                                               |\n",
    "| **`job_title`**                                   | Text        | The employee’s job role, such as `Data Scientist`, `ML Engineer`, `Data Analyst`, `Software Engineer`, etc. Useful for analyzing role-specific salary trends. |\n",
    "| **`salary`**                                      | Numeric     | The employee's gross salary in the original currency before conversion. Not standardized, so less useful for comparison.                                      |\n",
    "| **`salary_currency`**                             | Text        | The original currency code in which the salary was paid (e.g., USD, EUR, INR).                                                                                |\n",
    "| **`salary_in_usd`**                               | Numeric     | 🔥 **Target variable** — The employee’s annual salary converted into USD. This is what we aim to predict.                                                     |\n",
    "| **`employee_residence`**                          | Text        | The country where the employee resides, regardless of the company's location. Used to detect geographic salary disparities.                                   |\n",
    "| **`remote_ratio`**                                | Integer     | Percentage of remote work:                                                                                                                                    |\n",
    "| → `0`: On-site                                    |             |                                                                                                                                                               |\n",
    "| → `50`: Hybrid                                    |             |                                                                                                                                                               |\n",
    "| → `100`: Fully remote                             |             |                                                                                                                                                               |\n",
    "| Affects salary depending on remote work policies. |             |                                                                                                                                                               |\n",
    "| **`company_location`**                            | Text        | Country where the company is headquartered. Used for regional company-level salary comparisons.                                                               |\n",
    "| **`company_size`**                                | Categorical | Company scale:                                                                                                                                                |\n",
    "| → `S`: Small (1–50 employees)                     |             |                                                                                                                                                               |\n",
    "| → `M`: Medium (51–250 employees)                  |             |                                                                                                                                                               |\n",
    "| → `L`: Large (251+ employees)                     |             |                                                                                                                                                               |\n",
    "| Often correlates with salary range.               |             |                                                                                                                                                               |\n",
    "\n",
    "---"
   ]
  },
  {
   "cell_type": "markdown",
   "id": "b1cb76bf",
   "metadata": {
    "id": "b1cb76bf"
   },
   "source": [
    "# STEP 1: Import Required Libraries"
   ]
  },
  {
   "cell_type": "code",
   "execution_count": 1,
   "id": "924ace79",
   "metadata": {
    "colab": {
     "base_uri": "https://localhost:8080/",
     "height": 36
    },
    "executionInfo": {
     "elapsed": 13634,
     "status": "ok",
     "timestamp": 1752134446406,
     "user": {
      "displayName": "Aitor Donado",
      "userId": "08246046509718212083"
     },
     "user_tz": -120
    },
    "id": "924ace79",
    "outputId": "ba71047d-0402-4708-b2aa-ea2829d0718a"
   },
   "outputs": [
    {
     "data": {
      "text/plain": [
       "\"\\nfor dirname, _, filenames in os.walk('/kaggle/input'):\\n    for filename in filenames:\\n        print(os.path.join(dirname, filename))\""
      ]
     },
     "execution_count": 1,
     "metadata": {},
     "output_type": "execute_result"
    }
   ],
   "source": [
    "# Basic and visualization libraries\n",
    "import numpy as np\n",
    "import pandas as pd\n",
    "import matplotlib.pyplot as plt\n",
    "import seaborn as sns\n",
    "import warnings\n",
    "warnings.filterwarnings(\"ignore\")\n",
    "\n",
    "# Scikit-learn for preprocessing and classic models\n",
    "from sklearn.model_selection import train_test_split\n",
    "from sklearn.preprocessing import LabelEncoder, StandardScaler\n",
    "from sklearn.linear_model import LinearRegression, Ridge, Lasso\n",
    "from sklearn.ensemble import RandomForestRegressor, GradientBoostingRegressor, AdaBoostRegressor, ExtraTreesRegressor\n",
    "from sklearn.svm import SVR\n",
    "from sklearn.neighbors import KNeighborsRegressor\n",
    "from sklearn.metrics import mean_squared_error, r2_score\n",
    "\n",
    "# (NUEVO) TensorFlow and Keras for Neural Network\n",
    "import tensorflow as tf\n",
    "from tensorflow.keras.models import Sequential\n",
    "from tensorflow.keras.layers import Dense, Dropout\n",
    "\n",
    "# File system\n",
    "import os\n",
    "\"\"\"\n",
    "for dirname, _, filenames in os.walk('/kaggle/input'):\n",
    "    for filename in filenames:\n",
    "        print(os.path.join(dirname, filename))\"\"\""
   ]
  },
  {
   "cell_type": "markdown",
   "id": "280e3ead",
   "metadata": {
    "id": "280e3ead"
   },
   "source": [
    "# STEP 2: Load Data"
   ]
  },
  {
   "cell_type": "code",
   "execution_count": 3,
   "id": "AUCrPVu83-qs",
   "metadata": {
    "colab": {
     "base_uri": "https://localhost:8080/"
    },
    "executionInfo": {
     "elapsed": 3685,
     "status": "ok",
     "timestamp": 1752134450088,
     "user": {
      "displayName": "Aitor Donado",
      "userId": "08246046509718212083"
     },
     "user_tz": -120
    },
    "id": "AUCrPVu83-qs",
    "outputId": "c50993f8-a373-43ad-a05a-537167936bf8"
   },
   "outputs": [
    {
     "name": "stdout",
     "output_type": "stream",
     "text": [
      "📦 Instalando kagglehub...\n",
      "✅ kagglehub instalado correctamente\n",
      "📥 Descargando dataset...\n",
      "✅ kagglehub instalado correctamente\n",
      "📥 Descargando dataset...\n",
      "Downloading from https://www.kaggle.com/api/v1/datasets/download/adilshamim8/salaries-for-data-science-jobs?dataset_version_number=5...\n",
      "Downloading from https://www.kaggle.com/api/v1/datasets/download/adilshamim8/salaries-for-data-science-jobs?dataset_version_number=5...\n"
     ]
    },
    {
     "name": "stderr",
     "output_type": "stream",
     "text": [
      "100%|██████████| 2.21M/2.21M [00:00<00:00, 3.55MB/s]"
     ]
    },
    {
     "name": "stdout",
     "output_type": "stream",
     "text": [
      "Extracting files...\n"
     ]
    },
    {
     "name": "stderr",
     "output_type": "stream",
     "text": [
      "\n"
     ]
    },
    {
     "name": "stdout",
     "output_type": "stream",
     "text": [
      "📍 Path to dataset files: C:\\Users\\Dell\\.cache\\kagglehub\\datasets\\adilshamim8\\salaries-for-data-science-jobs\\versions\\5\n"
     ]
    }
   ],
   "source": [
    "# Instalar kagglehub si no está instalado\n",
    "import sys\n",
    "import subprocess\n",
    "\n",
    "try:\n",
    "    import kagglehub\n",
    "    print(\"✅ kagglehub ya está instalado\")\n",
    "except ImportError:\n",
    "    print(\"📦 Instalando kagglehub...\")\n",
    "    subprocess.check_call([sys.executable, \"-m\", \"pip\", \"install\", \"kagglehub\"])\n",
    "    import kagglehub\n",
    "    print(\"✅ kagglehub instalado correctamente\")\n",
    "\n",
    "# Download latest version\n",
    "print(\"📥 Descargando dataset...\")\n",
    "path = kagglehub.dataset_download(\"adilshamim8/salaries-for-data-science-jobs\")\n",
    "\n",
    "print(\"📍 Path to dataset files:\", path)"
   ]
  },
  {
   "cell_type": "code",
   "execution_count": 4,
   "id": "MR8HDRWB7IpA",
   "metadata": {
    "execution": {
     "iopub.execute_input": "2025-06-29T18:57:52.751831Z",
     "iopub.status.busy": "2025-06-29T18:57:52.751398Z",
     "iopub.status.idle": "2025-06-29T18:57:53.033817Z",
     "shell.execute_reply": "2025-06-29T18:57:53.033121Z"
    },
    "executionInfo": {
     "elapsed": 809,
     "status": "ok",
     "timestamp": 1752134450898,
     "user": {
      "displayName": "Aitor Donado",
      "userId": "08246046509718212083"
     },
     "user_tz": -120
    },
    "id": "MR8HDRWB7IpA",
    "papermill": {
     "duration": 0.289659,
     "end_time": "2025-06-29T18:57:53.035362",
     "exception": false,
     "start_time": "2025-06-29T18:57:52.745703",
     "status": "completed"
    },
    "tags": []
   },
   "outputs": [],
   "source": [
    "df=pd.read_csv(os.path.join(path, \"salaries.csv\"))"
   ]
  },
  {
   "cell_type": "code",
   "execution_count": 4,
   "id": "d36d1534",
   "metadata": {
    "colab": {
     "base_uri": "https://localhost:8080/",
     "height": 365
    },
    "executionInfo": {
     "elapsed": 3,
     "status": "ok",
     "timestamp": 1752134450903,
     "user": {
      "displayName": "Aitor Donado",
      "userId": "08246046509718212083"
     },
     "user_tz": -120
    },
    "id": "d36d1534",
    "outputId": "92ed8aab-95f7-4d28-c086-6ccbc0fdb1ce"
   },
   "outputs": [
    {
     "data": {
      "application/vnd.google.colaboratory.intrinsic+json": {
       "type": "dataframe",
       "variable_name": "df"
      },
      "text/html": [
       "\n",
       "  <div id=\"df-28e2980e-8f5e-4244-b7eb-dbd34e0242e7\" class=\"colab-df-container\">\n",
       "    <div>\n",
       "<style scoped>\n",
       "    .dataframe tbody tr th:only-of-type {\n",
       "        vertical-align: middle;\n",
       "    }\n",
       "\n",
       "    .dataframe tbody tr th {\n",
       "        vertical-align: top;\n",
       "    }\n",
       "\n",
       "    .dataframe thead th {\n",
       "        text-align: right;\n",
       "    }\n",
       "</style>\n",
       "<table border=\"1\" class=\"dataframe\">\n",
       "  <thead>\n",
       "    <tr style=\"text-align: right;\">\n",
       "      <th></th>\n",
       "      <th>work_year</th>\n",
       "      <th>experience_level</th>\n",
       "      <th>employment_type</th>\n",
       "      <th>job_title</th>\n",
       "      <th>salary</th>\n",
       "      <th>salary_currency</th>\n",
       "      <th>salary_in_usd</th>\n",
       "      <th>employee_residence</th>\n",
       "      <th>remote_ratio</th>\n",
       "      <th>company_location</th>\n",
       "      <th>company_size</th>\n",
       "    </tr>\n",
       "  </thead>\n",
       "  <tbody>\n",
       "    <tr>\n",
       "      <th>0</th>\n",
       "      <td>2025</td>\n",
       "      <td>MI</td>\n",
       "      <td>FT</td>\n",
       "      <td>Data Scientist</td>\n",
       "      <td>132600</td>\n",
       "      <td>USD</td>\n",
       "      <td>132600</td>\n",
       "      <td>US</td>\n",
       "      <td>100</td>\n",
       "      <td>US</td>\n",
       "      <td>M</td>\n",
       "    </tr>\n",
       "    <tr>\n",
       "      <th>1</th>\n",
       "      <td>2025</td>\n",
       "      <td>MI</td>\n",
       "      <td>FT</td>\n",
       "      <td>Data Scientist</td>\n",
       "      <td>102000</td>\n",
       "      <td>USD</td>\n",
       "      <td>102000</td>\n",
       "      <td>US</td>\n",
       "      <td>100</td>\n",
       "      <td>US</td>\n",
       "      <td>M</td>\n",
       "    </tr>\n",
       "    <tr>\n",
       "      <th>2</th>\n",
       "      <td>2025</td>\n",
       "      <td>SE</td>\n",
       "      <td>FT</td>\n",
       "      <td>Data Product Manager</td>\n",
       "      <td>260520</td>\n",
       "      <td>USD</td>\n",
       "      <td>260520</td>\n",
       "      <td>US</td>\n",
       "      <td>0</td>\n",
       "      <td>US</td>\n",
       "      <td>M</td>\n",
       "    </tr>\n",
       "    <tr>\n",
       "      <th>3</th>\n",
       "      <td>2025</td>\n",
       "      <td>SE</td>\n",
       "      <td>FT</td>\n",
       "      <td>Data Product Manager</td>\n",
       "      <td>140280</td>\n",
       "      <td>USD</td>\n",
       "      <td>140280</td>\n",
       "      <td>US</td>\n",
       "      <td>0</td>\n",
       "      <td>US</td>\n",
       "      <td>M</td>\n",
       "    </tr>\n",
       "    <tr>\n",
       "      <th>4</th>\n",
       "      <td>2025</td>\n",
       "      <td>SE</td>\n",
       "      <td>FT</td>\n",
       "      <td>Machine Learning Engineer</td>\n",
       "      <td>215000</td>\n",
       "      <td>USD</td>\n",
       "      <td>215000</td>\n",
       "      <td>US</td>\n",
       "      <td>0</td>\n",
       "      <td>US</td>\n",
       "      <td>M</td>\n",
       "    </tr>\n",
       "  </tbody>\n",
       "</table>\n",
       "</div>\n",
       "    <div class=\"colab-df-buttons\">\n",
       "\n",
       "  <div class=\"colab-df-container\">\n",
       "    <button class=\"colab-df-convert\" onclick=\"convertToInteractive('df-28e2980e-8f5e-4244-b7eb-dbd34e0242e7')\"\n",
       "            title=\"Convert this dataframe to an interactive table.\"\n",
       "            style=\"display:none;\">\n",
       "\n",
       "  <svg xmlns=\"http://www.w3.org/2000/svg\" height=\"24px\" viewBox=\"0 -960 960 960\">\n",
       "    <path d=\"M120-120v-720h720v720H120Zm60-500h600v-160H180v160Zm220 220h160v-160H400v160Zm0 220h160v-160H400v160ZM180-400h160v-160H180v160Zm440 0h160v-160H620v160ZM180-180h160v-160H180v160Zm440 0h160v-160H620v160Z\"/>\n",
       "  </svg>\n",
       "    </button>\n",
       "\n",
       "  <style>\n",
       "    .colab-df-container {\n",
       "      display:flex;\n",
       "      gap: 12px;\n",
       "    }\n",
       "\n",
       "    .colab-df-convert {\n",
       "      background-color: #E8F0FE;\n",
       "      border: none;\n",
       "      border-radius: 50%;\n",
       "      cursor: pointer;\n",
       "      display: none;\n",
       "      fill: #1967D2;\n",
       "      height: 32px;\n",
       "      padding: 0 0 0 0;\n",
       "      width: 32px;\n",
       "    }\n",
       "\n",
       "    .colab-df-convert:hover {\n",
       "      background-color: #E2EBFA;\n",
       "      box-shadow: 0px 1px 2px rgba(60, 64, 67, 0.3), 0px 1px 3px 1px rgba(60, 64, 67, 0.15);\n",
       "      fill: #174EA6;\n",
       "    }\n",
       "\n",
       "    .colab-df-buttons div {\n",
       "      margin-bottom: 4px;\n",
       "    }\n",
       "\n",
       "    [theme=dark] .colab-df-convert {\n",
       "      background-color: #3B4455;\n",
       "      fill: #D2E3FC;\n",
       "    }\n",
       "\n",
       "    [theme=dark] .colab-df-convert:hover {\n",
       "      background-color: #434B5C;\n",
       "      box-shadow: 0px 1px 3px 1px rgba(0, 0, 0, 0.15);\n",
       "      filter: drop-shadow(0px 1px 2px rgba(0, 0, 0, 0.3));\n",
       "      fill: #FFFFFF;\n",
       "    }\n",
       "  </style>\n",
       "\n",
       "    <script>\n",
       "      const buttonEl =\n",
       "        document.querySelector('#df-28e2980e-8f5e-4244-b7eb-dbd34e0242e7 button.colab-df-convert');\n",
       "      buttonEl.style.display =\n",
       "        google.colab.kernel.accessAllowed ? 'block' : 'none';\n",
       "\n",
       "      async function convertToInteractive(key) {\n",
       "        const element = document.querySelector('#df-28e2980e-8f5e-4244-b7eb-dbd34e0242e7');\n",
       "        const dataTable =\n",
       "          await google.colab.kernel.invokeFunction('convertToInteractive',\n",
       "                                                    [key], {});\n",
       "        if (!dataTable) return;\n",
       "\n",
       "        const docLinkHtml = 'Like what you see? Visit the ' +\n",
       "          '<a target=\"_blank\" href=https://colab.research.google.com/notebooks/data_table.ipynb>data table notebook</a>'\n",
       "          + ' to learn more about interactive tables.';\n",
       "        element.innerHTML = '';\n",
       "        dataTable['output_type'] = 'display_data';\n",
       "        await google.colab.output.renderOutput(dataTable, element);\n",
       "        const docLink = document.createElement('div');\n",
       "        docLink.innerHTML = docLinkHtml;\n",
       "        element.appendChild(docLink);\n",
       "      }\n",
       "    </script>\n",
       "  </div>\n",
       "\n",
       "\n",
       "    <div id=\"df-7356a548-1fa3-43d9-a2a5-071de02d4f7d\">\n",
       "      <button class=\"colab-df-quickchart\" onclick=\"quickchart('df-7356a548-1fa3-43d9-a2a5-071de02d4f7d')\"\n",
       "                title=\"Suggest charts\"\n",
       "                style=\"display:none;\">\n",
       "\n",
       "<svg xmlns=\"http://www.w3.org/2000/svg\" height=\"24px\"viewBox=\"0 0 24 24\"\n",
       "     width=\"24px\">\n",
       "    <g>\n",
       "        <path d=\"M19 3H5c-1.1 0-2 .9-2 2v14c0 1.1.9 2 2 2h14c1.1 0 2-.9 2-2V5c0-1.1-.9-2-2-2zM9 17H7v-7h2v7zm4 0h-2V7h2v10zm4 0h-2v-4h2v4z\"/>\n",
       "    </g>\n",
       "</svg>\n",
       "      </button>\n",
       "\n",
       "<style>\n",
       "  .colab-df-quickchart {\n",
       "      --bg-color: #E8F0FE;\n",
       "      --fill-color: #1967D2;\n",
       "      --hover-bg-color: #E2EBFA;\n",
       "      --hover-fill-color: #174EA6;\n",
       "      --disabled-fill-color: #AAA;\n",
       "      --disabled-bg-color: #DDD;\n",
       "  }\n",
       "\n",
       "  [theme=dark] .colab-df-quickchart {\n",
       "      --bg-color: #3B4455;\n",
       "      --fill-color: #D2E3FC;\n",
       "      --hover-bg-color: #434B5C;\n",
       "      --hover-fill-color: #FFFFFF;\n",
       "      --disabled-bg-color: #3B4455;\n",
       "      --disabled-fill-color: #666;\n",
       "  }\n",
       "\n",
       "  .colab-df-quickchart {\n",
       "    background-color: var(--bg-color);\n",
       "    border: none;\n",
       "    border-radius: 50%;\n",
       "    cursor: pointer;\n",
       "    display: none;\n",
       "    fill: var(--fill-color);\n",
       "    height: 32px;\n",
       "    padding: 0;\n",
       "    width: 32px;\n",
       "  }\n",
       "\n",
       "  .colab-df-quickchart:hover {\n",
       "    background-color: var(--hover-bg-color);\n",
       "    box-shadow: 0 1px 2px rgba(60, 64, 67, 0.3), 0 1px 3px 1px rgba(60, 64, 67, 0.15);\n",
       "    fill: var(--button-hover-fill-color);\n",
       "  }\n",
       "\n",
       "  .colab-df-quickchart-complete:disabled,\n",
       "  .colab-df-quickchart-complete:disabled:hover {\n",
       "    background-color: var(--disabled-bg-color);\n",
       "    fill: var(--disabled-fill-color);\n",
       "    box-shadow: none;\n",
       "  }\n",
       "\n",
       "  .colab-df-spinner {\n",
       "    border: 2px solid var(--fill-color);\n",
       "    border-color: transparent;\n",
       "    border-bottom-color: var(--fill-color);\n",
       "    animation:\n",
       "      spin 1s steps(1) infinite;\n",
       "  }\n",
       "\n",
       "  @keyframes spin {\n",
       "    0% {\n",
       "      border-color: transparent;\n",
       "      border-bottom-color: var(--fill-color);\n",
       "      border-left-color: var(--fill-color);\n",
       "    }\n",
       "    20% {\n",
       "      border-color: transparent;\n",
       "      border-left-color: var(--fill-color);\n",
       "      border-top-color: var(--fill-color);\n",
       "    }\n",
       "    30% {\n",
       "      border-color: transparent;\n",
       "      border-left-color: var(--fill-color);\n",
       "      border-top-color: var(--fill-color);\n",
       "      border-right-color: var(--fill-color);\n",
       "    }\n",
       "    40% {\n",
       "      border-color: transparent;\n",
       "      border-right-color: var(--fill-color);\n",
       "      border-top-color: var(--fill-color);\n",
       "    }\n",
       "    60% {\n",
       "      border-color: transparent;\n",
       "      border-right-color: var(--fill-color);\n",
       "    }\n",
       "    80% {\n",
       "      border-color: transparent;\n",
       "      border-right-color: var(--fill-color);\n",
       "      border-bottom-color: var(--fill-color);\n",
       "    }\n",
       "    90% {\n",
       "      border-color: transparent;\n",
       "      border-bottom-color: var(--fill-color);\n",
       "    }\n",
       "  }\n",
       "</style>\n",
       "\n",
       "      <script>\n",
       "        async function quickchart(key) {\n",
       "          const quickchartButtonEl =\n",
       "            document.querySelector('#' + key + ' button');\n",
       "          quickchartButtonEl.disabled = true;  // To prevent multiple clicks.\n",
       "          quickchartButtonEl.classList.add('colab-df-spinner');\n",
       "          try {\n",
       "            const charts = await google.colab.kernel.invokeFunction(\n",
       "                'suggestCharts', [key], {});\n",
       "          } catch (error) {\n",
       "            console.error('Error during call to suggestCharts:', error);\n",
       "          }\n",
       "          quickchartButtonEl.classList.remove('colab-df-spinner');\n",
       "          quickchartButtonEl.classList.add('colab-df-quickchart-complete');\n",
       "        }\n",
       "        (() => {\n",
       "          let quickchartButtonEl =\n",
       "            document.querySelector('#df-7356a548-1fa3-43d9-a2a5-071de02d4f7d button');\n",
       "          quickchartButtonEl.style.display =\n",
       "            google.colab.kernel.accessAllowed ? 'block' : 'none';\n",
       "        })();\n",
       "      </script>\n",
       "    </div>\n",
       "\n",
       "    </div>\n",
       "  </div>\n"
      ],
      "text/plain": [
       "   work_year experience_level employment_type                  job_title  \\\n",
       "0       2025               MI              FT             Data Scientist   \n",
       "1       2025               MI              FT             Data Scientist   \n",
       "2       2025               SE              FT       Data Product Manager   \n",
       "3       2025               SE              FT       Data Product Manager   \n",
       "4       2025               SE              FT  Machine Learning Engineer   \n",
       "\n",
       "   salary salary_currency  salary_in_usd employee_residence  remote_ratio  \\\n",
       "0  132600             USD         132600                 US           100   \n",
       "1  102000             USD         102000                 US           100   \n",
       "2  260520             USD         260520                 US             0   \n",
       "3  140280             USD         140280                 US             0   \n",
       "4  215000             USD         215000                 US             0   \n",
       "\n",
       "  company_location company_size  \n",
       "0               US            M  \n",
       "1               US            M  \n",
       "2               US            M  \n",
       "3               US            M  \n",
       "4               US            M  "
      ]
     },
     "execution_count": 4,
     "metadata": {},
     "output_type": "execute_result"
    }
   ],
   "source": [
    "df.head()"
   ]
  },
  {
   "cell_type": "code",
   "execution_count": 5,
   "id": "a66a6e3f",
   "metadata": {
    "colab": {
     "base_uri": "https://localhost:8080/",
     "height": 347
    },
    "executionInfo": {
     "elapsed": 77,
     "status": "ok",
     "timestamp": 1752134450981,
     "user": {
      "displayName": "Aitor Donado",
      "userId": "08246046509718212083"
     },
     "user_tz": -120
    },
    "id": "a66a6e3f",
    "outputId": "63184276-3da5-4bec-fbe5-54fd2cb92981"
   },
   "outputs": [
    {
     "data": {
      "text/html": [
       "<div>\n",
       "<style scoped>\n",
       "    .dataframe tbody tr th:only-of-type {\n",
       "        vertical-align: middle;\n",
       "    }\n",
       "\n",
       "    .dataframe tbody tr th {\n",
       "        vertical-align: top;\n",
       "    }\n",
       "\n",
       "    .dataframe thead th {\n",
       "        text-align: right;\n",
       "    }\n",
       "</style>\n",
       "<table border=\"1\" class=\"dataframe\">\n",
       "  <thead>\n",
       "    <tr style=\"text-align: right;\">\n",
       "      <th></th>\n",
       "      <th>work_year</th>\n",
       "      <th>experience_level</th>\n",
       "      <th>employment_type</th>\n",
       "      <th>job_title</th>\n",
       "      <th>salary</th>\n",
       "      <th>salary_currency</th>\n",
       "      <th>salary_in_usd</th>\n",
       "      <th>employee_residence</th>\n",
       "      <th>remote_ratio</th>\n",
       "      <th>company_location</th>\n",
       "      <th>company_size</th>\n",
       "    </tr>\n",
       "  </thead>\n",
       "  <tbody>\n",
       "    <tr>\n",
       "      <th>136752</th>\n",
       "      <td>2020</td>\n",
       "      <td>SE</td>\n",
       "      <td>FT</td>\n",
       "      <td>Data Scientist</td>\n",
       "      <td>412000</td>\n",
       "      <td>USD</td>\n",
       "      <td>412000</td>\n",
       "      <td>US</td>\n",
       "      <td>100</td>\n",
       "      <td>US</td>\n",
       "      <td>L</td>\n",
       "    </tr>\n",
       "    <tr>\n",
       "      <th>136753</th>\n",
       "      <td>2021</td>\n",
       "      <td>MI</td>\n",
       "      <td>FT</td>\n",
       "      <td>Principal Data Scientist</td>\n",
       "      <td>151000</td>\n",
       "      <td>USD</td>\n",
       "      <td>151000</td>\n",
       "      <td>US</td>\n",
       "      <td>100</td>\n",
       "      <td>US</td>\n",
       "      <td>L</td>\n",
       "    </tr>\n",
       "    <tr>\n",
       "      <th>136754</th>\n",
       "      <td>2020</td>\n",
       "      <td>EN</td>\n",
       "      <td>FT</td>\n",
       "      <td>Data Scientist</td>\n",
       "      <td>105000</td>\n",
       "      <td>USD</td>\n",
       "      <td>105000</td>\n",
       "      <td>US</td>\n",
       "      <td>100</td>\n",
       "      <td>US</td>\n",
       "      <td>S</td>\n",
       "    </tr>\n",
       "    <tr>\n",
       "      <th>136755</th>\n",
       "      <td>2020</td>\n",
       "      <td>EN</td>\n",
       "      <td>CT</td>\n",
       "      <td>Business Data Analyst</td>\n",
       "      <td>100000</td>\n",
       "      <td>USD</td>\n",
       "      <td>100000</td>\n",
       "      <td>US</td>\n",
       "      <td>100</td>\n",
       "      <td>US</td>\n",
       "      <td>L</td>\n",
       "    </tr>\n",
       "    <tr>\n",
       "      <th>136756</th>\n",
       "      <td>2021</td>\n",
       "      <td>SE</td>\n",
       "      <td>FT</td>\n",
       "      <td>Data Scientist</td>\n",
       "      <td>7000000</td>\n",
       "      <td>INR</td>\n",
       "      <td>94665</td>\n",
       "      <td>IN</td>\n",
       "      <td>50</td>\n",
       "      <td>IN</td>\n",
       "      <td>L</td>\n",
       "    </tr>\n",
       "  </tbody>\n",
       "</table>\n",
       "</div>"
      ],
      "text/plain": [
       "        work_year experience_level employment_type                 job_title  \\\n",
       "136752       2020               SE              FT            Data Scientist   \n",
       "136753       2021               MI              FT  Principal Data Scientist   \n",
       "136754       2020               EN              FT            Data Scientist   \n",
       "136755       2020               EN              CT     Business Data Analyst   \n",
       "136756       2021               SE              FT            Data Scientist   \n",
       "\n",
       "         salary salary_currency  salary_in_usd employee_residence  \\\n",
       "136752   412000             USD         412000                 US   \n",
       "136753   151000             USD         151000                 US   \n",
       "136754   105000             USD         105000                 US   \n",
       "136755   100000             USD         100000                 US   \n",
       "136756  7000000             INR          94665                 IN   \n",
       "\n",
       "        remote_ratio company_location company_size  \n",
       "136752           100               US            L  \n",
       "136753           100               US            L  \n",
       "136754           100               US            S  \n",
       "136755           100               US            L  \n",
       "136756            50               IN            L  "
      ]
     },
     "execution_count": 5,
     "metadata": {},
     "output_type": "execute_result"
    }
   ],
   "source": [
    "df.tail()"
   ]
  },
  {
   "cell_type": "code",
   "execution_count": 6,
   "id": "af1fa2fd",
   "metadata": {
    "colab": {
     "base_uri": "https://localhost:8080/"
    },
    "executionInfo": {
     "elapsed": 222,
     "status": "ok",
     "timestamp": 1752134451205,
     "user": {
      "displayName": "Aitor Donado",
      "userId": "08246046509718212083"
     },
     "user_tz": -120
    },
    "id": "af1fa2fd",
    "outputId": "4573e034-3451-40fe-b896-a1d5638d9be5"
   },
   "outputs": [
    {
     "name": "stdout",
     "output_type": "stream",
     "text": [
      "<class 'pandas.core.frame.DataFrame'>\n",
      "RangeIndex: 136757 entries, 0 to 136756\n",
      "Data columns (total 11 columns):\n",
      " #   Column              Non-Null Count   Dtype \n",
      "---  ------              --------------   ----- \n",
      " 0   work_year           136757 non-null  int64 \n",
      " 1   experience_level    136757 non-null  object\n",
      " 2   employment_type     136757 non-null  object\n",
      " 3   job_title           136757 non-null  object\n",
      " 4   salary              136757 non-null  int64 \n",
      " 5   salary_currency     136757 non-null  object\n",
      " 6   salary_in_usd       136757 non-null  int64 \n",
      " 7   employee_residence  136757 non-null  object\n",
      " 8   remote_ratio        136757 non-null  int64 \n",
      " 9   company_location    136757 non-null  object\n",
      " 10  company_size        136757 non-null  object\n",
      "dtypes: int64(4), object(7)\n",
      "memory usage: 11.5+ MB\n"
     ]
    }
   ],
   "source": [
    "df.info()"
   ]
  },
  {
   "cell_type": "code",
   "execution_count": 7,
   "id": "5e4f1ca4",
   "metadata": {
    "colab": {
     "base_uri": "https://localhost:8080/",
     "height": 429
    },
    "executionInfo": {
     "elapsed": 210,
     "status": "ok",
     "timestamp": 1752134451417,
     "user": {
      "displayName": "Aitor Donado",
      "userId": "08246046509718212083"
     },
     "user_tz": -120
    },
    "id": "5e4f1ca4",
    "outputId": "98aa0671-6103-4076-b782-c316ef138ca0"
   },
   "outputs": [
    {
     "data": {
      "text/plain": [
       "work_year             0\n",
       "experience_level      0\n",
       "employment_type       0\n",
       "job_title             0\n",
       "salary                0\n",
       "salary_currency       0\n",
       "salary_in_usd         0\n",
       "employee_residence    0\n",
       "remote_ratio          0\n",
       "company_location      0\n",
       "company_size          0\n",
       "dtype: int64"
      ]
     },
     "execution_count": 7,
     "metadata": {},
     "output_type": "execute_result"
    }
   ],
   "source": [
    "df.isnull().sum()"
   ]
  },
  {
   "cell_type": "code",
   "execution_count": 8,
   "id": "00dfd840",
   "metadata": {
    "colab": {
     "base_uri": "https://localhost:8080/",
     "height": 300
    },
    "executionInfo": {
     "elapsed": 102,
     "status": "ok",
     "timestamp": 1752134451520,
     "user": {
      "displayName": "Aitor Donado",
      "userId": "08246046509718212083"
     },
     "user_tz": -120
    },
    "id": "00dfd840",
    "outputId": "50a42bb8-5ed4-4127-8506-616e913b5e0e"
   },
   "outputs": [
    {
     "data": {
      "text/html": [
       "<div>\n",
       "<style scoped>\n",
       "    .dataframe tbody tr th:only-of-type {\n",
       "        vertical-align: middle;\n",
       "    }\n",
       "\n",
       "    .dataframe tbody tr th {\n",
       "        vertical-align: top;\n",
       "    }\n",
       "\n",
       "    .dataframe thead th {\n",
       "        text-align: right;\n",
       "    }\n",
       "</style>\n",
       "<table border=\"1\" class=\"dataframe\">\n",
       "  <thead>\n",
       "    <tr style=\"text-align: right;\">\n",
       "      <th></th>\n",
       "      <th>work_year</th>\n",
       "      <th>salary</th>\n",
       "      <th>salary_in_usd</th>\n",
       "      <th>remote_ratio</th>\n",
       "    </tr>\n",
       "  </thead>\n",
       "  <tbody>\n",
       "    <tr>\n",
       "      <th>count</th>\n",
       "      <td>136757.000000</td>\n",
       "      <td>1.367570e+05</td>\n",
       "      <td>136757.000000</td>\n",
       "      <td>136757.000000</td>\n",
       "    </tr>\n",
       "    <tr>\n",
       "      <th>mean</th>\n",
       "      <td>2024.374686</td>\n",
       "      <td>1.630432e+05</td>\n",
       "      <td>157490.722756</td>\n",
       "      <td>20.909716</td>\n",
       "    </tr>\n",
       "    <tr>\n",
       "      <th>std</th>\n",
       "      <td>0.679644</td>\n",
       "      <td>2.150435e+05</td>\n",
       "      <td>74173.546839</td>\n",
       "      <td>40.594326</td>\n",
       "    </tr>\n",
       "    <tr>\n",
       "      <th>min</th>\n",
       "      <td>2020.000000</td>\n",
       "      <td>1.400000e+04</td>\n",
       "      <td>15000.000000</td>\n",
       "      <td>0.000000</td>\n",
       "    </tr>\n",
       "    <tr>\n",
       "      <th>25%</th>\n",
       "      <td>2024.000000</td>\n",
       "      <td>1.060000e+05</td>\n",
       "      <td>105900.000000</td>\n",
       "      <td>0.000000</td>\n",
       "    </tr>\n",
       "    <tr>\n",
       "      <th>50%</th>\n",
       "      <td>2024.000000</td>\n",
       "      <td>1.470000e+05</td>\n",
       "      <td>146000.000000</td>\n",
       "      <td>0.000000</td>\n",
       "    </tr>\n",
       "    <tr>\n",
       "      <th>75%</th>\n",
       "      <td>2025.000000</td>\n",
       "      <td>1.988000e+05</td>\n",
       "      <td>197800.000000</td>\n",
       "      <td>0.000000</td>\n",
       "    </tr>\n",
       "    <tr>\n",
       "      <th>max</th>\n",
       "      <td>2025.000000</td>\n",
       "      <td>3.040000e+07</td>\n",
       "      <td>800000.000000</td>\n",
       "      <td>100.000000</td>\n",
       "    </tr>\n",
       "  </tbody>\n",
       "</table>\n",
       "</div>"
      ],
      "text/plain": [
       "           work_year        salary  salary_in_usd   remote_ratio\n",
       "count  136757.000000  1.367570e+05  136757.000000  136757.000000\n",
       "mean     2024.374686  1.630432e+05  157490.722756      20.909716\n",
       "std         0.679644  2.150435e+05   74173.546839      40.594326\n",
       "min      2020.000000  1.400000e+04   15000.000000       0.000000\n",
       "25%      2024.000000  1.060000e+05  105900.000000       0.000000\n",
       "50%      2024.000000  1.470000e+05  146000.000000       0.000000\n",
       "75%      2025.000000  1.988000e+05  197800.000000       0.000000\n",
       "max      2025.000000  3.040000e+07  800000.000000     100.000000"
      ]
     },
     "execution_count": 8,
     "metadata": {},
     "output_type": "execute_result"
    }
   ],
   "source": [
    "df.describe()"
   ]
  },
  {
   "cell_type": "code",
   "execution_count": 9,
   "id": "bb3daceb",
   "metadata": {
    "colab": {
     "base_uri": "https://localhost:8080/",
     "height": 429
    },
    "executionInfo": {
     "elapsed": 126,
     "status": "ok",
     "timestamp": 1752134451648,
     "user": {
      "displayName": "Aitor Donado",
      "userId": "08246046509718212083"
     },
     "user_tz": -120
    },
    "id": "bb3daceb",
    "outputId": "a4cc778a-abd4-41c3-90a7-c951165d2f43"
   },
   "outputs": [
    {
     "data": {
      "text/plain": [
       "work_year                 6\n",
       "experience_level          4\n",
       "employment_type           4\n",
       "job_title               398\n",
       "salary                11444\n",
       "salary_currency          26\n",
       "salary_in_usd         12651\n",
       "employee_residence      102\n",
       "remote_ratio              3\n",
       "company_location         95\n",
       "company_size              3\n",
       "dtype: int64"
      ]
     },
     "execution_count": 9,
     "metadata": {},
     "output_type": "execute_result"
    }
   ],
   "source": [
    "df.nunique()"
   ]
  },
  {
   "cell_type": "markdown",
   "id": "de6f4263",
   "metadata": {
    "id": "de6f4263"
   },
   "source": [
    "# STEP 3: Data Cleaning"
   ]
  },
  {
   "cell_type": "code",
   "execution_count": 10,
   "id": "7c95ad5a",
   "metadata": {
    "executionInfo": {
     "elapsed": 683,
     "status": "ok",
     "timestamp": 1752134452333,
     "user": {
      "displayName": "Aitor Donado",
      "userId": "08246046509718212083"
     },
     "user_tz": -120
    },
    "id": "7c95ad5a"
   },
   "outputs": [],
   "source": [
    "df.drop_duplicates(inplace=True)\n",
    "df.dropna(inplace=True)"
   ]
  },
  {
   "cell_type": "markdown",
   "id": "6812bb44",
   "metadata": {
    "id": "6812bb44"
   },
   "source": [
    "# STEP 4: Exploratory Data Analysis (EDA)"
   ]
  },
  {
   "cell_type": "markdown",
   "id": "eb0e2df1",
   "metadata": {
    "id": "eb0e2df1"
   },
   "source": [
    "## Salary Distribution Overview"
   ]
  },
  {
   "cell_type": "code",
   "execution_count": 11,
   "id": "4030e9fc",
   "metadata": {
    "colab": {
     "base_uri": "https://localhost:8080/",
     "height": 564
    },
    "executionInfo": {
     "elapsed": 1496,
     "status": "ok",
     "timestamp": 1752134453835,
     "user": {
      "displayName": "Aitor Donado",
      "userId": "08246046509718212083"
     },
     "user_tz": -120
    },
    "id": "4030e9fc",
    "outputId": "1ab437bd-7a6b-4c85-e502-18f19697cf16"
   },
   "outputs": [
    {
     "data": {
      "image/png": "[encoded data removed]",
      "text/plain": [
       "<Figure size 1000x600 with 1 Axes>"
      ]
     },
     "metadata": {},
     "output_type": "display_data"
    }
   ],
   "source": [
    "plt.figure(figsize=(10, 6))\n",
    "sns.histplot(df[\"salary_in_usd\"], bins=50, kde=True)\n",
    "plt.title(\"Distribution of Salary in USD\")\n",
    "plt.xlabel(\"Salary in USD\")\n",
    "plt.ylabel(\"Frequency\")\n",
    "plt.show()"
   ]
  },
  {
   "cell_type": "markdown",
   "id": "7c4840b7",
   "metadata": {
    "id": "7c4840b7"
   },
   "source": [
    "## Salaries by Experience Level"
   ]
  },
  {
   "cell_type": "code",
   "execution_count": 12,
   "id": "2883a73f",
   "metadata": {
    "colab": {
     "base_uri": "https://localhost:8080/",
     "height": 564
    },
    "executionInfo": {
     "elapsed": 648,
     "status": "ok",
     "timestamp": 1752134454486,
     "user": {
      "displayName": "Aitor Donado",
      "userId": "08246046509718212083"
     },
     "user_tz": -120
    },
    "id": "2883a73f",
    "outputId": "aff50e5f-5426-4ff9-d365-69e2d48d3c2c"
   },
   "outputs": [
    {
     "data": {
      "image/png": "[encoded data removed]",
      "text/plain": [
       "<Figure size 1200x600 with 1 Axes>"
      ]
     },
     "metadata": {},
     "output_type": "display_data"
    }
   ],
   "source": [
    "plt.figure(figsize=(12, 6))\n",
    "sns.boxplot(x=\"experience_level\", y=\"salary_in_usd\", data=df)\n",
    "plt.title(\"Salary by Experience Level\")\n",
    "plt.show()"
   ]
  },
  {
   "cell_type": "markdown",
   "id": "be093924",
   "metadata": {
    "id": "be093924"
   },
   "source": [
    "## Salaries by Employment Type"
   ]
  },
  {
   "cell_type": "code",
   "execution_count": 13,
   "id": "458492f9",
   "metadata": {
    "colab": {
     "base_uri": "https://localhost:8080/",
     "height": 564
    },
    "executionInfo": {
     "elapsed": 535,
     "status": "ok",
     "timestamp": 1752134455020,
     "user": {
      "displayName": "Aitor Donado",
      "userId": "08246046509718212083"
     },
     "user_tz": -120
    },
    "id": "458492f9",
    "outputId": "878f089c-d0ca-47ab-c723-51d823ec3b7c"
   },
   "outputs": [
    {
     "data": {
      "image/png": "[encoded data removed]",
      "text/plain": [
       "<Figure size 1200x600 with 1 Axes>"
      ]
     },
     "metadata": {},
     "output_type": "display_data"
    }
   ],
   "source": [
    "plt.figure(figsize=(12, 6))\n",
    "sns.boxplot(x=\"employment_type\", y=\"salary_in_usd\", data=df)\n",
    "plt.title(\"Salary by Employment Type\")\n",
    "plt.show()"
   ]
  },
  {
   "cell_type": "markdown",
   "id": "ddf03ad5",
   "metadata": {
    "id": "ddf03ad5"
   },
   "source": [
    "## Salaries by Company Size"
   ]
  },
  {
   "cell_type": "code",
   "execution_count": 14,
   "id": "a7ac9f7f",
   "metadata": {
    "colab": {
     "base_uri": "https://localhost:8080/",
     "height": 564
    },
    "executionInfo": {
     "elapsed": 1172,
     "status": "ok",
     "timestamp": 1752134456194,
     "user": {
      "displayName": "Aitor Donado",
      "userId": "08246046509718212083"
     },
     "user_tz": -120
    },
    "id": "a7ac9f7f",
    "outputId": "84ef9fcb-f81a-4e74-ccc8-984138de99a2"
   },
   "outputs": [
    {
     "data": {
      "image/png": "[encoded data removed]",
      "text/plain": [
       "<Figure size 1200x600 with 1 Axes>"
      ]
     },
     "metadata": {},
     "output_type": "display_data"
    }
   ],
   "source": [
    "plt.figure(figsize=(12, 6))\n",
    "sns.boxplot(x=\"company_size\", y=\"salary_in_usd\", data=df)\n",
    "plt.title(\"Salary by Company Size\")\n",
    "plt.show()"
   ]
  },
  {
   "cell_type": "markdown",
   "id": "2e8f35e6",
   "metadata": {
    "id": "2e8f35e6"
   },
   "source": [
    "# STEP 5: Feature Engineering"
   ]
  },
  {
   "cell_type": "code",
   "execution_count": 15,
   "id": "8ce78bb6",
   "metadata": {
    "executionInfo": {
     "elapsed": 80,
     "status": "ok",
     "timestamp": 1752134456275,
     "user": {
      "displayName": "Aitor Donado",
      "userId": "08246046509718212083"
     },
     "user_tz": -120
    },
    "id": "8ce78bb6"
   },
   "outputs": [],
   "source": [
    "df['job_title'] = df['job_title'].str.lower()\n",
    "top_jobs = df['job_title'].value_counts().head(15).index\n",
    "df = df[df['job_title'].isin(top_jobs)]"
   ]
  },
  {
   "cell_type": "markdown",
   "id": "87c1cdea",
   "metadata": {
    "id": "87c1cdea"
   },
   "source": [
    "# STEP 6: Data Preprocessing"
   ]
  },
  {
   "cell_type": "code",
   "execution_count": 18,
   "id": "c6e7b30d",
   "metadata": {
    "executionInfo": {
     "elapsed": 570,
     "status": "ok",
     "timestamp": 1752134456847,
     "user": {
      "displayName": "Aitor Donado",
      "userId": "08246046509718212083"
     },
     "user_tz": -120
    },
    "id": "c6e7b30d"
   },
   "outputs": [],
   "source": [
    "categorical_cols = ['experience_level', 'employment_type', 'job_title',\n",
    "                    'employee_residence', 'company_location', 'company_size']\n",
    "df_encoded = df.copy()\n",
    "le = LabelEncoder()\n",
    "for col in categorical_cols:\n",
    "    df_encoded[col] = le.fit_transform(df_encoded[col])\n",
    "\n",
    "X = df_encoded.drop(columns=[\"salary\", \"salary_currency\", \"salary_in_usd\"])\n",
    "y = df_encoded[\"salary_in_usd\"]\n",
    "\n",
    "scaler = StandardScaler()\n",
    "X_scaled = scaler.fit_transform(X)\n",
    "\n",
    "X_train, X_test, y_train, y_test = train_test_split(\n",
    "    X_scaled, y, test_size=0.2, random_state=537)"
   ]
  },
  {
   "cell_type": "markdown",
   "id": "1e611dad",
   "metadata": {
    "id": "1e611dad"
   },
   "source": [
    "# STEP 7: Model Training (Classic Models)"
   ]
  },
  {
   "cell_type": "code",
   "execution_count": 19,
   "id": "d0cb4b6e",
   "metadata": {
    "colab": {
     "base_uri": "https://localhost:8080/"
    },
    "executionInfo": {
     "elapsed": 118176,
     "status": "ok",
     "timestamp": 1752134575019,
     "user": {
      "displayName": "Aitor Donado",
      "userId": "08246046509718212083"
     },
     "user_tz": -120
    },
    "id": "d0cb4b6e",
    "outputId": "9022c37a-6b0d-491c-ece5-7527abf6d11f"
   },
   "outputs": [
    {
     "name": "stdout",
     "output_type": "stream",
     "text": [
      "\n",
      "Linear Regression Results:\n",
      "Mean Squared Error: 5240804823.19\n",
      "R² Score: 0.15\n",
      "\n",
      "Ridge Regression Results:\n",
      "Mean Squared Error: 5240766271.31\n",
      "R² Score: 0.15\n",
      "\n",
      "Lasso Regression Results:\n",
      "Mean Squared Error: 5240743789.97\n",
      "R² Score: 0.15\n",
      "\n",
      "Lasso Regression Results:\n",
      "Mean Squared Error: 5240743789.97\n",
      "R² Score: 0.15\n",
      "\n",
      "Random Forest Results:\n",
      "Mean Squared Error: 4585807409.62\n",
      "R² Score: 0.26\n",
      "\n",
      "Random Forest Results:\n",
      "Mean Squared Error: 4585807409.62\n",
      "R² Score: 0.26\n",
      "\n",
      "Gradient Boosting Results:\n",
      "Mean Squared Error: 4634817117.13\n",
      "R² Score: 0.25\n",
      "\n",
      "Gradient Boosting Results:\n",
      "Mean Squared Error: 4634817117.13\n",
      "R² Score: 0.25\n",
      "\n",
      "AdaBoost Results:\n",
      "Mean Squared Error: 5337613920.29\n",
      "R² Score: 0.14\n",
      "\n",
      "AdaBoost Results:\n",
      "Mean Squared Error: 5337613920.29\n",
      "R² Score: 0.14\n",
      "\n",
      "Extra Trees Results:\n",
      "Mean Squared Error: 4614979308.03\n",
      "R² Score: 0.26\n",
      "\n",
      "Extra Trees Results:\n",
      "Mean Squared Error: 4614979308.03\n",
      "R² Score: 0.26\n",
      "\n",
      "Support Vector Regressor Results:\n",
      "Mean Squared Error: 6295954955.52\n",
      "R² Score: -0.02\n",
      "\n",
      "Support Vector Regressor Results:\n",
      "Mean Squared Error: 6295954955.52\n",
      "R² Score: -0.02\n",
      "\n",
      "K-Nearest Neighbors Results:\n",
      "Mean Squared Error: 5415352275.97\n",
      "R² Score: 0.13\n",
      "\n",
      "K-Nearest Neighbors Results:\n",
      "Mean Squared Error: 5415352275.97\n",
      "R² Score: 0.13\n"
     ]
    }
   ],
   "source": [
    "models = {\n",
    "    \"Linear Regression\": LinearRegression(),\n",
    "    \"Ridge Regression\": Ridge(),\n",
    "    \"Lasso Regression\": Lasso(),\n",
    "    \"Random Forest\": RandomForestRegressor(n_estimators=100, random_state=537),\n",
    "    \"Gradient Boosting\": GradientBoostingRegressor(n_estimators=100, random_state=537),\n",
    "    \"AdaBoost\": AdaBoostRegressor(n_estimators=100, random_state=537),\n",
    "    \"Extra Trees\": ExtraTreesRegressor(n_estimators=100, random_state=537),\n",
    "    \"Support Vector Regressor\": SVR(),\n",
    "    \"K-Nearest Neighbors\": KNeighborsRegressor(n_neighbors=5)\n",
    "}\n",
    "results = {}\n",
    "\n",
    "for name, model in models.items():\n",
    "    model.fit(X_train, y_train)\n",
    "    y_pred = model.predict(X_test)\n",
    "    mse = mean_squared_error(y_test, y_pred)\n",
    "    r2 = r2_score(y_test, y_pred)\n",
    "    results[name] = {\"MSE\": mse, \"R2\": r2}\n",
    "    print(f\"\\n{name} Results:\")\n",
    "    print(f\"Mean Squared Error: {mse:.2f}\")\n",
    "    print(f\"R² Score: {r2:.2f}\")"
   ]
  },
  {
   "cell_type": "markdown",
   "id": "VWM7v5qh64Im",
   "metadata": {
    "id": "VWM7v5qh64Im"
   },
   "source": [
    "# NUEVO PASO 8: Model Training - Neural Network (TensorFlow/Keras)\n",
    "\n",
    "Ahora, construiremos, entrenaremos y evaluaremos nuestro modelo de red neuronal."
   ]
  },
  {
   "cell_type": "code",
   "execution_count": 21,
   "id": "pLkjE7Vk64In",
   "metadata": {
    "colab": {
     "base_uri": "https://localhost:8080/",
     "height": 328
    },
    "executionInfo": {
     "elapsed": 199,
     "status": "ok",
     "timestamp": 1752134575220,
     "user": {
      "displayName": "Aitor Donado",
      "userId": "08246046509718212083"
     },
     "user_tz": -120
    },
    "id": "pLkjE7Vk64In",
    "outputId": "cac7ee4b-7fca-49a9-ab07-6650e4ba8441"
   },
   "outputs": [
    {
     "data": {
      "text/html": [
       "<pre style=\"white-space:pre;overflow-x:auto;line-height:normal;font-family:Menlo,'DejaVu Sans Mono',consolas,'Courier New',monospace\"><span style=\"font-weight: bold\">Model: \"sequential_1\"</span>\n",
       "</pre>\n"
      ],
      "text/plain": [
       "\u001b[1mModel: \"sequential_1\"\u001b[0m\n"
      ]
     },
     "metadata": {},
     "output_type": "display_data"
    },
    {
     "data": {
      "text/html": [
       "<pre style=\"white-space:pre;overflow-x:auto;line-height:normal;font-family:Menlo,'DejaVu Sans Mono',consolas,'Courier New',monospace\">┏━━━━━━━━━━━━━━━━━━━━━━━━━━━━━━━━━┳━━━━━━━━━━━━━━━━━━━━━━━━┳━━━━━━━━━━━━━━━┓\n",
       "┃<span style=\"font-weight: bold\"> Layer (type)                    </span>┃<span style=\"font-weight: bold\"> Output Shape           </span>┃<span style=\"font-weight: bold\">       Param # </span>┃\n",
       "┡━━━━━━━━━━━━━━━━━━━━━━━━━━━━━━━━━╇━━━━━━━━━━━━━━━━━━━━━━━━╇━━━━━━━━━━━━━━━┩\n",
       "│ dense_4 (<span style=\"color: #0087ff; text-decoration-color: #0087ff\">Dense</span>)                 │ (<span style=\"color: #00d7ff; text-decoration-color: #00d7ff\">None</span>, <span style=\"color: #00af00; text-decoration-color: #00af00\">128</span>)            │         <span style=\"color: #00af00; text-decoration-color: #00af00\">1,152</span> │\n",
       "├─────────────────────────────────┼────────────────────────┼───────────────┤\n",
       "│ dropout_2 (<span style=\"color: #0087ff; text-decoration-color: #0087ff\">Dropout</span>)             │ (<span style=\"color: #00d7ff; text-decoration-color: #00d7ff\">None</span>, <span style=\"color: #00af00; text-decoration-color: #00af00\">128</span>)            │             <span style=\"color: #00af00; text-decoration-color: #00af00\">0</span> │\n",
       "├─────────────────────────────────┼────────────────────────┼───────────────┤\n",
       "│ dense_5 (<span style=\"color: #0087ff; text-decoration-color: #0087ff\">Dense</span>)                 │ (<span style=\"color: #00d7ff; text-decoration-color: #00d7ff\">None</span>, <span style=\"color: #00af00; text-decoration-color: #00af00\">64</span>)             │         <span style=\"color: #00af00; text-decoration-color: #00af00\">8,256</span> │\n",
       "├─────────────────────────────────┼────────────────────────┼───────────────┤\n",
       "│ dropout_3 (<span style=\"color: #0087ff; text-decoration-color: #0087ff\">Dropout</span>)             │ (<span style=\"color: #00d7ff; text-decoration-color: #00d7ff\">None</span>, <span style=\"color: #00af00; text-decoration-color: #00af00\">64</span>)             │             <span style=\"color: #00af00; text-decoration-color: #00af00\">0</span> │\n",
       "├─────────────────────────────────┼────────────────────────┼───────────────┤\n",
       "│ dense_6 (<span style=\"color: #0087ff; text-decoration-color: #0087ff\">Dense</span>)                 │ (<span style=\"color: #00d7ff; text-decoration-color: #00d7ff\">None</span>, <span style=\"color: #00af00; text-decoration-color: #00af00\">32</span>)             │         <span style=\"color: #00af00; text-decoration-color: #00af00\">2,080</span> │\n",
       "├─────────────────────────────────┼────────────────────────┼───────────────┤\n",
       "│ dense_7 (<span style=\"color: #0087ff; text-decoration-color: #0087ff\">Dense</span>)                 │ (<span style=\"color: #00d7ff; text-decoration-color: #00d7ff\">None</span>, <span style=\"color: #00af00; text-decoration-color: #00af00\">1</span>)              │            <span style=\"color: #00af00; text-decoration-color: #00af00\">33</span> │\n",
       "└─────────────────────────────────┴────────────────────────┴───────────────┘\n",
       "</pre>\n"
      ],
      "text/plain": [
       "┏━━━━━━━━━━━━━━━━━━━━━━━━━━━━━━━━━┳━━━━━━━━━━━━━━━━━━━━━━━━┳━━━━━━━━━━━━━━━┓\n",
       "┃\u001b[1m \u001b[0m\u001b[1mLayer (type)                   \u001b[0m\u001b[1m \u001b[0m┃\u001b[1m \u001b[0m\u001b[1mOutput Shape          \u001b[0m\u001b[1m \u001b[0m┃\u001b[1m \u001b[0m\u001b[1m      Param #\u001b[0m\u001b[1m \u001b[0m┃\n",
       "┡━━━━━━━━━━━━━━━━━━━━━━━━━━━━━━━━━╇━━━━━━━━━━━━━━━━━━━━━━━━╇━━━━━━━━━━━━━━━┩\n",
       "│ dense_4 (\u001b[38;5;33mDense\u001b[0m)                 │ (\u001b[38;5;45mNone\u001b[0m, \u001b[38;5;34m128\u001b[0m)            │         \u001b[38;5;34m1,152\u001b[0m │\n",
       "├─────────────────────────────────┼────────────────────────┼───────────────┤\n",
       "│ dropout_2 (\u001b[38;5;33mDropout\u001b[0m)             │ (\u001b[38;5;45mNone\u001b[0m, \u001b[38;5;34m128\u001b[0m)            │             \u001b[38;5;34m0\u001b[0m │\n",
       "├─────────────────────────────────┼────────────────────────┼───────────────┤\n",
       "│ dense_5 (\u001b[38;5;33mDense\u001b[0m)                 │ (\u001b[38;5;45mNone\u001b[0m, \u001b[38;5;34m64\u001b[0m)             │         \u001b[38;5;34m8,256\u001b[0m │\n",
       "├─────────────────────────────────┼────────────────────────┼───────────────┤\n",
       "│ dropout_3 (\u001b[38;5;33mDropout\u001b[0m)             │ (\u001b[38;5;45mNone\u001b[0m, \u001b[38;5;34m64\u001b[0m)             │             \u001b[38;5;34m0\u001b[0m │\n",
       "├─────────────────────────────────┼────────────────────────┼───────────────┤\n",
       "│ dense_6 (\u001b[38;5;33mDense\u001b[0m)                 │ (\u001b[38;5;45mNone\u001b[0m, \u001b[38;5;34m32\u001b[0m)             │         \u001b[38;5;34m2,080\u001b[0m │\n",
       "├─────────────────────────────────┼────────────────────────┼───────────────┤\n",
       "│ dense_7 (\u001b[38;5;33mDense\u001b[0m)                 │ (\u001b[38;5;45mNone\u001b[0m, \u001b[38;5;34m1\u001b[0m)              │            \u001b[38;5;34m33\u001b[0m │\n",
       "└─────────────────────────────────┴────────────────────────┴───────────────┘\n"
      ]
     },
     "metadata": {},
     "output_type": "display_data"
    },
    {
     "data": {
      "text/html": [
       "<pre style=\"white-space:pre;overflow-x:auto;line-height:normal;font-family:Menlo,'DejaVu Sans Mono',consolas,'Courier New',monospace\"><span style=\"font-weight: bold\"> Total params: </span><span style=\"color: #00af00; text-decoration-color: #00af00\">11,521</span> (45.00 KB)\n",
       "</pre>\n"
      ],
      "text/plain": [
       "\u001b[1m Total params: \u001b[0m\u001b[38;5;34m11,521\u001b[0m (45.00 KB)\n"
      ]
     },
     "metadata": {},
     "output_type": "display_data"
    },
    {
     "data": {
      "text/html": [
       "<pre style=\"white-space:pre;overflow-x:auto;line-height:normal;font-family:Menlo,'DejaVu Sans Mono',consolas,'Courier New',monospace\"><span style=\"font-weight: bold\"> Trainable params: </span><span style=\"color: #00af00; text-decoration-color: #00af00\">11,521</span> (45.00 KB)\n",
       "</pre>\n"
      ],
      "text/plain": [
       "\u001b[1m Trainable params: \u001b[0m\u001b[38;5;34m11,521\u001b[0m (45.00 KB)\n"
      ]
     },
     "metadata": {},
     "output_type": "display_data"
    },
    {
     "data": {
      "text/html": [
       "<pre style=\"white-space:pre;overflow-x:auto;line-height:normal;font-family:Menlo,'DejaVu Sans Mono',consolas,'Courier New',monospace\"><span style=\"font-weight: bold\"> Non-trainable params: </span><span style=\"color: #00af00; text-decoration-color: #00af00\">0</span> (0.00 B)\n",
       "</pre>\n"
      ],
      "text/plain": [
       "\u001b[1m Non-trainable params: \u001b[0m\u001b[38;5;34m0\u001b[0m (0.00 B)\n"
      ]
     },
     "metadata": {},
     "output_type": "display_data"
    }
   ],
   "source": [
    "# Define the model architecture\n",
    "nn_model = Sequential([\n",
    "    Dense(128, activation='relu', input_shape=(X_train.shape[1],)),\n",
    "    Dropout(0.2),\n",
    "    Dense(64, activation='relu'),\n",
    "    Dropout(0.2),\n",
    "    Dense(32, activation='relu'),\n",
    "    Dense(1) # Output layer for regression (linear activation)\n",
    "])\n",
    "\n",
    "# Compile the model\n",
    "nn_model.compile(optimizer='adam',\n",
    "                 loss='mean_squared_error')\n",
    "\n",
    "# Print model summary\n",
    "nn_model.summary()\n",
    "\n"
   ]
  },
  {
   "cell_type": "code",
   "execution_count": 22,
   "id": "69zqBCNX8mOb",
   "metadata": {
    "colab": {
     "base_uri": "https://localhost:8080/"
    },
    "executionInfo": {
     "elapsed": 225149,
     "status": "ok",
     "timestamp": 1752094338518,
     "user": {
      "displayName": "Aitor Donado",
      "userId": "08246046509718212083"
     },
     "user_tz": -120
    },
    "id": "69zqBCNX8mOb",
    "outputId": "f8dd6316-2022-4e0c-8c52-507335833010"
   },
   "outputs": [
    {
     "name": "stdout",
     "output_type": "stream",
     "text": [
      "\n",
      "Training the Neural Network...\n",
      "Epoch 1/50\n",
      "\u001b[1m1127/1127\u001b[0m \u001b[32m━━━━━━━━━━━━━━━━━━━━\u001b[0m\u001b[37m\u001b[0m \u001b[1m4s\u001b[0m 2ms/step - loss: 21206761472.0000 - val_loss: 5289775104.0000\n",
      "Epoch 2/50\n",
      "\u001b[1m1127/1127\u001b[0m \u001b[32m━━━━━━━━━━━━━━━━━━━━\u001b[0m\u001b[37m\u001b[0m \u001b[1m4s\u001b[0m 2ms/step - loss: 21206761472.0000 - val_loss: 5289775104.0000\n",
      "Epoch 2/50\n",
      "\u001b[1m1127/1127\u001b[0m \u001b[32m━━━━━━━━━━━━━━━━━━━━\u001b[0m\u001b[37m\u001b[0m \u001b[1m2s\u001b[0m 2ms/step - loss: 5151990784.0000 - val_loss: 5174841344.0000\n",
      "Epoch 3/50\n",
      "\u001b[1m1127/1127\u001b[0m \u001b[32m━━━━━━━━━━━━━━━━━━━━\u001b[0m\u001b[37m\u001b[0m \u001b[1m2s\u001b[0m 2ms/step - loss: 5151990784.0000 - val_loss: 5174841344.0000\n",
      "Epoch 3/50\n",
      "\u001b[1m1127/1127\u001b[0m \u001b[32m━━━━━━━━━━━━━━━━━━━━\u001b[0m\u001b[37m\u001b[0m \u001b[1m2s\u001b[0m 2ms/step - loss: 5396887040.0000 - val_loss: 5137072640.0000\n",
      "Epoch 4/50\n",
      "\u001b[1m1127/1127\u001b[0m \u001b[32m━━━━━━━━━━━━━━━━━━━━\u001b[0m\u001b[37m\u001b[0m \u001b[1m2s\u001b[0m 2ms/step - loss: 5396887040.0000 - val_loss: 5137072640.0000\n",
      "Epoch 4/50\n",
      "\u001b[1m1127/1127\u001b[0m \u001b[32m━━━━━━━━━━━━━━━━━━━━\u001b[0m\u001b[37m\u001b[0m \u001b[1m2s\u001b[0m 2ms/step - loss: 5069029888.0000 - val_loss: 5115871232.0000\n",
      "Epoch 5/50\n",
      "\u001b[1m1127/1127\u001b[0m \u001b[32m━━━━━━━━━━━━━━━━━━━━\u001b[0m\u001b[37m\u001b[0m \u001b[1m2s\u001b[0m 2ms/step - loss: 5069029888.0000 - val_loss: 5115871232.0000\n",
      "Epoch 5/50\n",
      "\u001b[1m1127/1127\u001b[0m \u001b[32m━━━━━━━━━━━━━━━━━━━━\u001b[0m\u001b[37m\u001b[0m \u001b[1m3s\u001b[0m 2ms/step - loss: 5097906688.0000 - val_loss: 5098182144.0000\n",
      "Epoch 6/50\n",
      "\u001b[1m1127/1127\u001b[0m \u001b[32m━━━━━━━━━━━━━━━━━━━━\u001b[0m\u001b[37m\u001b[0m \u001b[1m3s\u001b[0m 2ms/step - loss: 5097906688.0000 - val_loss: 5098182144.0000\n",
      "Epoch 6/50\n",
      "\u001b[1m1127/1127\u001b[0m \u001b[32m━━━━━━━━━━━━━━━━━━━━\u001b[0m\u001b[37m\u001b[0m \u001b[1m2s\u001b[0m 2ms/step - loss: 5175613440.0000 - val_loss: 5092370944.0000\n",
      "Epoch 7/50\n",
      "\u001b[1m1127/1127\u001b[0m \u001b[32m━━━━━━━━━━━━━━━━━━━━\u001b[0m\u001b[37m\u001b[0m \u001b[1m2s\u001b[0m 2ms/step - loss: 5175613440.0000 - val_loss: 5092370944.0000\n",
      "Epoch 7/50\n",
      "\u001b[1m1127/1127\u001b[0m \u001b[32m━━━━━━━━━━━━━━━━━━━━\u001b[0m\u001b[37m\u001b[0m \u001b[1m2s\u001b[0m 2ms/step - loss: 5264595968.0000 - val_loss: 5092573184.0000\n",
      "Epoch 8/50\n",
      "\u001b[1m1127/1127\u001b[0m \u001b[32m━━━━━━━━━━━━━━━━━━━━\u001b[0m\u001b[37m\u001b[0m \u001b[1m2s\u001b[0m 2ms/step - loss: 5264595968.0000 - val_loss: 5092573184.0000\n",
      "Epoch 8/50\n",
      "\u001b[1m1127/1127\u001b[0m \u001b[32m━━━━━━━━━━━━━━━━━━━━\u001b[0m\u001b[37m\u001b[0m \u001b[1m3s\u001b[0m 2ms/step - loss: 5106934784.0000 - val_loss: 5101499392.0000\n",
      "Epoch 9/50\n",
      "\u001b[1m1127/1127\u001b[0m \u001b[32m━━━━━━━━━━━━━━━━━━━━\u001b[0m\u001b[37m\u001b[0m \u001b[1m3s\u001b[0m 2ms/step - loss: 5106934784.0000 - val_loss: 5101499392.0000\n",
      "Epoch 9/50\n",
      "\u001b[1m1127/1127\u001b[0m \u001b[32m━━━━━━━━━━━━━━━━━━━━\u001b[0m\u001b[37m\u001b[0m \u001b[1m2s\u001b[0m 2ms/step - loss: 5153779200.0000 - val_loss: 5082344960.0000\n",
      "Epoch 10/50\n",
      "\u001b[1m1127/1127\u001b[0m \u001b[32m━━━━━━━━━━━━━━━━━━━━\u001b[0m\u001b[37m\u001b[0m \u001b[1m2s\u001b[0m 2ms/step - loss: 5153779200.0000 - val_loss: 5082344960.0000\n",
      "Epoch 10/50\n",
      "\u001b[1m1127/1127\u001b[0m \u001b[32m━━━━━━━━━━━━━━━━━━━━\u001b[0m\u001b[37m\u001b[0m \u001b[1m2s\u001b[0m 2ms/step - loss: 5151299584.0000 - val_loss: 5077056000.0000\n",
      "Epoch 11/50\n",
      "\u001b[1m1127/1127\u001b[0m \u001b[32m━━━━━━━━━━━━━━━━━━━━\u001b[0m\u001b[37m\u001b[0m \u001b[1m2s\u001b[0m 2ms/step - loss: 5151299584.0000 - val_loss: 5077056000.0000\n",
      "Epoch 11/50\n",
      "\u001b[1m1127/1127\u001b[0m \u001b[32m━━━━━━━━━━━━━━━━━━━━\u001b[0m\u001b[37m\u001b[0m \u001b[1m3s\u001b[0m 2ms/step - loss: 5165822464.0000 - val_loss: 5078763008.0000\n",
      "Epoch 12/50\n",
      "\u001b[1m1127/1127\u001b[0m \u001b[32m━━━━━━━━━━━━━━━━━━━━\u001b[0m\u001b[37m\u001b[0m \u001b[1m3s\u001b[0m 2ms/step - loss: 5165822464.0000 - val_loss: 5078763008.0000\n",
      "Epoch 12/50\n",
      "\u001b[1m1127/1127\u001b[0m \u001b[32m━━━━━━━━━━━━━━━━━━━━\u001b[0m\u001b[37m\u001b[0m \u001b[1m2s\u001b[0m 2ms/step - loss: 5079437312.0000 - val_loss: 5070816256.0000\n",
      "Epoch 13/50\n",
      "\u001b[1m1127/1127\u001b[0m \u001b[32m━━━━━━━━━━━━━━━━━━━━\u001b[0m\u001b[37m\u001b[0m \u001b[1m2s\u001b[0m 2ms/step - loss: 5079437312.0000 - val_loss: 5070816256.0000\n",
      "Epoch 13/50\n",
      "\u001b[1m1127/1127\u001b[0m \u001b[32m━━━━━━━━━━━━━━━━━━━━\u001b[0m\u001b[37m\u001b[0m \u001b[1m3s\u001b[0m 2ms/step - loss: 5037341696.0000 - val_loss: 5081264128.0000\n",
      "Epoch 14/50\n",
      "\u001b[1m1127/1127\u001b[0m \u001b[32m━━━━━━━━━━━━━━━━━━━━\u001b[0m\u001b[37m\u001b[0m \u001b[1m3s\u001b[0m 2ms/step - loss: 5037341696.0000 - val_loss: 5081264128.0000\n",
      "Epoch 14/50\n",
      "\u001b[1m1127/1127\u001b[0m \u001b[32m━━━━━━━━━━━━━━━━━━━━\u001b[0m\u001b[37m\u001b[0m \u001b[1m3s\u001b[0m 2ms/step - loss: 5052647424.0000 - val_loss: 5066880000.0000\n",
      "Epoch 15/50\n",
      "\u001b[1m1127/1127\u001b[0m \u001b[32m━━━━━━━━━━━━━━━━━━━━\u001b[0m\u001b[37m\u001b[0m \u001b[1m3s\u001b[0m 2ms/step - loss: 5052647424.0000 - val_loss: 5066880000.0000\n",
      "Epoch 15/50\n",
      "\u001b[1m1127/1127\u001b[0m \u001b[32m━━━━━━━━━━━━━━━━━━━━\u001b[0m\u001b[37m\u001b[0m \u001b[1m2s\u001b[0m 2ms/step - loss: 5222495744.0000 - val_loss: 5065450496.0000\n",
      "Epoch 16/50\n",
      "\u001b[1m1127/1127\u001b[0m \u001b[32m━━━━━━━━━━━━━━━━━━━━\u001b[0m\u001b[37m\u001b[0m \u001b[1m2s\u001b[0m 2ms/step - loss: 5222495744.0000 - val_loss: 5065450496.0000\n",
      "Epoch 16/50\n",
      "\u001b[1m1127/1127\u001b[0m \u001b[32m━━━━━━━━━━━━━━━━━━━━\u001b[0m\u001b[37m\u001b[0m \u001b[1m2s\u001b[0m 2ms/step - loss: 5090118144.0000 - val_loss: 5064367616.0000\n",
      "Epoch 17/50\n",
      "\u001b[1m1127/1127\u001b[0m \u001b[32m━━━━━━━━━━━━━━━━━━━━\u001b[0m\u001b[37m\u001b[0m \u001b[1m2s\u001b[0m 2ms/step - loss: 5090118144.0000 - val_loss: 5064367616.0000\n",
      "Epoch 17/50\n",
      "\u001b[1m1127/1127\u001b[0m \u001b[32m━━━━━━━━━━━━━━━━━━━━\u001b[0m\u001b[37m\u001b[0m \u001b[1m2s\u001b[0m 2ms/step - loss: 5047648768.0000 - val_loss: 5069599744.0000\n",
      "Epoch 18/50\n",
      "\u001b[1m1127/1127\u001b[0m \u001b[32m━━━━━━━━━━━━━━━━━━━━\u001b[0m\u001b[37m\u001b[0m \u001b[1m2s\u001b[0m 2ms/step - loss: 5047648768.0000 - val_loss: 5069599744.0000\n",
      "Epoch 18/50\n",
      "\u001b[1m1127/1127\u001b[0m \u001b[32m━━━━━━━━━━━━━━━━━━━━\u001b[0m\u001b[37m\u001b[0m \u001b[1m2s\u001b[0m 2ms/step - loss: 5090244096.0000 - val_loss: 5052076032.0000\n",
      "Epoch 19/50\n",
      "\u001b[1m1127/1127\u001b[0m \u001b[32m━━━━━━━━━━━━━━━━━━━━\u001b[0m\u001b[37m\u001b[0m \u001b[1m2s\u001b[0m 2ms/step - loss: 5090244096.0000 - val_loss: 5052076032.0000\n",
      "Epoch 19/50\n",
      "\u001b[1m1127/1127\u001b[0m \u001b[32m━━━━━━━━━━━━━━━━━━━━\u001b[0m\u001b[37m\u001b[0m \u001b[1m2s\u001b[0m 2ms/step - loss: 5107137536.0000 - val_loss: 5049731072.0000\n",
      "Epoch 20/50\n",
      "\u001b[1m1127/1127\u001b[0m \u001b[32m━━━━━━━━━━━━━━━━━━━━\u001b[0m\u001b[37m\u001b[0m \u001b[1m2s\u001b[0m 2ms/step - loss: 5107137536.0000 - val_loss: 5049731072.0000\n",
      "Epoch 20/50\n",
      "\u001b[1m1127/1127\u001b[0m \u001b[32m━━━━━━━━━━━━━━━━━━━━\u001b[0m\u001b[37m\u001b[0m \u001b[1m2s\u001b[0m 2ms/step - loss: 5030577152.0000 - val_loss: 5060691456.0000\n",
      "Epoch 21/50\n",
      "\u001b[1m1127/1127\u001b[0m \u001b[32m━━━━━━━━━━━━━━━━━━━━\u001b[0m\u001b[37m\u001b[0m \u001b[1m2s\u001b[0m 2ms/step - loss: 5030577152.0000 - val_loss: 5060691456.0000\n",
      "Epoch 21/50\n",
      "\u001b[1m1127/1127\u001b[0m \u001b[32m━━━━━━━━━━━━━━━━━━━━\u001b[0m\u001b[37m\u001b[0m \u001b[1m3s\u001b[0m 2ms/step - loss: 5159825408.0000 - val_loss: 5057829376.0000\n",
      "Epoch 22/50\n",
      "\u001b[1m1127/1127\u001b[0m \u001b[32m━━━━━━━━━━━━━━━━━━━━\u001b[0m\u001b[37m\u001b[0m \u001b[1m3s\u001b[0m 2ms/step - loss: 5159825408.0000 - val_loss: 5057829376.0000\n",
      "Epoch 22/50\n",
      "\u001b[1m1127/1127\u001b[0m \u001b[32m━━━━━━━━━━━━━━━━━━━━\u001b[0m\u001b[37m\u001b[0m \u001b[1m2s\u001b[0m 2ms/step - loss: 5061624320.0000 - val_loss: 5045531648.0000\n",
      "Epoch 23/50\n",
      "\u001b[1m1127/1127\u001b[0m \u001b[32m━━━━━━━━━━━━━━━━━━━━\u001b[0m\u001b[37m\u001b[0m \u001b[1m2s\u001b[0m 2ms/step - loss: 5061624320.0000 - val_loss: 5045531648.0000\n",
      "Epoch 23/50\n",
      "\u001b[1m1127/1127\u001b[0m \u001b[32m━━━━━━━━━━━━━━━━━━━━\u001b[0m\u001b[37m\u001b[0m \u001b[1m2s\u001b[0m 2ms/step - loss: 5245491712.0000 - val_loss: 5046744064.0000\n",
      "Epoch 24/50\n",
      "\u001b[1m1127/1127\u001b[0m \u001b[32m━━━━━━━━━━━━━━━━━━━━\u001b[0m\u001b[37m\u001b[0m \u001b[1m2s\u001b[0m 2ms/step - loss: 5245491712.0000 - val_loss: 5046744064.0000\n",
      "Epoch 24/50\n",
      "\u001b[1m1127/1127\u001b[0m \u001b[32m━━━━━━━━━━━━━━━━━━━━\u001b[0m\u001b[37m\u001b[0m \u001b[1m2s\u001b[0m 2ms/step - loss: 4934738432.0000 - val_loss: 5040616448.0000\n",
      "Epoch 25/50\n",
      "\u001b[1m1127/1127\u001b[0m \u001b[32m━━━━━━━━━━━━━━━━━━━━\u001b[0m\u001b[37m\u001b[0m \u001b[1m2s\u001b[0m 2ms/step - loss: 4934738432.0000 - val_loss: 5040616448.0000\n",
      "Epoch 25/50\n",
      "\u001b[1m1127/1127\u001b[0m \u001b[32m━━━━━━━━━━━━━━━━━━━━\u001b[0m\u001b[37m\u001b[0m \u001b[1m3s\u001b[0m 2ms/step - loss: 5095500800.0000 - val_loss: 5042196992.0000\n",
      "Epoch 26/50\n",
      "\u001b[1m1127/1127\u001b[0m \u001b[32m━━━━━━━━━━━━━━━━━━━━\u001b[0m\u001b[37m\u001b[0m \u001b[1m3s\u001b[0m 2ms/step - loss: 5095500800.0000 - val_loss: 5042196992.0000\n",
      "Epoch 26/50\n",
      "\u001b[1m1127/1127\u001b[0m \u001b[32m━━━━━━━━━━━━━━━━━━━━\u001b[0m\u001b[37m\u001b[0m \u001b[1m2s\u001b[0m 2ms/step - loss: 5004499456.0000 - val_loss: 5034843136.0000\n",
      "Epoch 27/50\n",
      "\u001b[1m1127/1127\u001b[0m \u001b[32m━━━━━━━━━━━━━━━━━━━━\u001b[0m\u001b[37m\u001b[0m \u001b[1m2s\u001b[0m 2ms/step - loss: 5004499456.0000 - val_loss: 5034843136.0000\n",
      "Epoch 27/50\n",
      "\u001b[1m1127/1127\u001b[0m \u001b[32m━━━━━━━━━━━━━━━━━━━━\u001b[0m\u001b[37m\u001b[0m \u001b[1m2s\u001b[0m 2ms/step - loss: 4943095296.0000 - val_loss: 5038460928.0000\n",
      "Epoch 28/50\n",
      "\u001b[1m1127/1127\u001b[0m \u001b[32m━━━━━━━━━━━━━━━━━━━━\u001b[0m\u001b[37m\u001b[0m \u001b[1m2s\u001b[0m 2ms/step - loss: 4943095296.0000 - val_loss: 5038460928.0000\n",
      "Epoch 28/50\n",
      "\u001b[1m1127/1127\u001b[0m \u001b[32m━━━━━━━━━━━━━━━━━━━━\u001b[0m\u001b[37m\u001b[0m \u001b[1m2s\u001b[0m 2ms/step - loss: 5197630976.0000 - val_loss: 5040385024.0000\n",
      "Epoch 29/50\n",
      "\u001b[1m1127/1127\u001b[0m \u001b[32m━━━━━━━━━━━━━━━━━━━━\u001b[0m\u001b[37m\u001b[0m \u001b[1m2s\u001b[0m 2ms/step - loss: 5197630976.0000 - val_loss: 5040385024.0000\n",
      "Epoch 29/50\n",
      "\u001b[1m1127/1127\u001b[0m \u001b[32m━━━━━━━━━━━━━━━━━━━━\u001b[0m\u001b[37m\u001b[0m \u001b[1m2s\u001b[0m 2ms/step - loss: 5207064576.0000 - val_loss: 5033271808.0000\n",
      "Epoch 30/50\n",
      "\u001b[1m1127/1127\u001b[0m \u001b[32m━━━━━━━━━━━━━━━━━━━━\u001b[0m\u001b[37m\u001b[0m \u001b[1m2s\u001b[0m 2ms/step - loss: 5207064576.0000 - val_loss: 5033271808.0000\n",
      "Epoch 30/50\n",
      "\u001b[1m1127/1127\u001b[0m \u001b[32m━━━━━━━━━━━━━━━━━━━━\u001b[0m\u001b[37m\u001b[0m \u001b[1m2s\u001b[0m 2ms/step - loss: 4906168320.0000 - val_loss: 5028427776.0000\n",
      "Epoch 31/50\n",
      "\u001b[1m1127/1127\u001b[0m \u001b[32m━━━━━━━━━━━━━━━━━━━━\u001b[0m\u001b[37m\u001b[0m \u001b[1m2s\u001b[0m 2ms/step - loss: 4906168320.0000 - val_loss: 5028427776.0000\n",
      "Epoch 31/50\n",
      "\u001b[1m1127/1127\u001b[0m \u001b[32m━━━━━━━━━━━━━━━━━━━━\u001b[0m\u001b[37m\u001b[0m \u001b[1m2s\u001b[0m 2ms/step - loss: 5076449280.0000 - val_loss: 5030094336.0000\n",
      "Epoch 32/50\n",
      "\u001b[1m1127/1127\u001b[0m \u001b[32m━━━━━━━━━━━━━━━━━━━━\u001b[0m\u001b[37m\u001b[0m \u001b[1m2s\u001b[0m 2ms/step - loss: 5076449280.0000 - val_loss: 5030094336.0000\n",
      "Epoch 32/50\n",
      "\u001b[1m1127/1127\u001b[0m \u001b[32m━━━━━━━━━━━━━━━━━━━━\u001b[0m\u001b[37m\u001b[0m \u001b[1m3s\u001b[0m 2ms/step - loss: 5029123072.0000 - val_loss: 5030166016.0000\n",
      "Epoch 33/50\n",
      "\u001b[1m1127/1127\u001b[0m \u001b[32m━━━━━━━━━━━━━━━━━━━━\u001b[0m\u001b[37m\u001b[0m \u001b[1m3s\u001b[0m 2ms/step - loss: 5029123072.0000 - val_loss: 5030166016.0000\n",
      "Epoch 33/50\n",
      "\u001b[1m1127/1127\u001b[0m \u001b[32m━━━━━━━━━━━━━━━━━━━━\u001b[0m\u001b[37m\u001b[0m \u001b[1m2s\u001b[0m 2ms/step - loss: 5145837056.0000 - val_loss: 5026813440.0000\n",
      "Epoch 34/50\n",
      "\u001b[1m1127/1127\u001b[0m \u001b[32m━━━━━━━━━━━━━━━━━━━━\u001b[0m\u001b[37m\u001b[0m \u001b[1m2s\u001b[0m 2ms/step - loss: 5145837056.0000 - val_loss: 5026813440.0000\n",
      "Epoch 34/50\n",
      "\u001b[1m1127/1127\u001b[0m \u001b[32m━━━━━━━━━━━━━━━━━━━━\u001b[0m\u001b[37m\u001b[0m \u001b[1m3s\u001b[0m 2ms/step - loss: 5009497088.0000 - val_loss: 5021987840.0000\n",
      "Epoch 35/50\n",
      "\u001b[1m1127/1127\u001b[0m \u001b[32m━━━━━━━━━━━━━━━━━━━━\u001b[0m\u001b[37m\u001b[0m \u001b[1m3s\u001b[0m 2ms/step - loss: 5009497088.0000 - val_loss: 5021987840.0000\n",
      "Epoch 35/50\n",
      "\u001b[1m1127/1127\u001b[0m \u001b[32m━━━━━━━━━━━━━━━━━━━━\u001b[0m\u001b[37m\u001b[0m \u001b[1m2s\u001b[0m 2ms/step - loss: 5124395008.0000 - val_loss: 5040366080.0000\n",
      "Epoch 36/50\n",
      "\u001b[1m1127/1127\u001b[0m \u001b[32m━━━━━━━━━━━━━━━━━━━━\u001b[0m\u001b[37m\u001b[0m \u001b[1m2s\u001b[0m 2ms/step - loss: 5124395008.0000 - val_loss: 5040366080.0000\n",
      "Epoch 36/50\n",
      "\u001b[1m1127/1127\u001b[0m \u001b[32m━━━━━━━━━━━━━━━━━━━━\u001b[0m\u001b[37m\u001b[0m \u001b[1m2s\u001b[0m 2ms/step - loss: 5094916096.0000 - val_loss: 5019994112.0000\n",
      "Epoch 37/50\n",
      "\u001b[1m1127/1127\u001b[0m \u001b[32m━━━━━━━━━━━━━━━━━━━━\u001b[0m\u001b[37m\u001b[0m \u001b[1m2s\u001b[0m 2ms/step - loss: 5094916096.0000 - val_loss: 5019994112.0000\n",
      "Epoch 37/50\n",
      "\u001b[1m1127/1127\u001b[0m \u001b[32m━━━━━━━━━━━━━━━━━━━━\u001b[0m\u001b[37m\u001b[0m \u001b[1m3s\u001b[0m 2ms/step - loss: 4966977536.0000 - val_loss: 5015349760.0000\n",
      "Epoch 38/50\n",
      "\u001b[1m1127/1127\u001b[0m \u001b[32m━━━━━━━━━━━━━━━━━━━━\u001b[0m\u001b[37m\u001b[0m \u001b[1m3s\u001b[0m 2ms/step - loss: 4966977536.0000 - val_loss: 5015349760.0000\n",
      "Epoch 38/50\n",
      "\u001b[1m1127/1127\u001b[0m \u001b[32m━━━━━━━━━━━━━━━━━━━━\u001b[0m\u001b[37m\u001b[0m \u001b[1m2s\u001b[0m 2ms/step - loss: 5149044224.0000 - val_loss: 5019656192.0000\n",
      "Epoch 39/50\n",
      "\u001b[1m1127/1127\u001b[0m \u001b[32m━━━━━━━━━━━━━━━━━━━━\u001b[0m\u001b[37m\u001b[0m \u001b[1m2s\u001b[0m 2ms/step - loss: 5149044224.0000 - val_loss: 5019656192.0000\n",
      "Epoch 39/50\n",
      "\u001b[1m1127/1127\u001b[0m \u001b[32m━━━━━━━━━━━━━━━━━━━━\u001b[0m\u001b[37m\u001b[0m \u001b[1m2s\u001b[0m 2ms/step - loss: 5037868032.0000 - val_loss: 5017955840.0000\n",
      "Epoch 40/50\n",
      "\u001b[1m1127/1127\u001b[0m \u001b[32m━━━━━━━━━━━━━━━━━━━━\u001b[0m\u001b[37m\u001b[0m \u001b[1m2s\u001b[0m 2ms/step - loss: 5037868032.0000 - val_loss: 5017955840.0000\n",
      "Epoch 40/50\n",
      "\u001b[1m1127/1127\u001b[0m \u001b[32m━━━━━━━━━━━━━━━━━━━━\u001b[0m\u001b[37m\u001b[0m \u001b[1m2s\u001b[0m 2ms/step - loss: 4991411200.0000 - val_loss: 5018590720.0000\n",
      "Epoch 41/50\n",
      "\u001b[1m1127/1127\u001b[0m \u001b[32m━━━━━━━━━━━━━━━━━━━━\u001b[0m\u001b[37m\u001b[0m \u001b[1m2s\u001b[0m 2ms/step - loss: 4991411200.0000 - val_loss: 5018590720.0000\n",
      "Epoch 41/50\n",
      "\u001b[1m1127/1127\u001b[0m \u001b[32m━━━━━━━━━━━━━━━━━━━━\u001b[0m\u001b[37m\u001b[0m \u001b[1m3s\u001b[0m 2ms/step - loss: 5028548608.0000 - val_loss: 5011241472.0000\n",
      "Epoch 42/50\n",
      "\u001b[1m1127/1127\u001b[0m \u001b[32m━━━━━━━━━━━━━━━━━━━━\u001b[0m\u001b[37m\u001b[0m \u001b[1m3s\u001b[0m 2ms/step - loss: 5028548608.0000 - val_loss: 5011241472.0000\n",
      "Epoch 42/50\n",
      "\u001b[1m1127/1127\u001b[0m \u001b[32m━━━━━━━━━━━━━━━━━━━━\u001b[0m\u001b[37m\u001b[0m \u001b[1m2s\u001b[0m 2ms/step - loss: 5004994560.0000 - val_loss: 5015106560.0000\n",
      "Epoch 43/50\n",
      "\u001b[1m1127/1127\u001b[0m \u001b[32m━━━━━━━━━━━━━━━━━━━━\u001b[0m\u001b[37m\u001b[0m \u001b[1m2s\u001b[0m 2ms/step - loss: 5004994560.0000 - val_loss: 5015106560.0000\n",
      "Epoch 43/50\n",
      "\u001b[1m1127/1127\u001b[0m \u001b[32m━━━━━━━━━━━━━━━━━━━━\u001b[0m\u001b[37m\u001b[0m \u001b[1m2s\u001b[0m 2ms/step - loss: 5113674240.0000 - val_loss: 5019615232.0000\n",
      "Epoch 44/50\n",
      "\u001b[1m1127/1127\u001b[0m \u001b[32m━━━━━━━━━━━━━━━━━━━━\u001b[0m\u001b[37m\u001b[0m \u001b[1m2s\u001b[0m 2ms/step - loss: 5113674240.0000 - val_loss: 5019615232.0000\n",
      "Epoch 44/50\n",
      "\u001b[1m1127/1127\u001b[0m \u001b[32m━━━━━━━━━━━━━━━━━━━━\u001b[0m\u001b[37m\u001b[0m \u001b[1m2s\u001b[0m 2ms/step - loss: 5016201728.0000 - val_loss: 5003467264.0000\n",
      "Epoch 45/50\n",
      "\u001b[1m1127/1127\u001b[0m \u001b[32m━━━━━━━━━━━━━━━━━━━━\u001b[0m\u001b[37m\u001b[0m \u001b[1m2s\u001b[0m 2ms/step - loss: 5016201728.0000 - val_loss: 5003467264.0000\n",
      "Epoch 45/50\n",
      "\u001b[1m1127/1127\u001b[0m \u001b[32m━━━━━━━━━━━━━━━━━━━━\u001b[0m\u001b[37m\u001b[0m \u001b[1m2s\u001b[0m 2ms/step - loss: 5148073984.0000 - val_loss: 5011812352.0000\n",
      "Epoch 46/50\n",
      "\u001b[1m1127/1127\u001b[0m \u001b[32m━━━━━━━━━━━━━━━━━━━━\u001b[0m\u001b[37m\u001b[0m \u001b[1m2s\u001b[0m 2ms/step - loss: 5148073984.0000 - val_loss: 5011812352.0000\n",
      "Epoch 46/50\n",
      "\u001b[1m1127/1127\u001b[0m \u001b[32m━━━━━━━━━━━━━━━━━━━━\u001b[0m\u001b[37m\u001b[0m \u001b[1m3s\u001b[0m 2ms/step - loss: 5054534656.0000 - val_loss: 5001242624.0000\n",
      "Epoch 47/50\n",
      "\u001b[1m1127/1127\u001b[0m \u001b[32m━━━━━━━━━━━━━━━━━━━━\u001b[0m\u001b[37m\u001b[0m \u001b[1m3s\u001b[0m 2ms/step - loss: 5054534656.0000 - val_loss: 5001242624.0000\n",
      "Epoch 47/50\n",
      "\u001b[1m1127/1127\u001b[0m \u001b[32m━━━━━━━━━━━━━━━━━━━━\u001b[0m\u001b[37m\u001b[0m \u001b[1m3s\u001b[0m 2ms/step - loss: 5040757760.0000 - val_loss: 5003329024.0000\n",
      "Epoch 48/50\n",
      "\u001b[1m1127/1127\u001b[0m \u001b[32m━━━━━━━━━━━━━━━━━━━━\u001b[0m\u001b[37m\u001b[0m \u001b[1m3s\u001b[0m 2ms/step - loss: 5040757760.0000 - val_loss: 5003329024.0000\n",
      "Epoch 48/50\n",
      "\u001b[1m1127/1127\u001b[0m \u001b[32m━━━━━━━━━━━━━━━━━━━━\u001b[0m\u001b[37m\u001b[0m \u001b[1m3s\u001b[0m 2ms/step - loss: 5061251584.0000 - val_loss: 5014511104.0000\n",
      "Epoch 49/50\n",
      "\u001b[1m1127/1127\u001b[0m \u001b[32m━━━━━━━━━━━━━━━━━━━━\u001b[0m\u001b[37m\u001b[0m \u001b[1m3s\u001b[0m 2ms/step - loss: 5061251584.0000 - val_loss: 5014511104.0000\n",
      "Epoch 49/50\n",
      "\u001b[1m1127/1127\u001b[0m \u001b[32m━━━━━━━━━━━━━━━━━━━━\u001b[0m\u001b[37m\u001b[0m \u001b[1m2s\u001b[0m 2ms/step - loss: 5131752960.0000 - val_loss: 5005211136.0000\n",
      "Epoch 50/50\n",
      "\u001b[1m1127/1127\u001b[0m \u001b[32m━━━━━━━━━━━━━━━━━━━━\u001b[0m\u001b[37m\u001b[0m \u001b[1m2s\u001b[0m 2ms/step - loss: 5131752960.0000 - val_loss: 5005211136.0000\n",
      "Epoch 50/50\n",
      "\u001b[1m1127/1127\u001b[0m \u001b[32m━━━━━━━━━━━━━━━━━━━━\u001b[0m\u001b[37m\u001b[0m \u001b[1m2s\u001b[0m 2ms/step - loss: 5114531328.0000 - val_loss: 5005792768.0000\n",
      "\u001b[1m1127/1127\u001b[0m \u001b[32m━━━━━━━━━━━━━━━━━━━━\u001b[0m\u001b[37m\u001b[0m \u001b[1m2s\u001b[0m 2ms/step - loss: 5114531328.0000 - val_loss: 5005792768.0000\n",
      "\u001b[1m282/282\u001b[0m \u001b[32m━━━━━━━━━━━━━━━━━━━━\u001b[0m\u001b[37m\u001b[0m \u001b[1m0s\u001b[0m 1ms/step\n",
      "\u001b[1m282/282\u001b[0m \u001b[32m━━━━━━━━━━━━━━━━━━━━\u001b[0m\u001b[37m\u001b[0m \u001b[1m0s\u001b[0m 1ms/step\n",
      "\n",
      "Neural Network Results:\n",
      "Mean Squared Error: 5005794816.00\n",
      "R² Score: 0.19\n",
      "\n",
      "Neural Network Results:\n",
      "Mean Squared Error: 5005794816.00\n",
      "R² Score: 0.19\n"
     ]
    }
   ],
   "source": [
    "# Train the model\n",
    "print(\"\\nTraining the Neural Network...\")\n",
    "history = nn_model.fit(\n",
    "    X_train, y_train,\n",
    "    validation_data=(X_test, y_test),\n",
    "    epochs=50,\n",
    "    batch_size=32,\n",
    "    verbose=1\n",
    ")\n",
    "\n",
    "# Evaluate the model and add results to the dictionary\n",
    "y_pred_nn = nn_model.predict(X_test).flatten()\n",
    "mse_nn = mean_squared_error(y_test, y_pred_nn)\n",
    "r2_nn = r2_score(y_test, y_pred_nn)\n",
    "\n",
    "results[\"Neural Network\"] = {\"MSE\": mse_nn, \"R2\": r2_nn}\n",
    "\n",
    "print(f\"\\nNeural Network Results:\")\n",
    "print(f\"Mean Squared Error: {mse_nn:.2f}\")\n",
    "print(f\"R² Score: {r2_nn:.2f}\")"
   ]
  },
  {
   "cell_type": "code",
   "execution_count": 25,
   "id": "76nufwZm8vcT",
   "metadata": {
    "colab": {
     "base_uri": "https://localhost:8080/",
     "height": 564
    },
    "executionInfo": {
     "elapsed": 206,
     "status": "ok",
     "timestamp": 1752094349707,
     "user": {
      "displayName": "Aitor Donado",
      "userId": "08246046509718212083"
     },
     "user_tz": -120
    },
    "id": "76nufwZm8vcT",
    "outputId": "e0dc1697-fe8f-46ec-eaa3-1963dc44842d"
   },
   "outputs": [
    {
     "data": {
      "image/png": "[encoded data removed]",
      "text/plain": [
       "<Figure size 1000x600 with 1 Axes>"
      ]
     },
     "metadata": {},
     "output_type": "display_data"
    }
   ],
   "source": [
    "# Plot training & validation loss values\n",
    "plt.figure(figsize=(10, 6))\n",
    "plt.plot(history.history['loss'])\n",
    "plt.plot(history.history['val_loss'])\n",
    "plt.title('Model Loss')\n",
    "plt.ylabel('Loss')\n",
    "plt.xlabel('Epoch')\n",
    "plt.legend(['Train', 'Validation'], loc='upper right')\n",
    "plt.show()"
   ]
  },
  {
   "cell_type": "markdown",
   "id": "d720bdec",
   "metadata": {
    "id": "d720bdec"
   },
   "source": [
    "# STEP 8: Comparison Plot (Updated)"
   ]
  },
  {
   "cell_type": "code",
   "execution_count": 24,
   "id": "5aae4840",
   "metadata": {
    "colab": {
     "base_uri": "https://localhost:8080/",
     "height": 607
    },
    "executionInfo": {
     "elapsed": 317,
     "status": "ok",
     "timestamp": 1752094088533,
     "user": {
      "displayName": "Aitor Donado",
      "userId": "08246046509718212083"
     },
     "user_tz": -120
    },
    "id": "5aae4840",
    "outputId": "7f1da74e-67aa-4d27-8341-973676deaada"
   },
   "outputs": [
    {
     "data": {
      "image/png": "[encoded data removed]",
      "text/plain": [
       "<Figure size 1000x600 with 1 Axes>"
      ]
     },
     "metadata": {},
     "output_type": "display_data"
    }
   ],
   "source": [
    "result_df = pd.DataFrame(results).T\n",
    "plt.figure(figsize=(10, 6))\n",
    "sns.barplot(x=result_df.index, y=result_df[\"R2\"])\n",
    "plt.title(\"Model Comparison by R² Score (with Neural Network)\")\n",
    "plt.ylabel(\"R² Score\")\n",
    "plt.xticks(rotation=45, ha='right')\n",
    "plt.ylim(0, 1)\n",
    "plt.tight_layout()\n",
    "plt.show()"
   ]
  },
  {
   "cell_type": "markdown",
   "id": "f0c72254",
   "metadata": {
    "id": "f0c72254"
   },
   "source": [
    "---\n",
    "\n",
    "## Project Summary (Updated)\n",
    "\n",
    "**Title:** *Salary Prediction Using Multiple Regression Models*\n",
    "\n",
    "---\n",
    "\n",
    "###  Step 1–3: Data Preparation\n",
    "\n",
    "* **Loaded data** and performed `df.info()` and `df.head()` to understand the structure.\n",
    "* **Removed duplicates** and ensured there were no missing values.\n",
    "* Normalized text data (e.g., made `job_title` lowercase).\n",
    "* Filtered for the **top 15 most frequent job titles** to simplify modeling.\n",
    "\n",
    "---\n",
    "\n",
    "###  Step 4: Exploratory Data Analysis (EDA)\n",
    "\n",
    "Performed multiple **visualizations** using Seaborn and Matplotlib, revealing clear trends in salary based on experience, employment type, and company size.\n",
    "\n",
    "---\n",
    "\n",
    "###  Step 5–6: Feature Engineering & Preprocessing\n",
    "\n",
    "* Applied **Label Encoding** to categorical columns.\n",
    "* Used **StandardScaler** to normalize numeric features.\n",
    "* Defined `X` (features) and `y` (target: `salary_in_usd`).\n",
    "* **Train-Test Split**: 80% train / 20% test with `random_state=537`.\n",
    "\n",
    "---\n",
    "\n",
    "###  Step 7: Model Training\n",
    "\n",
    "Trained and compared **10 regression models**, including classic algorithms and a new neural network:\n",
    "\n",
    "| Model Type               | Description                              |\n",
    "| ------------------------ | ---------------------------------------- |\n",
    "| Linear Regression Models | Basic linear, Ridge (L2), Lasso (L1).    |\n",
    "| Ensemble Models          | Random Forest, Gradient Boosting, AdaBoost, Extra Trees. |\n",
    "| Other Classic Models     | Support Vector Regressor, K-Nearest Neighbors. |\n",
    "| **Neural Network (New)** | A feed-forward network with Dense and Dropout layers built in TensorFlow/Keras. |\n",
    "\n",
    "Each model was evaluated with **Mean Squared Error (MSE)** and **R² Score**.\n",
    "\n",
    "---\n",
    "\n",
    "###  Step 8: Model Comparison Plot & Conclusion\n",
    "\n",
    "A bar plot was used to visualize the **R² scores of all models**.\n",
    "\n",
    "* **Best Performers:** The ensemble models based on trees (**Random Forest, Gradient Boosting, Extra Trees**) remain the top performers, achieving an R² score of approximately **0.25-0.26**.\n",
    "* **Neural Network Performance:** The TensorFlow model performed competitively, achieving an R² score similar to or slightly better than the linear models, but not outperforming the top ensemble methods on this dataset with the current feature engineering.\n",
    "* **Overall Conclusion:** The relatively low R² scores across all models (max ~0.26) suggest that while there are clear trends, the selected features do not capture a large portion of the salary variance. More advanced feature engineering (e.g., one-hot encoding for key features, interaction terms) or hyperparameter tuning could potentially improve performance further.\n",
    "\n",
    "---\n",
    "\n",
    "# Thank you for taking the time to review my work. I would be very happy if you could upvote! 😊\n",
    "\n",
    "---"
   ]
  }
 ],
 "metadata": {
  "colab": {
   "provenance": []
  },
  "kaggle": {
   "accelerator": "none",
   "dataSources": [
    {
     "datasetId": 7714230,
     "sourceId": 12279051,
     "sourceType": "datasetVersion"
    }
   ],
   "dockerImageVersionId": 31040,
   "isGpuEnabled": false,
   "isInternetEnabled": true,
   "language": "python",
   "sourceType": "notebook"
  },
  "kernelspec": {
   "display_name": ".venv",
   "language": "python",
   "name": "python3"
  },
  "language_info": {
   "codemirror_mode": {
    "name": "ipython",
    "version": 3
   },
   "file_extension": ".py",
   "mimetype": "text/x-python",
   "name": "python",
   "nbconvert_exporter": "python",
   "pygments_lexer": "ipython3",
   "version": "3.12.10"
  }
 },
 "nbformat": 4,
 "nbformat_minor": 5
}
